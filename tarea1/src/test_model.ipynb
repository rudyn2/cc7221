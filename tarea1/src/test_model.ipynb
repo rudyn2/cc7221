{
 "cells": [
  {
   "cell_type": "code",
   "execution_count": 18,
   "id": "25b0bb09",
   "metadata": {},
   "outputs": [],
   "source": [
    "from resnet import Resnet\n",
    "from dataset import *\n",
    "from torch.utils.data import DataLoader\n",
    "import torch"
   ]
  },
  {
   "cell_type": "code",
   "execution_count": 10,
   "id": "34c0ff1e",
   "metadata": {},
   "outputs": [],
   "source": [
    "model = Resnet(19)"
   ]
  },
  {
   "cell_type": "code",
   "execution_count": 12,
   "id": "4bf621c5",
   "metadata": {},
   "outputs": [],
   "source": [
    "train_dataset = ImageDataset(r\"C:\\Users\\C0101\\PycharmProjects\\cc7221\\data\\clothing-small\", 224, 224)\n",
    "train_dataloader = DataLoader(train_dataset, batch_size=16, pin_memory=True, shuffle=True)\n",
    "backbone_resnet = Resnet(19)\n",
    "classifier = ImageClassifier(backbone_resnet)\n",
    "        y_pred = self.backbone(x)['logits'].type(torch.DoubleTensor)  # probability distribution over classes\n",
    "        y = y.type(torch.LongTensor)"
   ]
  },
  {
   "cell_type": "code",
   "execution_count": 24,
   "id": "17485b6d",
   "metadata": {},
   "outputs": [
    {
     "name": "stdout",
     "output_type": "stream",
     "text": [
      "tensor([ 7, 15,  4,  0,  0, 16, 14, 17, 11, 13, 17, 16, 13, 16,  4, 13])\n",
      "tensor([ 8,  2,  2,  8, 12, 15, 10,  4,  2,  3,  2,  3,  1,  6, 17,  4])\n"
     ]
    }
   ],
   "source": [
    "print(torch.argmax(y_pred, dim=1))\n",
    "print(y)"
   ]
  },
  {
   "cell_type": "code",
   "execution_count": 27,
   "id": "9e0c9315",
   "metadata": {},
   "outputs": [
    {
     "data": {
      "text/plain": [
       "tensor(0.)"
      ]
     },
     "execution_count": 27,
     "metadata": {},
     "output_type": "execute_result"
    }
   ],
   "source": [
    "torch.sum(torch.argmax(y_pred, dim=1) == y) / "
   ]
  },
  {
   "cell_type": "code",
   "execution_count": 28,
   "id": "9feac7fa",
   "metadata": {},
   "outputs": [
    {
     "data": {
      "text/plain": [
       "16"
      ]
     },
     "execution_count": 28,
     "metadata": {},
     "output_type": "execute_result"
    }
   ],
   "source": []
  },
  {
   "cell_type": "code",
   "execution_count": null,
   "id": "d485890d",
   "metadata": {},
   "outputs": [],
   "source": []
  }
 ],
 "metadata": {
  "kernelspec": {
   "display_name": "Python 3",
   "language": "python",
   "name": "python3"
  },
  "language_info": {
   "codemirror_mode": {
    "name": "ipython",
    "version": 3
   },
   "file_extension": ".py",
   "mimetype": "text/x-python",
   "name": "python",
   "nbconvert_exporter": "python",
   "pygments_lexer": "ipython3",
   "version": "3.9.2"
  }
 },
 "nbformat": 4,
 "nbformat_minor": 5
}
