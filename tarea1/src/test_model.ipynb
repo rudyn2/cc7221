{
 "cells": [
  {
   "cell_type": "code",
   "execution_count": 2,
   "id": "ba7e2a15",
   "metadata": {},
   "outputs": [],
   "source": [
    "from resnet import Resnet"
   ]
  },
  {
   "cell_type": "code",
   "execution_count": 4,
   "id": "4bd6d13c",
   "metadata": {},
   "outputs": [],
   "source": [
    "model = Resnet(19)"
   ]
  },
  {
   "cell_type": "code",
   "execution_count": null,
   "id": "0c8927ff",
   "metadata": {},
   "outputs": [],
   "source": []
  }
 ],
 "metadata": {
  "kernelspec": {
   "display_name": "Python 3",
   "language": "python",
   "name": "python3"
  },
  "language_info": {
   "codemirror_mode": {
    "name": "ipython",
    "version": 3
   },
   "file_extension": ".py",
   "mimetype": "text/x-python",
   "name": "python",
   "nbconvert_exporter": "python",
   "pygments_lexer": "ipython3",
   "version": "3.9.2"
  }
 },
 "nbformat": 4,
 "nbformat_minor": 5
}
