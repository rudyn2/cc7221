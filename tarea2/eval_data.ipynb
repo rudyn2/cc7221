{
 "cells": [
  {
   "cell_type": "code",
   "execution_count": 1,
   "id": "30b48fa9-90e1-4816-854e-da57867821eb",
   "metadata": {},
   "outputs": [],
   "source": [
    "import matplotlib.pyplot as plt\n",
    "from datasets import FlickrDataset\n",
    "import numpy as np\n",
    "import torch\n",
    "import torchvision.transforms.functional as TF\n",
    "from PIL import Image\n",
    "from torch.utils.data import Dataset\n",
    "from torch.utils.data import DataLoader\n",
    "from torchvision import transforms\n",
    "from tqdm import tqdm\n",
    "from models import ResNet34\n",
    "from models import SiameseNetwork\n",
    "import random\n",
    "from distances import *\n",
    "#from datasets import SketchQueryDataset\n",
    "from datasets import TripletDataset\n",
    "from datasets import ContrastiveDataset\n",
    "import cv2\n",
    "from torch.utils.data import DataLoader\n",
    "from feats import ImageFlickrFeatures\n",
    "from torchvision.transforms import transforms\n",
    "from ranking import Ranker\n",
    "\n",
    "from os import listdir\n",
    "\n",
    "from eval import Evaluator\n",
    "from metrics import *"
   ]
  },
  {
   "cell_type": "code",
   "execution_count": 2,
   "id": "46e35b2a-82e0-4088-85ea-bdc163e64f5c",
   "metadata": {},
   "outputs": [
    {
     "name": "stdout",
     "output_type": "stream",
     "text": [
      "[FLICKR] 33 classes with a total of 14501 samples\n"
     ]
    }
   ],
   "source": [
    "test_flickr_db = FlickrDataset('B:\\Flickr\\Flickr15K\\images')\n",
    "#test_flickr_loader = DataLoader(test_flickr_db, batch_size=8)"
   ]
  },
  {
   "cell_type": "code",
   "execution_count": 3,
   "id": "3315d2d0-e448-4953-842a-114a7418d7da",
   "metadata": {},
   "outputs": [
    {
     "name": "stdout",
     "output_type": "stream",
     "text": [
      "[FLICKR] 33 classes with a total of 14501 samples\n"
     ]
    }
   ],
   "source": [
    "img_per_class = test_flickr_db._build_groups()"
   ]
  },
  {
   "cell_type": "code",
   "execution_count": 4,
   "id": "a05dc1ee-fab3-45fa-a7c0-b095330c980a",
   "metadata": {},
   "outputs": [
    {
     "name": "stdout",
     "output_type": "stream",
     "text": [
      "[FLICKR] 33 classes with a total of 14501 samples\n"
     ]
    }
   ],
   "source": [
    "img_per_class = test_flickr_db._build_groups()\n",
    "len_classes = []\n",
    "for i in range(1,34):\n",
    "    len_classes.append(len(img_per_class[str(i)]))"
   ]
  },
  {
   "cell_type": "code",
   "execution_count": 6,
   "id": "c212b29a-e237-4884-8343-9d8cb44487ac",
   "metadata": {},
   "outputs": [
    {
     "data": {
      "text/plain": [
       "1305"
      ]
     },
     "execution_count": 6,
     "metadata": {},
     "output_type": "execute_result"
    }
   ],
   "source": [
    "len_classes[0]"
   ]
  },
  {
   "cell_type": "code",
   "execution_count": 34,
   "id": "ea9e9e01-c26d-4c1e-bc98-aed4e2ab8b72",
   "metadata": {},
   "outputs": [
    {
     "name": "stdout",
     "output_type": "stream",
     "text": [
      "[FLICKR] 33 classes with a total of 14501 samples\n"
     ]
    }
   ],
   "source": [
    "cpi = test_flickr_db._build_groups()"
   ]
  },
  {
   "cell_type": "code",
   "execution_count": 5,
   "id": "b0680564-0054-433c-b0e7-fc1dcd1896b6",
   "metadata": {},
   "outputs": [
    {
     "name": "stdout",
     "output_type": "stream",
     "text": [
      "Adapting output layers...\n",
      "14501 images loaded successfully\n"
     ]
    }
   ],
   "source": [
    "imagenet_net = ResNet34()\n",
    "sketches_net = ResNet34()\n",
    "\n",
    "print(\"Adapting output layers...\")\n",
    "sketches_net.adapt_fc()\n",
    "imagenet_net.adapt_fc()\n",
    "\n",
    "siamese_net = SiameseNetwork(sketches_net, imagenet_net)\n",
    "siamese_net.load_state_dict(torch.load(r'C:\\Users\\aleja\\Desktop\\Tareas\\Reconocimiento Virtual con Deep Learning\\T2\\best_SiameseNetwork_contrastive.pth'))\n",
    "siamese_net.eval()\n",
    "\n",
    "s = torch.nn.CosineSimilarity()\n",
    "flickr_dataset = ImageFlickrFeatures(\"dbs/features.db\")\n",
    "r = Ranker('B:\\Flickr\\Flickr15K',\n",
    "           image_dataset_features=flickr_dataset,\n",
    "           feature_extractor=siamese_net,\n",
    "           similarity_fn=s)\n",
    "#rank = r.get_rank(r'B:\\Flickr\\Flickr15K\\queries\\1001.png')"
   ]
  },
  {
   "cell_type": "code",
   "execution_count": 42,
   "id": "d883ad7f-d6c8-434b-9536-347312752a6f",
   "metadata": {},
   "outputs": [
    {
     "name": "stderr",
     "output_type": "stream",
     "text": [
      "Querying: 100%|██████████████████████████████████████████████████████████████████| 1813/1813 [00:00<00:00, 3888.56it/s]\n"
     ]
    }
   ],
   "source": [
    "x,y = recall_ratio(r,r'B:\\Flickr\\Flickr15K\\queries\\1001.png',len_classes[0])"
   ]
  },
  {
   "cell_type": "code",
   "execution_count": 43,
   "id": "89ce1a59-3fe1-403b-8afc-eecd9292ddbf",
   "metadata": {},
   "outputs": [
    {
     "data": {
      "text/plain": [
       "Text(0.5, 1.0, 'Recall ratio Curve')"
      ]
     },
     "execution_count": 43,
     "metadata": {},
     "output_type": "execute_result"
    },
    {
     "data": {
      "image/png": "[encoded data removed]",
      "text/plain": [
       "<Figure size 432x288 with 1 Axes>"
      ]
     },
     "metadata": {
      "needs_background": "light"
     },
     "output_type": "display_data"
    }
   ],
   "source": [
    "plt.plot(x,y)\n",
    "plt.xlabel('Recall')\n",
    "plt.ylabel('Retrieved images')\n",
    "plt.title('Recall ratio Curve')"
   ]
  },
  {
   "cell_type": "code",
   "execution_count": 9,
   "id": "e4f22eec-e2f1-49ba-b141-1f1f520924f3",
   "metadata": {},
   "outputs": [
    {
     "data": {
      "text/plain": [
       "14501"
      ]
     },
     "execution_count": 9,
     "metadata": {},
     "output_type": "execute_result"
    }
   ],
   "source": [
    "len(rank[1])"
   ]
  },
  {
   "cell_type": "code",
   "execution_count": 44,
   "id": "9e53e8b2-6b47-4baa-bb92-a52ed776c061",
   "metadata": {},
   "outputs": [
    {
     "name": "stderr",
     "output_type": "stream",
     "text": [
      "Querying: 100%|██████████████████████████████████████████████████████████████████| 1813/1813 [00:00<00:00, 3722.25it/s]\n"
     ]
    }
   ],
   "source": [
    "ap = average_precision(r,r'B:\\Flickr\\Flickr15K\\queries\\1001.png')"
   ]
  },
  {
   "cell_type": "code",
   "execution_count": 45,
   "id": "c79f07fa-1f0f-4429-89cd-2de6d2157451",
   "metadata": {},
   "outputs": [
    {
     "data": {
      "text/plain": [
       "0.12750345488090062"
      ]
     },
     "execution_count": 45,
     "metadata": {},
     "output_type": "execute_result"
    }
   ],
   "source": [
    "ap"
   ]
  },
  {
   "cell_type": "code",
   "execution_count": 6,
   "id": "3ce8f6b5-12c6-48a9-9a6c-83ad3de27dd0",
   "metadata": {},
   "outputs": [],
   "source": [
    "imgs_names = listdir(r'B:\\Flickr\\Flickr15K\\queries')"
   ]
  },
  {
   "cell_type": "code",
   "execution_count": 7,
   "id": "dbcfd4df-22eb-4bc1-ac5e-344d1003ea4a",
   "metadata": {},
   "outputs": [],
   "source": [
    "imgs_names = listdir(r'B:\\Flickr\\Flickr15K\\queries')\n",
    "for i in range(len(imgs_names)):\n",
    "    imgs_names[i] = r'B:/Flickr/Flickr15K/queries/' + imgs_names[i]"
   ]
  },
  {
   "cell_type": "code",
   "execution_count": 7,
   "id": "c6750c9f-2e8b-48c7-b865-3808bbf99806",
   "metadata": {},
   "outputs": [
    {
     "data": {
      "text/plain": [
       "'B:/Flickr/Flickr15K/queries/10001.png'"
      ]
     },
     "execution_count": 7,
     "metadata": {},
     "output_type": "execute_result"
    }
   ],
   "source": [
    "imgs_names[0]"
   ]
  },
  {
   "cell_type": "code",
   "execution_count": 30,
   "id": "06640f2f-c329-4eaa-a5b9-4a70703786fd",
   "metadata": {},
   "outputs": [
    {
     "data": {
      "text/plain": [
       "0.03297857655856321"
      ]
     },
     "execution_count": 30,
     "metadata": {},
     "output_type": "execute_result"
    }
   ],
   "source": [
    "mean_ap"
   ]
  },
  {
   "cell_type": "code",
   "execution_count": 51,
   "id": "b7ef9d6b-c540-4913-8f94-8f84c61dc029",
   "metadata": {},
   "outputs": [
    {
     "data": {
      "text/plain": [
       "array([1.        , 0.25359712, 0.15508021, 0.11218679, 0.09577982,\n",
       "       0.08531451, 0.08052242, 0.08170473, 0.08556851, 0.0900988 ,\n",
       "       0.09007454])"
      ]
     },
     "execution_count": 51,
     "metadata": {},
     "output_type": "execute_result"
    }
   ],
   "source": [
    "rps[0]"
   ]
  },
  {
   "cell_type": "code",
   "execution_count": 44,
   "id": "ea60503b-9414-4b99-8f9c-a7b0ef4822f8",
   "metadata": {},
   "outputs": [],
   "source": [
    "def recall_prec_tot(r, path_list):\n",
    "    test_flickr_db = FlickrDataset('B:\\Flickr\\Flickr15K\\images')\n",
    "    img_per_class = test_flickr_db._build_groups()\n",
    "    len_classes = []\n",
    "    for i in range(1,34):\n",
    "        len_classes.append(len(img_per_class[str(i)]))\n",
    "    ranks= []\n",
    "    cs =[]\n",
    "    for j in range(len(path_list)):\n",
    "        c,rank = r.get_rank(path_list[j])\n",
    "        cs.append(c)\n",
    "        ranks.append(rank)\n",
    "    rps = []\n",
    "    for i in range(len(path_list)):\n",
    "        rp = recall_presicion2(cs[i],ranks[i],len_classes[cs[i]-1])\n",
    "        print(cs[i]-1)\n",
    "        rps.append(rp)\n",
    "    return rps\n",
    "    "
   ]
  },
  {
   "cell_type": "code",
   "execution_count": null,
   "id": "22243838-12f5-44f8-8a8f-f9b736696d88",
   "metadata": {},
   "outputs": [],
   "source": [
    "rps = recall_prec_tot(r,imgs_names)"
   ]
  },
  {
   "cell_type": "code",
   "execution_count": null,
   "id": "deb0a332-9e10-440b-9333-cf8a07d2b6af",
   "metadata": {},
   "outputs": [],
   "source": []
  },
  {
   "cell_type": "code",
   "execution_count": null,
   "id": "b8fd4f8c-d9fb-4c28-b6aa-d4bb05fb8994",
   "metadata": {},
   "outputs": [],
   "source": []
  },
  {
   "cell_type": "code",
   "execution_count": 21,
   "id": "4da01cdc-55bf-42f2-8992-b330bf6af96c",
   "metadata": {},
   "outputs": [],
   "source": [
    "pplot = np.mean(rps, 0)"
   ]
  },
  {
   "cell_type": "code",
   "execution_count": 22,
   "id": "959c4056-6a16-4244-af88-58b21ab85f93",
   "metadata": {},
   "outputs": [
    {
     "data": {
      "text/plain": [
       "Text(0.5, 1.0, 'Recall-Precision Curve')"
      ]
     },
     "execution_count": 22,
     "metadata": {},
     "output_type": "execute_result"
    },
    {
     "data": {
      "image/png": "[encoded data removed]",
      "text/plain": [
       "<Figure size 432x288 with 1 Axes>"
      ]
     },
     "metadata": {
      "needs_background": "light"
     },
     "output_type": "display_data"
    }
   ],
   "source": [
    "plt.plot(recalls,pplot)\n",
    "plt.xlabel('Recall')\n",
    "plt.ylabel('Precision')\n",
    "plt.title('Recall-Precision Curve')"
   ]
  },
  {
   "cell_type": "code",
   "execution_count": 29,
   "id": "4b6a09dc-fb53-4fc4-98b2-e12fac5e5bdf",
   "metadata": {},
   "outputs": [
    {
     "data": {
      "text/plain": [
       "array([1.        , 0.25359712, 0.15508021, 0.11218679, 0.09577982,\n",
       "       0.08531451, 0.08052242, 0.08170473, 0.08556851, 0.0900988 ,\n",
       "       0.09007454])"
      ]
     },
     "execution_count": 29,
     "metadata": {},
     "output_type": "execute_result"
    }
   ],
   "source": [
    "rps[0]"
   ]
  },
  {
   "cell_type": "code",
   "execution_count": null,
   "id": "3610bc96-09f6-4ed7-bcbe-105babaf0b9d",
   "metadata": {},
   "outputs": [],
   "source": []
  },
  {
   "cell_type": "code",
   "execution_count": 31,
   "id": "1e32f368-4be9-405d-9ac4-6e1c28001632",
   "metadata": {},
   "outputs": [
    {
     "data": {
      "text/plain": [
       "'B:/Flickr/Flickr15K/queries/10001.png'"
      ]
     },
     "execution_count": 31,
     "metadata": {},
     "output_type": "execute_result"
    }
   ],
   "source": [
    "imgs_names[0]"
   ]
  },
  {
   "cell_type": "code",
   "execution_count": 27,
   "id": "c1cdacfb-b9c8-4c05-b149-8f388af6a79f",
   "metadata": {},
   "outputs": [
    {
     "name": "stderr",
     "output_type": "stream",
     "text": [
      "Querying: 100%|██████████████████████████████████████████████████████████████████| 1813/1813 [00:00<00:00, 3647.95it/s]\n"
     ]
    }
   ],
   "source": [
    "rp = recall_presicion(r,r'B:\\Flickr\\Flickr15K\\queries\\1001.png',len_classes[0])"
   ]
  },
  {
   "cell_type": "code",
   "execution_count": 28,
   "id": "41a1a54a-1468-4acf-9358-649c98ce1773",
   "metadata": {},
   "outputs": [
    {
     "data": {
      "text/plain": [
       "array([0.75      , 0.22596965, 0.15498812, 0.10945274, 0.09507487,\n",
       "       0.08863852, 0.08119038, 0.08232407, 0.08529668, 0.08998689,\n",
       "       0.09003726])"
      ]
     },
     "execution_count": 28,
     "metadata": {},
     "output_type": "execute_result"
    }
   ],
   "source": [
    "rp"
   ]
  },
  {
   "cell_type": "code",
   "execution_count": 11,
   "id": "3e53a82e-4487-4506-974a-4399d46ed948",
   "metadata": {},
   "outputs": [
    {
     "data": {
      "text/plain": [
       "Text(0.5, 1.0, 'Recall-Precision Curve')"
      ]
     },
     "execution_count": 11,
     "metadata": {},
     "output_type": "execute_result"
    },
    {
     "data": {
      "image/png": "[encoded data removed]",
      "text/plain": [
       "<Figure size 432x288 with 1 Axes>"
      ]
     },
     "metadata": {
      "needs_background": "light"
     },
     "output_type": "display_data"
    }
   ],
   "source": [
    "plt.plot(recalls,rp)\n",
    "plt.xlabel('Recall')\n",
    "plt.ylabel('Precision')\n",
    "plt.title('Recall-Precision Curve')"
   ]
  },
  {
   "cell_type": "code",
   "execution_count": null,
   "id": "c0455287-c17c-446b-9d0e-1118db4bcbe9",
   "metadata": {},
   "outputs": [],
   "source": [
    "rank1 = r.get_rank()"
   ]
  },
  {
   "cell_type": "code",
   "execution_count": 44,
   "id": "7f6dca73-6142-47cc-8ed7-10b2d85b6ebb",
   "metadata": {},
   "outputs": [],
   "source": [
    "prec = np.zeros(11)\n",
    "cont = 0\n",
    "cont2 = 0\n",
    "\n",
    "for i in range(len(rank[1])):\n",
    "    if rank[1][i][1] == 1:\n",
    "        cont = (1+ cont2)/(i+1)\n",
    "        cont2 += 1\n",
    "        idx = int((cont2/len_classes[0])*10)\n",
    "        if cont > prec[idx]:\n",
    "            prec[idx] = cont\n",
    "            \n",
    "        "
   ]
  },
  {
   "cell_type": "code",
   "execution_count": 45,
   "id": "30cbff29-1818-4489-badd-0d44b8bd94b7",
   "metadata": {},
   "outputs": [
    {
     "data": {
      "text/plain": [
       "array([0.75      , 0.22596965, 0.15498812, 0.10945274, 0.09507487,\n",
       "       0.08863852, 0.08119038, 0.08232407, 0.08529668, 0.08998689,\n",
       "       0.09003726])"
      ]
     },
     "execution_count": 45,
     "metadata": {},
     "output_type": "execute_result"
    }
   ],
   "source": [
    "prec"
   ]
  },
  {
   "cell_type": "code",
   "execution_count": 20,
   "id": "2bf8ebca-d943-477e-acc5-d3f0e934b2f1",
   "metadata": {},
   "outputs": [],
   "source": [
    "recalls = np.array([0, 0.1, 0.2, 0.3, 0.4, 0.5, 0.6, 0.7, 0.8, 0.9, 1.0])"
   ]
  },
  {
   "cell_type": "code",
   "execution_count": 49,
   "id": "25067627-28e2-45b9-902b-949b694a430a",
   "metadata": {},
   "outputs": [
    {
     "data": {
      "text/plain": [
       "[<matplotlib.lines.Line2D at 0x1ebe3df4760>]"
      ]
     },
     "execution_count": 49,
     "metadata": {},
     "output_type": "execute_result"
    },
    {
     "data": {
      "image/png": "[encoded data removed]",
      "text/plain": [
       "<Figure size 432x288 with 1 Axes>"
      ]
     },
     "metadata": {
      "needs_background": "light"
     },
     "output_type": "display_data"
    }
   ],
   "source": [
    "plt.plot(recalls,prec,'-')"
   ]
  },
  {
   "cell_type": "code",
   "execution_count": 29,
   "id": "adb9f872-0be2-4e5f-8c79-e5c24fbee69b",
   "metadata": {},
   "outputs": [
    {
     "name": "stderr",
     "output_type": "stream",
     "text": [
      "Querying: 100%|██████████████████████████████████████████████████████████████████| 1813/1813 [00:00<00:00, 3666.04it/s]\n"
     ]
    }
   ],
   "source": [
    "rank1 = r.get_rank(imgs_names[7])"
   ]
  },
  {
   "cell_type": "code",
   "execution_count": 2,
   "id": "bb30a071-ed4d-4be5-9fbb-f9add1700433",
   "metadata": {},
   "outputs": [
    {
     "name": "stdout",
     "output_type": "stream",
     "text": [
      "14501 images loaded successfully\n"
     ]
    }
   ],
   "source": [
    "pw = r'C:\\Users\\aleja\\Desktop\\Tareas\\Reconocimiento Virtual con Deep Learning\\T2\\best_SiameseNetwork_contrastive.pth'\n",
    "pd = 'B:\\Flickr\\Flickr15K'\n",
    "l_c = 'B:\\Flickr\\Flickr15K\\images'\n",
    "sim = torch.nn.CosineSimilarity()\n",
    "a = Evaluator(pw,pd,sim)"
   ]
  },
  {
   "cell_type": "code",
   "execution_count": 3,
   "id": "8d65374b-003d-43cc-80fb-965d460dfdf1",
   "metadata": {},
   "outputs": [
    {
     "name": "stderr",
     "output_type": "stream",
     "text": [
      "Querying: 100%|██████████████████████████████████████████████████████████████████| 1813/1813 [00:00<00:00, 3298.96it/s]\n",
      "Querying: 100%|██████████████████████████████████████████████████████████████████| 1813/1813 [00:00<00:00, 3419.31it/s]\n",
      "Querying: 100%|██████████████████████████████████████████████████████████████████| 1813/1813 [00:00<00:00, 3451.60it/s]\n",
      "Querying: 100%|██████████████████████████████████████████████████████████████████| 1813/1813 [00:00<00:00, 3286.98it/s]\n",
      "Querying: 100%|██████████████████████████████████████████████████████████████████| 1813/1813 [00:00<00:00, 3692.17it/s]\n",
      "Querying: 100%|██████████████████████████████████████████████████████████████████| 1813/1813 [00:00<00:00, 3552.03it/s]\n",
      "Querying: 100%|██████████████████████████████████████████████████████████████████| 1813/1813 [00:00<00:00, 3172.96it/s]\n",
      "Querying: 100%|██████████████████████████████████████████████████████████████████| 1813/1813 [00:00<00:00, 3332.04it/s]\n",
      "Querying: 100%|██████████████████████████████████████████████████████████████████| 1813/1813 [00:00<00:00, 3316.93it/s]\n",
      "Querying: 100%|██████████████████████████████████████████████████████████████████| 1813/1813 [00:00<00:00, 3803.59it/s]\n",
      "Querying: 100%|██████████████████████████████████████████████████████████████████| 1813/1813 [00:00<00:00, 3586.89it/s]\n",
      "Querying: 100%|██████████████████████████████████████████████████████████████████| 1813/1813 [00:00<00:00, 3378.23it/s]\n",
      "Querying: 100%|██████████████████████████████████████████████████████████████████| 1813/1813 [00:00<00:00, 3637.06it/s]\n",
      "Querying: 100%|██████████████████████████████████████████████████████████████████| 1813/1813 [00:00<00:00, 3524.83it/s]\n",
      "Querying: 100%|██████████████████████████████████████████████████████████████████| 1813/1813 [00:00<00:00, 3714.38it/s]\n",
      "Querying: 100%|██████████████████████████████████████████████████████████████████| 1813/1813 [00:00<00:00, 3710.91it/s]\n",
      "Querying: 100%|██████████████████████████████████████████████████████████████████| 1813/1813 [00:00<00:00, 3692.17it/s]\n",
      "Querying: 100%|██████████████████████████████████████████████████████████████████| 1813/1813 [00:00<00:00, 3644.32it/s]\n",
      "Querying: 100%|██████████████████████████████████████████████████████████████████| 1813/1813 [00:00<00:00, 3485.02it/s]\n",
      "Querying: 100%|██████████████████████████████████████████████████████████████████| 1813/1813 [00:00<00:00, 3531.64it/s]\n",
      "Querying: 100%|██████████████████████████████████████████████████████████████████| 1813/1813 [00:00<00:00, 3673.62it/s]\n",
      "Querying: 100%|██████████████████████████████████████████████████████████████████| 1813/1813 [00:00<00:00, 3504.56it/s]\n",
      "Querying: 100%|██████████████████████████████████████████████████████████████████| 1813/1813 [00:00<00:00, 3559.15it/s]\n",
      "Querying: 100%|██████████████████████████████████████████████████████████████████| 1813/1813 [00:00<00:00, 3432.15it/s]\n",
      "Querying: 100%|██████████████████████████████████████████████████████████████████| 1813/1813 [00:00<00:00, 3752.99it/s]\n",
      "Querying: 100%|██████████████████████████████████████████████████████████████████| 1813/1813 [00:00<00:00, 3756.67it/s]\n",
      "Querying: 100%|██████████████████████████████████████████████████████████████████| 1813/1813 [00:00<00:00, 3587.09it/s]\n",
      "Querying: 100%|██████████████████████████████████████████████████████████████████| 1813/1813 [00:00<00:00, 3609.14it/s]\n",
      "Querying: 100%|██████████████████████████████████████████████████████████████████| 1813/1813 [00:00<00:00, 3707.15it/s]\n",
      "Querying: 100%|██████████████████████████████████████████████████████████████████| 1813/1813 [00:00<00:00, 3662.36it/s]\n",
      "Querying: 100%|██████████████████████████████████████████████████████████████████| 1813/1813 [00:00<00:00, 3538.48it/s]\n",
      "Querying: 100%|██████████████████████████████████████████████████████████████████| 1813/1813 [00:00<00:00, 3552.03it/s]\n",
      "Querying: 100%|██████████████████████████████████████████████████████████████████| 1813/1813 [00:00<00:00, 3760.54it/s]\n",
      "Querying: 100%|██████████████████████████████████████████████████████████████████| 1813/1813 [00:00<00:00, 3615.48it/s]\n",
      "Querying: 100%|██████████████████████████████████████████████████████████████████| 1813/1813 [00:00<00:00, 3608.14it/s]\n",
      "Querying: 100%|██████████████████████████████████████████████████████████████████| 1813/1813 [00:00<00:00, 3403.40it/s]\n",
      "Querying: 100%|██████████████████████████████████████████████████████████████████| 1813/1813 [00:00<00:00, 3425.72it/s]\n",
      "Querying: 100%|██████████████████████████████████████████████████████████████████| 1813/1813 [00:00<00:00, 3240.47it/s]\n",
      "Querying: 100%|██████████████████████████████████████████████████████████████████| 1813/1813 [00:00<00:00, 3843.58it/s]\n",
      "Querying: 100%|██████████████████████████████████████████████████████████████████| 1813/1813 [00:00<00:00, 3572.87it/s]\n",
      "Querying: 100%|██████████████████████████████████████████████████████████████████| 1813/1813 [00:00<00:00, 3629.84it/s]\n",
      "Querying: 100%|██████████████████████████████████████████████████████████████████| 1813/1813 [00:00<00:00, 3658.70it/s]\n",
      "Querying: 100%|██████████████████████████████████████████████████████████████████| 1813/1813 [00:00<00:00, 3562.41it/s]\n",
      "Querying: 100%|██████████████████████████████████████████████████████████████████| 1813/1813 [00:00<00:00, 3695.70it/s]\n",
      "Querying: 100%|██████████████████████████████████████████████████████████████████| 1813/1813 [00:00<00:00, 3622.45it/s]\n",
      "Querying: 100%|██████████████████████████████████████████████████████████████████| 1813/1813 [00:00<00:00, 3608.34it/s]\n",
      "Querying: 100%|██████████████████████████████████████████████████████████████████| 1813/1813 [00:00<00:00, 3673.62it/s]\n",
      "Querying: 100%|██████████████████████████████████████████████████████████████████| 1813/1813 [00:00<00:00, 3823.48it/s]\n",
      "Querying: 100%|██████████████████████████████████████████████████████████████████| 1813/1813 [00:00<00:00, 3673.62it/s]\n",
      "Querying: 100%|██████████████████████████████████████████████████████████████████| 1813/1813 [00:00<00:00, 3461.41it/s]\n",
      "Querying: 100%|██████████████████████████████████████████████████████████████████| 1813/1813 [00:00<00:00, 3580.07it/s]\n",
      "Querying: 100%|██████████████████████████████████████████████████████████████████| 1813/1813 [00:00<00:00, 3769.63it/s]\n",
      "Querying: 100%|██████████████████████████████████████████████████████████████████| 1813/1813 [00:00<00:00, 3448.35it/s]\n",
      "Querying: 100%|██████████████████████████████████████████████████████████████████| 1813/1813 [00:00<00:00, 3644.31it/s]\n",
      "Querying: 100%|██████████████████████████████████████████████████████████████████| 1813/1813 [00:00<00:00, 3580.07it/s]\n",
      "Querying: 100%|██████████████████████████████████████████████████████████████████| 1813/1813 [00:00<00:00, 3335.08it/s]\n",
      "Querying: 100%|██████████████████████████████████████████████████████████████████| 1813/1813 [00:00<00:00, 3594.14it/s]\n",
      "Querying: 100%|██████████████████████████████████████████████████████████████████| 1813/1813 [00:00<00:00, 3651.60it/s]\n",
      "Querying: 100%|██████████████████████████████████████████████████████████████████| 1813/1813 [00:00<00:00, 3569.58it/s]\n",
      "Querying: 100%|██████████████████████████████████████████████████████████████████| 1813/1813 [00:00<00:00, 3637.46it/s]\n",
      "Querying: 100%|██████████████████████████████████████████████████████████████████| 1813/1813 [00:00<00:00, 3609.82it/s]\n",
      "Querying: 100%|██████████████████████████████████████████████████████████████████| 1813/1813 [00:00<00:00, 3491.16it/s]\n",
      "Querying: 100%|██████████████████████████████████████████████████████████████████| 1813/1813 [00:00<00:00, 3666.25it/s]\n",
      "Querying: 100%|██████████████████████████████████████████████████████████████████| 1813/1813 [00:00<00:00, 3594.15it/s]\n",
      "Querying: 100%|██████████████████████████████████████████████████████████████████| 1813/1813 [00:00<00:00, 3662.58it/s]\n",
      "Querying: 100%|██████████████████████████████████████████████████████████████████| 1813/1813 [00:00<00:00, 3566.10it/s]\n",
      "Querying: 100%|██████████████████████████████████████████████████████████████████| 1813/1813 [00:00<00:00, 3644.32it/s]\n",
      "Querying: 100%|██████████████████████████████████████████████████████████████████| 1813/1813 [00:00<00:00, 3378.23it/s]\n",
      "Querying: 100%|██████████████████████████████████████████████████████████████████| 1813/1813 [00:00<00:00, 3559.15it/s]\n",
      "Querying: 100%|██████████████████████████████████████████████████████████████████| 1813/1813 [00:00<00:00, 3572.89it/s]\n",
      "Querying: 100%|██████████████████████████████████████████████████████████████████| 1813/1813 [00:00<00:00, 3644.31it/s]\n",
      "Querying: 100%|██████████████████████████████████████████████████████████████████| 1813/1813 [00:00<00:00, 3692.18it/s]\n",
      "Querying: 100%|██████████████████████████████████████████████████████████████████| 1813/1813 [00:00<00:00, 3562.61it/s]\n",
      "Querying: 100%|██████████████████████████████████████████████████████████████████| 1813/1813 [00:00<00:00, 3710.91it/s]\n",
      "Querying: 100%|██████████████████████████████████████████████████████████████████| 1813/1813 [00:00<00:00, 3647.74it/s]\n",
      "Querying: 100%|██████████████████████████████████████████████████████████████████| 1813/1813 [00:00<00:00, 3555.69it/s]\n",
      "Querying: 100%|██████████████████████████████████████████████████████████████████| 1813/1813 [00:00<00:00, 3649.79it/s]\n",
      "Querying: 100%|██████████████████████████████████████████████████████████████████| 1813/1813 [00:00<00:00, 3658.91it/s]\n",
      "Querying: 100%|██████████████████████████████████████████████████████████████████| 1813/1813 [00:00<00:00, 3601.23it/s]\n",
      "Querying: 100%|██████████████████████████████████████████████████████████████████| 1813/1813 [00:00<00:00, 3741.30it/s]\n",
      "Querying: 100%|██████████████████████████████████████████████████████████████████| 1813/1813 [00:00<00:00, 3677.10it/s]\n",
      "Querying: 100%|██████████████████████████████████████████████████████████████████| 1813/1813 [00:00<00:00, 3521.43it/s]\n",
      "Querying: 100%|██████████████████████████████████████████████████████████████████| 1813/1813 [00:00<00:00, 3555.69it/s]\n",
      "Querying: 100%|██████████████████████████████████████████████████████████████████| 1813/1813 [00:00<00:00, 3752.82it/s]\n",
      "Querying: 100%|██████████████████████████████████████████████████████████████████| 1813/1813 [00:00<00:00, 3666.25it/s]\n",
      "Querying: 100%|██████████████████████████████████████████████████████████████████| 1813/1813 [00:00<00:00, 3461.19it/s]\n",
      "Querying: 100%|██████████████████████████████████████████████████████████████████| 1813/1813 [00:00<00:00, 3756.46it/s]\n",
      "Querying: 100%|██████████████████████████████████████████████████████████████████| 1813/1813 [00:00<00:00, 3587.09it/s]\n",
      "Querying: 100%|██████████████████████████████████████████████████████████████████| 1813/1813 [00:00<00:00, 3438.62it/s]\n",
      "Querying: 100%|██████████████████████████████████████████████████████████████████| 1813/1813 [00:00<00:00, 3691.96it/s]\n",
      "Querying: 100%|██████████████████████████████████████████████████████████████████| 1813/1813 [00:00<00:00, 3611.64it/s]\n",
      "Querying: 100%|██████████████████████████████████████████████████████████████████| 1813/1813 [00:00<00:00, 3597.69it/s]\n",
      "Querying: 100%|██████████████████████████████████████████████████████████████████| 1813/1813 [00:00<00:00, 3583.38it/s]\n",
      "Querying: 100%|██████████████████████████████████████████████████████████████████| 1813/1813 [00:00<00:00, 3615.31it/s]\n",
      "Querying: 100%|██████████████████████████████████████████████████████████████████| 1813/1813 [00:00<00:00, 3684.51it/s]\n",
      "Querying: 100%|██████████████████████████████████████████████████████████████████| 1813/1813 [00:00<00:00, 3481.19it/s]\n",
      "Querying: 100%|██████████████████████████████████████████████████████████████████| 1813/1813 [00:00<00:00, 3673.41it/s]\n",
      "Querying: 100%|██████████████████████████████████████████████████████████████████| 1813/1813 [00:00<00:00, 3281.19it/s]\n",
      "Querying: 100%|██████████████████████████████████████████████████████████████████| 1813/1813 [00:00<00:00, 3428.94it/s]\n",
      "Querying: 100%|██████████████████████████████████████████████████████████████████| 1813/1813 [00:00<00:00, 3633.45it/s]\n",
      "Querying: 100%|██████████████████████████████████████████████████████████████████| 1813/1813 [00:00<00:00, 3524.83it/s]\n",
      "Querying: 100%|██████████████████████████████████████████████████████████████████| 1813/1813 [00:00<00:00, 3615.48it/s]\n",
      "Querying: 100%|██████████████████████████████████████████████████████████████████| 1813/1813 [00:00<00:00, 3737.47it/s]\n",
      "Querying: 100%|██████████████████████████████████████████████████████████████████| 1813/1813 [00:00<00:00, 3562.34it/s]\n",
      "Querying: 100%|██████████████████████████████████████████████████████████████████| 1813/1813 [00:00<00:00, 3608.34it/s]\n",
      "Querying: 100%|██████████████████████████████████████████████████████████████████| 1813/1813 [00:00<00:00, 3524.83it/s]\n",
      "Querying: 100%|██████████████████████████████████████████████████████████████████| 1813/1813 [00:00<00:00, 3722.24it/s]\n",
      "Querying: 100%|██████████████████████████████████████████████████████████████████| 1813/1813 [00:00<00:00, 3819.49it/s]\n",
      "Querying: 100%|██████████████████████████████████████████████████████████████████| 1813/1813 [00:00<00:00, 3823.48it/s]\n",
      "Querying: 100%|██████████████████████████████████████████████████████████████████| 1813/1813 [00:00<00:00, 3751.10it/s]\n",
      "Querying: 100%|██████████████████████████████████████████████████████████████████| 1813/1813 [00:00<00:00, 3622.64it/s]\n",
      "Querying: 100%|██████████████████████████████████████████████████████████████████| 1813/1813 [00:00<00:00, 3491.16it/s]\n",
      "Querying: 100%|██████████████████████████████████████████████████████████████████| 1813/1813 [00:00<00:00, 3594.15it/s]\n",
      "Querying: 100%|██████████████████████████████████████████████████████████████████| 1813/1813 [00:00<00:00, 3626.23it/s]\n",
      "Querying: 100%|██████████████████████████████████████████████████████████████████| 1813/1813 [00:00<00:00, 3752.82it/s]\n",
      "Querying: 100%|██████████████████████████████████████████████████████████████████| 1813/1813 [00:00<00:00, 3574.02it/s]\n",
      "Querying: 100%|██████████████████████████████████████████████████████████████████| 1813/1813 [00:00<00:00, 3601.02it/s]\n",
      "Querying: 100%|██████████████████████████████████████████████████████████████████| 1813/1813 [00:00<00:00, 3710.91it/s]\n",
      "Querying: 100%|██████████████████████████████████████████████████████████████████| 1813/1813 [00:00<00:00, 3669.69it/s]\n",
      "Querying: 100%|██████████████████████████████████████████████████████████████████| 1813/1813 [00:00<00:00, 3576.56it/s]\n",
      "Querying: 100%|██████████████████████████████████████████████████████████████████| 1813/1813 [00:00<00:00, 3637.07it/s]\n",
      "Querying: 100%|██████████████████████████████████████████████████████████████████| 1813/1813 [00:00<00:00, 3504.55it/s]\n",
      "Querying: 100%|██████████████████████████████████████████████████████████████████| 1813/1813 [00:00<00:00, 3699.65it/s]\n",
      "Querying: 100%|██████████████████████████████████████████████████████████████████| 1813/1813 [00:00<00:00, 3604.78it/s]\n",
      "Querying: 100%|██████████████████████████████████████████████████████████████████| 1813/1813 [00:00<00:00, 3409.74it/s]\n",
      "Querying: 100%|██████████████████████████████████████████████████████████████████| 1813/1813 [00:00<00:00, 3504.55it/s]\n",
      "Querying: 100%|██████████████████████████████████████████████████████████████████| 1813/1813 [00:00<00:00, 3524.83it/s]\n",
      "Querying: 100%|██████████████████████████████████████████████████████████████████| 1813/1813 [00:00<00:00, 3569.58it/s]\n",
      "Querying: 100%|██████████████████████████████████████████████████████████████████| 1813/1813 [00:00<00:00, 3528.23it/s]\n",
      "Querying: 100%|██████████████████████████████████████████████████████████████████| 1813/1813 [00:00<00:00, 3573.07it/s]\n",
      "Querying: 100%|██████████████████████████████████████████████████████████████████| 1813/1813 [00:00<00:00, 3729.84it/s]\n",
      "Querying: 100%|██████████████████████████████████████████████████████████████████| 1813/1813 [00:00<00:00, 3583.57it/s]\n",
      "Querying: 100%|██████████████████████████████████████████████████████████████████| 1813/1813 [00:00<00:00, 3569.58it/s]\n",
      "Querying: 100%|██████████████████████████████████████████████████████████████████| 1813/1813 [00:00<00:00, 3733.67it/s]\n",
      "Querying: 100%|██████████████████████████████████████████████████████████████████| 1813/1813 [00:00<00:00, 3658.91it/s]\n",
      "Querying: 100%|██████████████████████████████████████████████████████████████████| 1813/1813 [00:00<00:00, 3601.23it/s]\n",
      "Querying: 100%|██████████████████████████████████████████████████████████████████| 1813/1813 [00:00<00:00, 3669.93it/s]\n",
      "Querying: 100%|██████████████████████████████████████████████████████████████████| 1813/1813 [00:00<00:00, 3590.62it/s]\n",
      "Querying: 100%|██████████████████████████████████████████████████████████████████| 1813/1813 [00:00<00:00, 3494.50it/s]\n",
      "Querying: 100%|██████████████████████████████████████████████████████████████████| 1813/1813 [00:00<00:00, 3733.66it/s]\n",
      "Querying: 100%|██████████████████████████████████████████████████████████████████| 1813/1813 [00:00<00:00, 3569.38it/s]\n",
      "Querying: 100%|██████████████████████████████████████████████████████████████████| 1813/1813 [00:00<00:00, 3594.14it/s]\n",
      "Querying: 100%|██████████████████████████████████████████████████████████████████| 1813/1813 [00:00<00:00, 3534.61it/s]\n",
      "Querying: 100%|██████████████████████████████████████████████████████████████████| 1813/1813 [00:00<00:00, 3552.24it/s]\n",
      "Querying: 100%|██████████████████████████████████████████████████████████████████| 1813/1813 [00:00<00:00, 3569.57it/s]\n",
      "Querying: 100%|██████████████████████████████████████████████████████████████████| 1813/1813 [00:00<00:00, 3507.92it/s]\n",
      "Querying: 100%|██████████████████████████████████████████████████████████████████| 1813/1813 [00:00<00:00, 3629.85it/s]\n",
      "Querying: 100%|██████████████████████████████████████████████████████████████████| 1813/1813 [00:00<00:00, 3626.23it/s]\n",
      "Querying: 100%|██████████████████████████████████████████████████████████████████| 1813/1813 [00:00<00:00, 3528.23it/s]\n",
      "Querying: 100%|██████████████████████████████████████████████████████████████████| 1813/1813 [00:00<00:00, 3534.86it/s]\n",
      "Querying: 100%|██████████████████████████████████████████████████████████████████| 1813/1813 [00:00<00:00, 3729.84it/s]\n",
      "Querying: 100%|██████████████████████████████████████████████████████████████████| 1813/1813 [00:00<00:00, 3484.51it/s]\n",
      "Querying: 100%|██████████████████████████████████████████████████████████████████| 1813/1813 [00:00<00:00, 3464.69it/s]\n",
      "Querying: 100%|██████████████████████████████████████████████████████████████████| 1813/1813 [00:00<00:00, 3428.94it/s]\n",
      "Querying: 100%|██████████████████████████████████████████████████████████████████| 1813/1813 [00:00<00:00, 3359.61it/s]\n",
      "Querying: 100%|██████████████████████████████████████████████████████████████████| 1813/1813 [00:00<00:00, 3637.07it/s]\n",
      "Querying: 100%|██████████████████████████████████████████████████████████████████| 1813/1813 [00:00<00:00, 3562.62it/s]\n",
      "Querying: 100%|██████████████████████████████████████████████████████████████████| 1813/1813 [00:00<00:00, 3518.05it/s]\n",
      "Querying: 100%|██████████████████████████████████████████████████████████████████| 1813/1813 [00:00<00:00, 3590.62it/s]\n",
      "Querying: 100%|██████████████████████████████████████████████████████████████████| 1813/1813 [00:00<00:00, 3105.41it/s]\n",
      "Querying: 100%|██████████████████████████████████████████████████████████████████| 1813/1813 [00:00<00:00, 3590.41it/s]\n",
      "Querying: 100%|██████████████████████████████████████████████████████████████████| 1813/1813 [00:00<00:00, 3063.91it/s]\n",
      "Querying: 100%|██████████████████████████████████████████████████████████████████| 1813/1813 [00:00<00:00, 3105.56it/s]\n",
      "Querying: 100%|██████████████████████████████████████████████████████████████████| 1813/1813 [00:00<00:00, 3074.22it/s]\n",
      "Querying: 100%|██████████████████████████████████████████████████████████████████| 1813/1813 [00:00<00:00, 3110.85it/s]\n",
      "Querying: 100%|██████████████████████████████████████████████████████████████████| 1813/1813 [00:00<00:00, 3484.51it/s]\n",
      "Querying: 100%|██████████████████████████████████████████████████████████████████| 1813/1813 [00:00<00:00, 3559.15it/s]\n",
      "Querying: 100%|██████████████████████████████████████████████████████████████████| 1813/1813 [00:00<00:00, 3562.62it/s]\n",
      "Querying: 100%|██████████████████████████████████████████████████████████████████| 1813/1813 [00:00<00:00, 3626.24it/s]\n",
      "Querying: 100%|██████████████████████████████████████████████████████████████████| 1813/1813 [00:00<00:00, 3576.37it/s]\n",
      "Querying: 100%|██████████████████████████████████████████████████████████████████| 1813/1813 [00:00<00:00, 3356.52it/s]\n",
      "Querying: 100%|██████████████████████████████████████████████████████████████████| 1813/1813 [00:00<00:00, 3441.86it/s]\n",
      "Querying: 100%|██████████████████████████████████████████████████████████████████| 1813/1813 [00:00<00:00, 3134.86it/s]\n",
      "Querying: 100%|██████████████████████████████████████████████████████████████████| 1813/1813 [00:00<00:00, 3184.02it/s]\n",
      "Querying: 100%|██████████████████████████████████████████████████████████████████| 1813/1813 [00:00<00:00, 3223.34it/s]\n",
      "Querying: 100%|██████████████████████████████████████████████████████████████████| 1813/1813 [00:00<00:00, 3491.16it/s]\n",
      "Querying: 100%|██████████████████████████████████████████████████████████████████| 1813/1813 [00:00<00:00, 3501.20it/s]\n",
      "Querying: 100%|██████████████████████████████████████████████████████████████████| 1813/1813 [00:00<00:00, 3279.85it/s]\n",
      "Querying: 100%|██████████████████████████████████████████████████████████████████| 1813/1813 [00:00<00:00, 3531.49it/s]\n",
      "Querying: 100%|██████████████████████████████████████████████████████████████████| 1813/1813 [00:00<00:00, 3487.84it/s]\n",
      "Querying: 100%|██████████████████████████████████████████████████████████████████| 1813/1813 [00:00<00:00, 3347.12it/s]\n",
      "Querying: 100%|██████████████████████████████████████████████████████████████████| 1813/1813 [00:00<00:00, 3484.51it/s]\n",
      "Querying: 100%|██████████████████████████████████████████████████████████████████| 1813/1813 [00:00<00:00, 3375.12it/s]\n",
      "Querying: 100%|██████████████████████████████████████████████████████████████████| 1813/1813 [00:00<00:00, 3545.15it/s]\n",
      "Querying: 100%|██████████████████████████████████████████████████████████████████| 1813/1813 [00:00<00:00, 3590.39it/s]\n",
      "Querying: 100%|██████████████████████████████████████████████████████████████████| 1813/1813 [00:00<00:00, 3477.88it/s]\n",
      "Querying: 100%|██████████████████████████████████████████████████████████████████| 1813/1813 [00:00<00:00, 3622.43it/s]\n",
      "Querying: 100%|██████████████████████████████████████████████████████████████████| 1813/1813 [00:00<00:00, 3558.95it/s]\n",
      "Querying: 100%|██████████████████████████████████████████████████████████████████| 1813/1813 [00:00<00:00, 3487.84it/s]\n",
      "Querying: 100%|██████████████████████████████████████████████████████████████████| 1813/1813 [00:00<00:00, 3517.86it/s]\n",
      "Querying: 100%|██████████████████████████████████████████████████████████████████| 1813/1813 [00:00<00:00, 3484.51it/s]\n",
      "Querying: 100%|██████████████████████████████████████████████████████████████████| 1813/1813 [00:00<00:00, 3587.10it/s]\n",
      "Querying: 100%|██████████████████████████████████████████████████████████████████| 1813/1813 [00:00<00:00, 3633.22it/s]\n",
      "Querying: 100%|██████████████████████████████████████████████████████████████████| 1813/1813 [00:00<00:00, 3587.09it/s]\n",
      "Querying: 100%|██████████████████████████████████████████████████████████████████| 1813/1813 [00:00<00:00, 3590.62it/s]\n",
      "Querying: 100%|██████████████████████████████████████████████████████████████████| 1813/1813 [00:00<00:00, 3521.44it/s]\n",
      "Querying: 100%|██████████████████████████████████████████████████████████████████| 1813/1813 [00:00<00:00, 3541.91it/s]\n",
      "Querying: 100%|██████████████████████████████████████████████████████████████████| 1813/1813 [00:00<00:00, 3409.75it/s]\n",
      "Querying: 100%|██████████████████████████████████████████████████████████████████| 1813/1813 [00:00<00:00, 3535.06it/s]\n",
      "Querying: 100%|██████████████████████████████████████████████████████████████████| 1813/1813 [00:00<00:00, 3677.32it/s]\n",
      "Querying: 100%|██████████████████████████████████████████████████████████████████| 1813/1813 [00:00<00:00, 3684.72it/s]\n",
      "Querying: 100%|██████████████████████████████████████████████████████████████████| 1813/1813 [00:00<00:00, 3310.91it/s]\n",
      "Querying: 100%|██████████████████████████████████████████████████████████████████| 1813/1813 [00:00<00:00, 3484.50it/s]\n",
      "Querying: 100%|██████████████████████████████████████████████████████████████████| 1813/1813 [00:00<00:00, 3497.85it/s]\n",
      "Querying: 100%|██████████████████████████████████████████████████████████████████| 1813/1813 [00:00<00:00, 3737.47it/s]\n",
      "Querying: 100%|██████████████████████████████████████████████████████████████████| 1813/1813 [00:00<00:00, 3497.85it/s]\n",
      "Querying: 100%|██████████████████████████████████████████████████████████████████| 1813/1813 [00:00<00:00, 3528.23it/s]\n",
      "Querying: 100%|██████████████████████████████████████████████████████████████████| 1813/1813 [00:00<00:00, 3541.91it/s]\n",
      "Querying: 100%|██████████████████████████████████████████████████████████████████| 1813/1813 [00:00<00:00, 3504.55it/s]\n",
      "Querying: 100%|██████████████████████████████████████████████████████████████████| 1813/1813 [00:00<00:00, 3353.44it/s]\n",
      "Querying: 100%|██████████████████████████████████████████████████████████████████| 1813/1813 [00:00<00:00, 3655.25it/s]\n",
      "Querying: 100%|██████████████████████████████████████████████████████████████████| 1813/1813 [00:00<00:00, 3432.16it/s]\n",
      "Querying: 100%|██████████████████████████████████████████████████████████████████| 1813/1813 [00:00<00:00, 3541.91it/s]\n",
      "Querying: 100%|██████████████████████████████████████████████████████████████████| 1813/1813 [00:00<00:00, 3531.64it/s]\n",
      "Querying: 100%|██████████████████████████████████████████████████████████████████| 1813/1813 [00:00<00:00, 3677.31it/s]\n",
      "Querying: 100%|██████████████████████████████████████████████████████████████████| 1813/1813 [00:00<00:00, 3566.09it/s]\n",
      "Querying: 100%|██████████████████████████████████████████████████████████████████| 1813/1813 [00:00<00:00, 3521.43it/s]\n",
      "Querying: 100%|██████████████████████████████████████████████████████████████████| 1813/1813 [00:00<00:00, 3454.87it/s]\n",
      "Querying: 100%|██████████████████████████████████████████████████████████████████| 1813/1813 [00:00<00:00, 3629.84it/s]\n",
      "Querying: 100%|██████████████████████████████████████████████████████████████████| 1813/1813 [00:00<00:00, 3636.86it/s]\n",
      "Querying: 100%|██████████████████████████████████████████████████████████████████| 1813/1813 [00:00<00:00, 3517.86it/s]\n",
      "Querying: 100%|██████████████████████████████████████████████████████████████████| 1813/1813 [00:00<00:00, 3528.23it/s]\n",
      "Querying: 100%|██████████████████████████████████████████████████████████████████| 1813/1813 [00:00<00:00, 3517.85it/s]\n",
      "Querying: 100%|██████████████████████████████████████████████████████████████████| 1813/1813 [00:00<00:00, 3795.70it/s]\n",
      "Querying: 100%|██████████████████████████████████████████████████████████████████| 1813/1813 [00:00<00:00, 3501.00it/s]\n",
      "Querying: 100%|██████████████████████████████████████████████████████████████████| 1813/1813 [00:00<00:00, 3545.35it/s]\n",
      "Querying: 100%|██████████████████████████████████████████████████████████████████| 1813/1813 [00:00<00:00, 3518.04it/s]\n",
      "Querying: 100%|██████████████████████████████████████████████████████████████████| 1813/1813 [00:00<00:00, 3435.18it/s]\n",
      "Querying: 100%|██████████████████████████████████████████████████████████████████| 1813/1813 [00:00<00:00, 3474.57it/s]\n",
      "Querying: 100%|██████████████████████████████████████████████████████████████████| 1813/1813 [00:00<00:00, 3633.45it/s]\n",
      "Querying: 100%|██████████████████████████████████████████████████████████████████| 1813/1813 [00:00<00:00, 3441.86it/s]\n",
      "Querying: 100%|██████████████████████████████████████████████████████████████████| 1813/1813 [00:00<00:00, 3633.25it/s]\n",
      "Querying: 100%|██████████████████████████████████████████████████████████████████| 1813/1813 [00:00<00:00, 3451.61it/s]\n",
      "Querying: 100%|██████████████████████████████████████████████████████████████████| 1813/1813 [00:00<00:00, 3497.85it/s]\n",
      "Querying: 100%|██████████████████████████████████████████████████████████████████| 1813/1813 [00:00<00:00, 3485.13it/s]\n",
      "Querying: 100%|██████████████████████████████████████████████████████████████████| 1813/1813 [00:00<00:00, 3535.24it/s]\n",
      "Querying: 100%|██████████████████████████████████████████████████████████████████| 1813/1813 [00:00<00:00, 3524.83it/s]\n",
      "Querying: 100%|██████████████████████████████████████████████████████████████████| 1813/1813 [00:00<00:00, 2803.11it/s]\n",
      "Querying: 100%|██████████████████████████████████████████████████████████████████| 1813/1813 [00:00<00:00, 3197.94it/s]\n",
      "Querying: 100%|██████████████████████████████████████████████████████████████████| 1813/1813 [00:00<00:00, 2484.87it/s]\n",
      "Querying: 100%|██████████████████████████████████████████████████████████████████| 1813/1813 [00:00<00:00, 2794.53it/s]\n",
      "Querying: 100%|██████████████████████████████████████████████████████████████████| 1813/1813 [00:00<00:00, 2461.45it/s]\n",
      "Querying: 100%|██████████████████████████████████████████████████████████████████| 1813/1813 [00:00<00:00, 2938.31it/s]\n",
      "Querying: 100%|██████████████████████████████████████████████████████████████████| 1813/1813 [00:00<00:00, 3084.60it/s]\n",
      "Querying: 100%|██████████████████████████████████████████████████████████████████| 1813/1813 [00:00<00:00, 3445.10it/s]\n",
      "Querying: 100%|██████████████████████████████████████████████████████████████████| 1813/1813 [00:00<00:00, 3365.79it/s]\n",
      "Querying: 100%|██████████████████████████████████████████████████████████████████| 1813/1813 [00:00<00:00, 3353.44it/s]\n",
      "Querying: 100%|██████████████████████████████████████████████████████████████████| 1813/1813 [00:00<00:00, 3541.91it/s]\n",
      "Querying: 100%|██████████████████████████████████████████████████████████████████| 1813/1813 [00:00<00:00, 3484.52it/s]\n",
      "Querying: 100%|██████████████████████████████████████████████████████████████████| 1813/1813 [00:00<00:00, 3464.26it/s]\n",
      "Querying: 100%|██████████████████████████████████████████████████████████████████| 1813/1813 [00:00<00:00, 3569.59it/s]\n",
      "Querying: 100%|██████████████████████████████████████████████████████████████████| 1813/1813 [00:00<00:00, 3531.64it/s]\n",
      "Querying: 100%|██████████████████████████████████████████████████████████████████| 1813/1813 [00:00<00:00, 3714.69it/s]\n",
      "Querying: 100%|██████████████████████████████████████████████████████████████████| 1813/1813 [00:00<00:00, 3703.18it/s]\n",
      "Querying: 100%|██████████████████████████████████████████████████████████████████| 1813/1813 [00:00<00:00, 3611.91it/s]\n",
      "Querying: 100%|██████████████████████████████████████████████████████████████████| 1813/1813 [00:00<00:00, 3435.38it/s]\n",
      "Querying: 100%|██████████████████████████████████████████████████████████████████| 1813/1813 [00:00<00:00, 3438.61it/s]\n",
      "Querying: 100%|██████████████████████████████████████████████████████████████████| 1813/1813 [00:00<00:00, 3481.19it/s]\n",
      "Querying: 100%|██████████████████████████████████████████████████████████████████| 1813/1813 [00:00<00:00, 3319.93it/s]\n",
      "Querying: 100%|██████████████████████████████████████████████████████████████████| 1813/1813 [00:00<00:00, 3058.78it/s]\n",
      "Querying: 100%|██████████████████████████████████████████████████████████████████| 1813/1813 [00:00<00:00, 2662.24it/s]\n",
      "Querying: 100%|██████████████████████████████████████████████████████████████████| 1813/1813 [00:00<00:00, 3189.57it/s]\n",
      "Querying: 100%|██████████████████████████████████████████████████████████████████| 1813/1813 [00:00<00:00, 3726.05it/s]\n",
      "Querying: 100%|██████████████████████████████████████████████████████████████████| 1813/1813 [00:00<00:00, 3461.41it/s]\n",
      "Querying: 100%|██████████████████████████████████████████████████████████████████| 1813/1813 [00:00<00:00, 3571.61it/s]\n",
      "Querying: 100%|██████████████████████████████████████████████████████████████████| 1813/1813 [00:00<00:00, 3579.89it/s]\n",
      "Querying: 100%|██████████████████████████████████████████████████████████████████| 1813/1813 [00:00<00:00, 3637.06it/s]\n",
      "Querying: 100%|██████████████████████████████████████████████████████████████████| 1813/1813 [00:00<00:00, 3703.39it/s]\n",
      "Querying: 100%|██████████████████████████████████████████████████████████████████| 1813/1813 [00:00<00:00, 3497.85it/s]\n",
      "Querying: 100%|██████████████████████████████████████████████████████████████████| 1813/1813 [00:00<00:00, 3507.92it/s]\n",
      "Querying: 100%|██████████████████████████████████████████████████████████████████| 1813/1813 [00:00<00:00, 3524.83it/s]\n",
      "Querying: 100%|██████████████████████████████████████████████████████████████████| 1813/1813 [00:00<00:00, 3422.51it/s]\n",
      "Querying: 100%|██████████████████████████████████████████████████████████████████| 1813/1813 [00:00<00:00, 3484.32it/s]\n",
      "Querying: 100%|██████████████████████████████████████████████████████████████████| 1813/1813 [00:00<00:00, 3504.55it/s]\n",
      "Querying: 100%|██████████████████████████████████████████████████████████████████| 1813/1813 [00:00<00:00, 3497.85it/s]\n",
      "Querying: 100%|██████████████████████████████████████████████████████████████████| 1813/1813 [00:00<00:00, 3680.81it/s]\n",
      "Querying: 100%|██████████████████████████████████████████████████████████████████| 1813/1813 [00:00<00:00, 3438.61it/s]\n",
      "Querying: 100%|██████████████████████████████████████████████████████████████████| 1813/1813 [00:00<00:00, 3566.10it/s]\n",
      "Querying: 100%|██████████████████████████████████████████████████████████████████| 1813/1813 [00:00<00:00, 3464.69it/s]\n",
      "Querying: 100%|██████████████████████████████████████████████████████████████████| 1813/1813 [00:00<00:00, 3541.91it/s]\n",
      "Querying: 100%|██████████████████████████████████████████████████████████████████| 1813/1813 [00:00<00:00, 3538.48it/s]\n",
      "Querying: 100%|██████████████████████████████████████████████████████████████████| 1813/1813 [00:00<00:00, 3541.91it/s]\n",
      "Querying: 100%|██████████████████████████████████████████████████████████████████| 1813/1813 [00:00<00:00, 3703.21it/s]\n",
      "Querying: 100%|██████████████████████████████████████████████████████████████████| 1813/1813 [00:00<00:00, 3546.47it/s]\n",
      "Querying: 100%|██████████████████████████████████████████████████████████████████| 1813/1813 [00:00<00:00, 3124.14it/s]\n",
      "Querying: 100%|██████████████████████████████████████████████████████████████████| 1813/1813 [00:00<00:00, 3269.45it/s]\n",
      "Querying: 100%|██████████████████████████████████████████████████████████████████| 1813/1813 [00:00<00:00, 3362.70it/s]\n",
      "Querying: 100%|██████████████████████████████████████████████████████████████████| 1813/1813 [00:00<00:00, 3234.73it/s]\n",
      "Querying: 100%|██████████████████████████████████████████████████████████████████| 1813/1813 [00:00<00:00, 3487.84it/s]\n",
      "Querying: 100%|██████████████████████████████████████████████████████████████████| 1813/1813 [00:00<00:00, 3145.65it/s]\n",
      "Querying: 100%|██████████████████████████████████████████████████████████████████| 1813/1813 [00:00<00:00, 2848.98it/s]\n",
      "Querying: 100%|██████████████████████████████████████████████████████████████████| 1813/1813 [00:00<00:00, 2924.20it/s]\n",
      "Querying: 100%|██████████████████████████████████████████████████████████████████| 1813/1813 [00:00<00:00, 3458.13it/s]\n",
      "Querying: 100%|██████████████████████████████████████████████████████████████████| 1813/1813 [00:00<00:00, 3132.17it/s]\n",
      "Querying: 100%|██████████████████████████████████████████████████████████████████| 1813/1813 [00:00<00:00, 3269.45it/s]\n",
      "Querying: 100%|██████████████████████████████████████████████████████████████████| 1813/1813 [00:00<00:00, 3390.77it/s]\n",
      "Querying: 100%|██████████████████████████████████████████████████████████████████| 1813/1813 [00:00<00:00, 3313.92it/s]\n",
      "Querying: 100%|██████████████████████████████████████████████████████████████████| 1813/1813 [00:00<00:00, 3524.83it/s]\n",
      "Querying: 100%|██████████████████████████████████████████████████████████████████| 1813/1813 [00:00<00:00, 3531.64it/s]\n",
      "Querying: 100%|██████████████████████████████████████████████████████████████████| 1813/1813 [00:00<00:00, 3451.60it/s]\n",
      "Querying: 100%|██████████████████████████████████████████████████████████████████| 1813/1813 [00:00<00:00, 3535.06it/s]\n",
      "Querying: 100%|██████████████████████████████████████████████████████████████████| 1813/1813 [00:00<00:00, 3580.07it/s]\n",
      "Querying: 100%|██████████████████████████████████████████████████████████████████| 1813/1813 [00:00<00:00, 3474.58it/s]\n",
      "Querying: 100%|██████████████████████████████████████████████████████████████████| 1813/1813 [00:00<00:00, 3684.73it/s]\n",
      "Querying: 100%|██████████████████████████████████████████████████████████████████| 1813/1813 [00:00<00:00, 3301.94it/s]\n",
      "Querying: 100%|██████████████████████████████████████████████████████████████████| 1813/1813 [00:00<00:00, 3269.45it/s]\n",
      "Querying: 100%|██████████████████████████████████████████████████████████████████| 1813/1813 [00:00<00:00, 3528.23it/s]\n",
      "Querying: 100%|██████████████████████████████████████████████████████████████████| 1813/1813 [00:00<00:00, 3501.19it/s]\n",
      "Querying: 100%|██████████████████████████████████████████████████████████████████| 1813/1813 [00:00<00:00, 3406.57it/s]\n",
      "Querying: 100%|██████████████████████████████████████████████████████████████████| 1813/1813 [00:00<00:00, 3447.59it/s]\n",
      "Querying: 100%|██████████████████████████████████████████████████████████████████| 1813/1813 [00:00<00:00, 3497.85it/s]\n",
      "Querying: 100%|██████████████████████████████████████████████████████████████████| 1813/1813 [00:00<00:00, 3507.72it/s]\n",
      "Querying: 100%|██████████████████████████████████████████████████████████████████| 1813/1813 [00:00<00:00, 3783.90it/s]\n",
      "Querying: 100%|██████████████████████████████████████████████████████████████████| 1813/1813 [00:00<00:00, 3587.09it/s]\n",
      "Querying: 100%|██████████████████████████████████████████████████████████████████| 1813/1813 [00:00<00:00, 3569.58it/s]\n",
      "Querying: 100%|██████████████████████████████████████████████████████████████████| 1813/1813 [00:00<00:00, 3521.43it/s]\n",
      "Querying: 100%|██████████████████████████████████████████████████████████████████| 1813/1813 [00:00<00:00, 3425.73it/s]\n",
      "Querying: 100%|██████████████████████████████████████████████████████████████████| 1813/1813 [00:00<00:00, 3524.64it/s]\n",
      "Querying: 100%|██████████████████████████████████████████████████████████████████| 1813/1813 [00:00<00:00, 3494.50it/s]\n",
      "Querying: 100%|██████████████████████████████████████████████████████████████████| 1813/1813 [00:00<00:00, 3566.10it/s]\n",
      "Querying: 100%|██████████████████████████████████████████████████████████████████| 1813/1813 [00:00<00:00, 3467.97it/s]\n",
      "Querying: 100%|██████████████████████████████████████████████████████████████████| 1813/1813 [00:00<00:00, 3444.80it/s]\n",
      "Querying: 100%|██████████████████████████████████████████████████████████████████| 1813/1813 [00:00<00:00, 3573.07it/s]\n",
      "Querying: 100%|██████████████████████████████████████████████████████████████████| 1813/1813 [00:00<00:00, 3640.69it/s]\n",
      "Querying: 100%|██████████████████████████████████████████████████████████████████| 1813/1813 [00:00<00:00, 3471.28it/s]\n",
      "Querying: 100%|██████████████████████████████████████████████████████████████████| 1813/1813 [00:00<00:00, 3587.10it/s]\n",
      "Querying: 100%|██████████████████████████████████████████████████████████████████| 1813/1813 [00:00<00:00, 3562.62it/s]\n",
      "Querying: 100%|██████████████████████████████████████████████████████████████████| 1813/1813 [00:00<00:00, 3474.57it/s]\n",
      "Querying: 100%|██████████████████████████████████████████████████████████████████| 1813/1813 [00:00<00:00, 3425.72it/s]\n"
     ]
    }
   ],
   "source": [
    "pq = r'B:\\Flickr\\Flickr15K\\queries'\n",
    "a.calc_all_ranks(pq)"
   ]
  },
  {
   "cell_type": "code",
   "execution_count": 4,
   "id": "f635cd68-d12f-4202-9a75-6b339048a0f7",
   "metadata": {},
   "outputs": [
    {
     "data": {
      "text/plain": [
       "0.03297857655856321"
      ]
     },
     "execution_count": 4,
     "metadata": {},
     "output_type": "execute_result"
    }
   ],
   "source": [
    "mapita = a.calc_map()\n",
    "mapita"
   ]
  },
  {
   "cell_type": "code",
   "execution_count": 6,
   "id": "56139d1e-76a9-4d81-9b2d-076000461fc8",
   "metadata": {},
   "outputs": [
    {
     "name": "stdout",
     "output_type": "stream",
     "text": [
      "[FLICKR] 33 classes with a total of 14501 samples\n",
      "[FLICKR] 33 classes with a total of 14501 samples\n"
     ]
    },
    {
     "data": {
      "image/png": "[encoded data removed]",
      "text/plain": [
       "<Figure size 432x288 with 1 Axes>"
      ]
     },
     "metadata": {
      "needs_background": "light"
     },
     "output_type": "display_data"
    }
   ],
   "source": [
    "x,y = a.calc_recall_ratio(l_c)"
   ]
  },
  {
   "cell_type": "code",
   "execution_count": 7,
   "id": "008721bd-b193-4ce8-aaaf-b3720e31dbc4",
   "metadata": {},
   "outputs": [
    {
     "name": "stdout",
     "output_type": "stream",
     "text": [
      "[FLICKR] 33 classes with a total of 14501 samples\n",
      "[FLICKR] 33 classes with a total of 14501 samples\n"
     ]
    },
    {
     "data": {
      "image/png": "[encoded data removed]",
      "text/plain": [
       "<Figure size 432x288 with 1 Axes>"
      ]
     },
     "metadata": {
      "needs_background": "light"
     },
     "output_type": "display_data"
    }
   ],
   "source": [
    "rp = a.calc_recall_prec(l_c)"
   ]
  },
  {
   "cell_type": "code",
   "execution_count": 5,
   "id": "bdd7ec84-3677-4959-b272-954d61feee2a",
   "metadata": {},
   "outputs": [
    {
     "name": "stdout",
     "output_type": "stream",
     "text": [
      "[FLICKR] 33 classes with a total of 14501 samples\n",
      "[FLICKR] 33 classes with a total of 14501 samples\n"
     ]
    },
    {
     "data": {
      "text/plain": [
       "array([0.15540188, 0.04156103, 0.03603674, 0.03324334, 0.0319077 ,\n",
       "       0.03129775, 0.03104536, 0.03082109, 0.03067369, 0.03055323,\n",
       "       0.03019482])"
      ]
     },
     "execution_count": 5,
     "metadata": {},
     "output_type": "execute_result"
    },
    {
     "data": {
      "image/png": "[encoded data removed]",
      "text/plain": [
       "<Figure size 432x288 with 1 Axes>"
      ]
     },
     "metadata": {
      "needs_background": "light"
     },
     "output_type": "display_data"
    }
   ],
   "source": [
    "rp = a.calc_recall_prec(l_c)\n",
    "rp"
   ]
  },
  {
   "cell_type": "code",
   "execution_count": 8,
   "id": "216d7645-0244-4be8-9009-39743f54662c",
   "metadata": {},
   "outputs": [
    {
     "data": {
      "text/plain": [
       "array([0.15455729, 0.04055576, 0.03524553, 0.03266611, 0.03142474,\n",
       "       0.03078124, 0.03044442, 0.03029653, 0.03034701, 0.0305433 ,\n",
       "       0.03019482])"
      ]
     },
     "execution_count": 8,
     "metadata": {},
     "output_type": "execute_result"
    }
   ],
   "source": [
    "rp"
   ]
  },
  {
   "cell_type": "code",
   "execution_count": null,
   "id": "767d5a82-9f41-4b32-9be1-f5593fb6e5cd",
   "metadata": {},
   "outputs": [],
   "source": [
    "pqg = r'B:\\Flickr\\Flickr15K\\queries'\n",
    "mapita = a.calc_map(pqg)"
   ]
  },
  {
   "cell_type": "code",
   "execution_count": 11,
   "id": "c97a77cd-8d57-4616-a80a-40e33497d96e",
   "metadata": {},
   "outputs": [
    {
     "data": {
      "text/plain": [
       "0.03297857655856321"
      ]
     },
     "execution_count": 11,
     "metadata": {},
     "output_type": "execute_result"
    }
   ],
   "source": [
    "mapita"
   ]
  },
  {
   "cell_type": "code",
   "execution_count": 8,
   "id": "fa3ee7a0-5ea6-4ba7-864b-4ebe2880b111",
   "metadata": {},
   "outputs": [
    {
     "name": "stderr",
     "output_type": "stream",
     "text": [
      "Querying: 100%|██████████████████████████████████████████████████████████████████| 1813/1813 [00:00<00:00, 3416.12it/s]\n",
      "Querying: 100%|██████████████████████████████████████████████████████████████████| 1813/1813 [00:00<00:00, 2820.41it/s]\n",
      "Querying: 100%|██████████████████████████████████████████████████████████████████| 1813/1813 [00:00<00:00, 2403.19it/s]\n",
      "Querying: 100%|██████████████████████████████████████████████████████████████████| 1813/1813 [00:00<00:00, 3159.25it/s]\n",
      "Querying: 100%|██████████████████████████████████████████████████████████████████| 1813/1813 [00:00<00:00, 2962.11it/s]\n",
      "Querying: 100%|██████████████████████████████████████████████████████████████████| 1813/1813 [00:00<00:00, 2412.71it/s]\n",
      "Querying: 100%|██████████████████████████████████████████████████████████████████| 1813/1813 [00:00<00:00, 2744.18it/s]\n",
      "Querying: 100%|██████████████████████████████████████████████████████████████████| 1813/1813 [00:00<00:00, 2769.13it/s]\n",
      "Querying: 100%|██████████████████████████████████████████████████████████████████| 1813/1813 [00:00<00:00, 2884.96it/s]\n",
      "Querying: 100%|██████████████████████████████████████████████████████████████████| 1813/1813 [00:00<00:00, 2610.89it/s]\n",
      "Querying: 100%|██████████████████████████████████████████████████████████████████| 1813/1813 [00:00<00:00, 3226.17it/s]\n",
      "Querying: 100%|██████████████████████████████████████████████████████████████████| 1813/1813 [00:01<00:00, 1811.32it/s]\n",
      "Querying: 100%|██████████████████████████████████████████████████████████████████| 1813/1813 [00:00<00:00, 2471.43it/s]\n",
      "Querying: 100%|██████████████████████████████████████████████████████████████████| 1813/1813 [00:00<00:00, 2855.66it/s]\n",
      "Querying: 100%|██████████████████████████████████████████████████████████████████| 1813/1813 [00:00<00:00, 2917.20it/s]\n",
      "Querying: 100%|██████████████████████████████████████████████████████████████████| 1813/1813 [00:00<00:00, 2489.95it/s]\n",
      "Querying: 100%|██████████████████████████████████████████████████████████████████| 1813/1813 [00:00<00:00, 2983.88it/s]\n",
      "Querying: 100%|██████████████████████████████████████████████████████████████████| 1813/1813 [00:00<00:00, 2425.51it/s]\n",
      "Querying: 100%|██████████████████████████████████████████████████████████████████| 1813/1813 [00:00<00:00, 2350.64it/s]\n",
      "Querying: 100%|██████████████████████████████████████████████████████████████████| 1813/1813 [00:00<00:00, 2880.42it/s]\n",
      "Querying: 100%|██████████████████████████████████████████████████████████████████| 1813/1813 [00:00<00:00, 2641.08it/s]\n",
      "Querying: 100%|██████████████████████████████████████████████████████████████████| 1813/1813 [00:00<00:00, 2991.21it/s]\n",
      "Querying: 100%|██████████████████████████████████████████████████████████████████| 1813/1813 [00:00<00:00, 3220.30it/s]\n",
      "Querying: 100%|██████████████████████████████████████████████████████████████████| 1813/1813 [00:00<00:00, 3300.88it/s]\n",
      "Querying: 100%|██████████████████████████████████████████████████████████████████| 1813/1813 [00:00<00:00, 3116.16it/s]\n",
      "Querying: 100%|██████████████████████████████████████████████████████████████████| 1813/1813 [00:00<00:00, 3206.36it/s]\n",
      "Querying: 100%|██████████████████████████████████████████████████████████████████| 1813/1813 [00:00<00:00, 3184.02it/s]\n",
      "Querying: 100%|██████████████████████████████████████████████████████████████████| 1813/1813 [00:00<00:00, 3286.32it/s]\n",
      "Querying: 100%|██████████████████████████████████████████████████████████████████| 1813/1813 [00:00<00:00, 3260.80it/s]\n",
      "Querying: 100%|██████████████████████████████████████████████████████████████████| 1813/1813 [00:00<00:00, 3240.47it/s]\n",
      "Querying: 100%|██████████████████████████████████████████████████████████████████| 1813/1813 [00:00<00:00, 3275.15it/s]\n",
      "Querying: 100%|██████████████████████████████████████████████████████████████████| 1813/1813 [00:00<00:00, 3010.91it/s]\n",
      "Querying: 100%|██████████████████████████████████████████████████████████████████| 1813/1813 [00:00<00:00, 3001.03it/s]\n",
      "Querying: 100%|██████████████████████████████████████████████████████████████████| 1813/1813 [00:00<00:00, 3307.75it/s]\n",
      "Querying: 100%|██████████████████████████████████████████████████████████████████| 1813/1813 [00:00<00:00, 3254.90it/s]\n",
      "Querying: 100%|██████████████████████████████████████████████████████████████████| 1813/1813 [00:00<00:00, 3095.05it/s]\n",
      "Querying: 100%|██████████████████████████████████████████████████████████████████| 1813/1813 [00:00<00:00, 3214.81it/s]\n",
      "Querying: 100%|██████████████████████████████████████████████████████████████████| 1813/1813 [00:00<00:00, 3278.25it/s]\n",
      "Querying: 100%|██████████████████████████████████████████████████████████████████| 1813/1813 [00:00<00:00, 3246.22it/s]\n",
      "Querying: 100%|██████████████████████████████████████████████████████████████████| 1813/1813 [00:00<00:00, 3263.41it/s]\n",
      "Querying: 100%|██████████████████████████████████████████████████████████████████| 1813/1813 [00:00<00:00, 3269.45it/s]\n",
      "Querying: 100%|██████████████████████████████████████████████████████████████████| 1813/1813 [00:00<00:00, 3234.73it/s]\n",
      "Querying: 100%|██████████████████████████████████████████████████████████████████| 1813/1813 [00:00<00:00, 3272.24it/s]\n",
      "Querying: 100%|██████████████████████████████████████████████████████████████████| 1813/1813 [00:00<00:00, 3170.21it/s]\n",
      "Querying: 100%|██████████████████████████████████████████████████████████████████| 1813/1813 [00:00<00:00, 3189.57it/s]\n",
      "Querying: 100%|██████████████████████████████████████████████████████████████████| 1813/1813 [00:00<00:00, 3359.61it/s]\n",
      "Querying: 100%|██████████████████████████████████████████████████████████████████| 1813/1813 [00:00<00:00, 2832.27it/s]\n",
      "Querying: 100%|██████████████████████████████████████████████████████████████████| 1813/1813 [00:00<00:00, 3113.50it/s]\n",
      "Querying: 100%|██████████████████████████████████████████████████████████████████| 1813/1813 [00:00<00:00, 3214.82it/s]\n",
      "Querying: 100%|██████████████████████████████████████████████████████████████████| 1813/1813 [00:00<00:00, 3156.52it/s]\n",
      "Querying: 100%|██████████████████████████████████████████████████████████████████| 1813/1813 [00:00<00:00, 3223.33it/s]\n",
      "Querying: 100%|██████████████████████████████████████████████████████████████████| 1813/1813 [00:00<00:00, 3263.36it/s]\n",
      "Querying: 100%|██████████████████████████████████████████████████████████████████| 1813/1813 [00:00<00:00, 3260.71it/s]\n",
      "Querying: 100%|██████████████████████████████████████████████████████████████████| 1813/1813 [00:00<00:00, 3397.07it/s]\n",
      "Querying: 100%|██████████████████████████████████████████████████████████████████| 1813/1813 [00:00<00:00, 3365.79it/s]\n",
      "Querying: 100%|██████████████████████████████████████████████████████████████████| 1813/1813 [00:00<00:00, 3381.36it/s]\n",
      "Querying: 100%|██████████████████████████████████████████████████████████████████| 1813/1813 [00:00<00:00, 3344.23it/s]\n",
      "Querying: 100%|██████████████████████████████████████████████████████████████████| 1813/1813 [00:00<00:00, 3397.07it/s]\n",
      "Querying: 100%|██████████████████████████████████████████████████████████████████| 1813/1813 [00:00<00:00, 3353.44it/s]\n",
      "Querying: 100%|██████████████████████████████████████████████████████████████████| 1813/1813 [00:00<00:00, 3387.63it/s]\n",
      "Querying: 100%|██████████████████████████████████████████████████████████████████| 1813/1813 [00:00<00:00, 3313.92it/s]\n",
      "Querying: 100%|██████████████████████████████████████████████████████████████████| 1813/1813 [00:00<00:00, 3237.60it/s]\n",
      "Querying: 100%|██████████████████████████████████████████████████████████████████| 1813/1813 [00:00<00:00, 3391.30it/s]\n",
      "Querying: 100%|██████████████████████████████████████████████████████████████████| 1813/1813 [00:00<00:00, 3269.45it/s]\n",
      "Querying: 100%|██████████████████████████████████████████████████████████████████| 1813/1813 [00:00<00:00, 3310.91it/s]\n",
      "Querying: 100%|██████████████████████████████████████████████████████████████████| 1813/1813 [00:00<00:00, 3365.79it/s]\n",
      "Querying: 100%|██████████████████████████████████████████████████████████████████| 1813/1813 [00:00<00:00, 3298.79it/s]\n",
      "Querying: 100%|██████████████████████████████████████████████████████████████████| 1813/1813 [00:00<00:00, 3335.08it/s]\n",
      "Querying: 100%|██████████████████████████████████████████████████████████████████| 1813/1813 [00:00<00:00, 3341.18it/s]\n",
      "Querying: 100%|██████████████████████████████████████████████████████████████████| 1813/1813 [00:00<00:00, 3226.17it/s]\n",
      "Querying: 100%|██████████████████████████████████████████████████████████████████| 1813/1813 [00:00<00:00, 3393.41it/s]\n",
      "Querying: 100%|██████████████████████████████████████████████████████████████████| 1813/1813 [00:00<00:00, 3425.72it/s]\n",
      "Querying: 100%|██████████████████████████████████████████████████████████████████| 1813/1813 [00:00<00:00, 3406.39it/s]\n",
      "Querying: 100%|██████████████████████████████████████████████████████████████████| 1813/1813 [00:00<00:00, 3381.36it/s]\n",
      "Querying: 100%|██████████████████████████████████████████████████████████████████| 1813/1813 [00:00<00:00, 3307.92it/s]\n",
      "Querying: 100%|██████████████████████████████████████████████████████████████████| 1813/1813 [00:00<00:00, 3281.19it/s]\n",
      "Querying: 100%|██████████████████████████████████████████████████████████████████| 1813/1813 [00:00<00:00, 3356.52it/s]\n",
      "Querying: 100%|██████████████████████████████████████████████████████████████████| 1813/1813 [00:00<00:00, 3435.39it/s]\n",
      "Querying: 100%|██████████████████████████████████████████████████████████████████| 1813/1813 [00:00<00:00, 3156.52it/s]\n",
      "Querying: 100%|██████████████████████████████████████████████████████████████████| 1813/1813 [00:00<00:00, 3504.35it/s]\n",
      "Querying: 100%|██████████████████████████████████████████████████████████████████| 1813/1813 [00:00<00:00, 3756.68it/s]\n",
      "Querying: 100%|██████████████████████████████████████████████████████████████████| 1813/1813 [00:00<00:00, 3644.32it/s]\n",
      "Querying: 100%|██████████████████████████████████████████████████████████████████| 1813/1813 [00:00<00:00, 2981.44it/s]\n",
      "Querying: 100%|██████████████████████████████████████████████████████████████████| 1813/1813 [00:00<00:00, 3025.87it/s]\n",
      "Querying: 100%|██████████████████████████████████████████████████████████████████| 1813/1813 [00:00<00:00, 2924.19it/s]\n",
      "Querying: 100%|██████████████████████████████████████████████████████████████████| 1813/1813 [00:00<00:00, 3084.60it/s]\n",
      "Querying: 100%|██████████████████████████████████████████████████████████████████| 1813/1813 [00:00<00:00, 2855.66it/s]\n",
      "Querying: 100%|██████████████████████████████████████████████████████████████████| 1813/1813 [00:00<00:00, 3082.00it/s]\n",
      "Querying: 100%|██████████████████████████████████████████████████████████████████| 1813/1813 [00:00<00:00, 3362.69it/s]\n",
      "Querying: 100%|██████████████████████████████████████████████████████████████████| 1813/1813 [00:00<00:00, 3051.13it/s]\n",
      "Querying: 100%|██████████████████████████████████████████████████████████████████| 1813/1813 [00:01<00:00, 1716.89it/s]\n",
      "Querying: 100%|██████████████████████████████████████████████████████████████████| 1813/1813 [00:00<00:00, 1944.28it/s]\n",
      "Querying: 100%|██████████████████████████████████████████████████████████████████| 1813/1813 [00:01<00:00, 1524.93it/s]\n",
      "Querying: 100%|██████████████████████████████████████████████████████████████████| 1813/1813 [00:00<00:00, 3001.02it/s]\n",
      "Querying: 100%|██████████████████████████████████████████████████████████████████| 1813/1813 [00:00<00:00, 2790.27it/s]\n",
      "Querying: 100%|██████████████████████████████████████████████████████████████████| 1813/1813 [00:00<00:00, 3172.96it/s]\n",
      "Querying: 100%|██████████████████████████████████████████████████████████████████| 1813/1813 [00:00<00:00, 2407.94it/s]\n",
      "Querying: 100%|██████████████████████████████████████████████████████████████████| 1813/1813 [00:00<00:00, 1935.02it/s]\n",
      "Querying: 100%|██████████████████████████████████████████████████████████████████| 1813/1813 [00:00<00:00, 2610.89it/s]\n",
      "Querying: 100%|██████████████████████████████████████████████████████████████████| 1813/1813 [00:00<00:00, 2100.72it/s]\n",
      "Querying: 100%|██████████████████████████████████████████████████████████████████| 1813/1813 [00:00<00:00, 3293.02it/s]\n",
      "Querying: 100%|██████████████████████████████████████████████████████████████████| 1813/1813 [00:00<00:00, 3058.79it/s]\n",
      "Querying: 100%|██████████████████████████████████████████████████████████████████| 1813/1813 [00:00<00:00, 3102.93it/s]\n",
      "Querying: 100%|██████████████████████████████████████████████████████████████████| 1813/1813 [00:00<00:00, 3186.79it/s]\n",
      "Querying: 100%|██████████████████████████████████████████████████████████████████| 1813/1813 [00:00<00:00, 2756.60it/s]\n",
      "Querying: 100%|██████████████████████████████████████████████████████████████████| 1813/1813 [00:00<00:00, 3331.86it/s]\n",
      "Querying: 100%|██████████████████████████████████████████████████████████████████| 1813/1813 [00:00<00:00, 2844.55it/s]\n",
      "Querying: 100%|██████████████████████████████████████████████████████████████████| 1813/1813 [00:00<00:00, 3323.58it/s]\n",
      "Querying: 100%|██████████████████████████████████████████████████████████████████| 1813/1813 [00:00<00:00, 3403.40it/s]\n",
      "Querying: 100%|██████████████████████████████████████████████████████████████████| 1813/1813 [00:00<00:00, 3301.94it/s]\n",
      "Querying: 100%|██████████████████████████████████████████████████████████████████| 1813/1813 [00:00<00:00, 3272.38it/s]\n",
      "Querying: 100%|██████████████████████████████████████████████████████████████████| 1813/1813 [00:00<00:00, 3290.15it/s]\n",
      "Querying: 100%|██████████████████████████████████████████████████████████████████| 1813/1813 [00:00<00:00, 3097.67it/s]\n",
      "Querying: 100%|██████████████████████████████████████████████████████████████████| 1813/1813 [00:00<00:00, 3214.82it/s]\n",
      "Querying: 100%|██████████████████████████████████████████████████████████████████| 1813/1813 [00:00<00:00, 3151.08it/s]\n",
      "Querying: 100%|██████████████████████████████████████████████████████████████████| 1813/1813 [00:00<00:00, 3151.07it/s]\n",
      "Querying: 100%|██████████████████████████████████████████████████████████████████| 1813/1813 [00:00<00:00, 2894.10it/s]\n",
      "Querying: 100%|██████████████████████████████████████████████████████████████████| 1813/1813 [00:00<00:00, 3110.85it/s]\n",
      "Querying: 100%|██████████████████████████████████████████████████████████████████| 1813/1813 [00:00<00:00, 3226.00it/s]\n",
      "Querying: 100%|██████████████████████████████████████████████████████████████████| 1813/1813 [00:00<00:00, 3313.91it/s]\n",
      "Querying: 100%|██████████████████████████████████████████████████████████████████| 1813/1813 [00:00<00:00, 2950.16it/s]\n",
      "Querying: 100%|██████████████████████████████████████████████████████████████████| 1813/1813 [00:00<00:00, 3316.92it/s]\n",
      "Querying: 100%|██████████████████████████████████████████████████████████████████| 1813/1813 [00:00<00:00, 3178.48it/s]\n",
      "Querying: 100%|██████████████████████████████████████████████████████████████████| 1813/1813 [00:00<00:00, 2822.59it/s]\n",
      "Querying: 100%|██████████████████████████████████████████████████████████████████| 1813/1813 [00:00<00:00, 3066.34it/s]\n",
      "Querying: 100%|██████████████████████████████████████████████████████████████████| 1813/1813 [00:00<00:00, 2259.12it/s]\n",
      "Querying: 100%|██████████████████████████████████████████████████████████████████| 1813/1813 [00:00<00:00, 3066.48it/s]\n",
      "Querying: 100%|██████████████████████████████████████████████████████████████████| 1813/1813 [00:00<00:00, 3087.21it/s]\n",
      "Querying: 100%|██████████████████████████████████████████████████████████████████| 1813/1813 [00:00<00:00, 3319.93it/s]\n",
      "Querying: 100%|██████████████████████████████████████████████████████████████████| 1813/1813 [00:00<00:00, 3301.94it/s]\n",
      "Querying: 100%|██████████████████████████████████████████████████████████████████| 1813/1813 [00:00<00:00, 3266.53it/s]\n",
      "Querying: 100%|██████████████████████████████████████████████████████████████████| 1813/1813 [00:00<00:00, 3153.79it/s]\n",
      "Querying: 100%|██████████████████████████████████████████████████████████████████| 1813/1813 [00:00<00:00, 3283.97it/s]\n",
      "Querying: 100%|██████████████████████████████████████████████████████████████████| 1813/1813 [00:00<00:00, 3322.95it/s]\n",
      "Querying: 100%|██████████████████████████████████████████████████████████████████| 1813/1813 [00:00<00:00, 3319.93it/s]\n",
      "Querying: 100%|██████████████████████████████████████████████████████████████████| 1813/1813 [00:00<00:00, 3396.68it/s]\n",
      "Querying: 100%|██████████████████████████████████████████████████████████████████| 1813/1813 [00:00<00:00, 3322.81it/s]\n",
      "Querying: 100%|██████████████████████████████████████████████████████████████████| 1813/1813 [00:00<00:00, 3375.11it/s]\n",
      "Querying: 100%|██████████████████████████████████████████████████████████████████| 1813/1813 [00:00<00:00, 3175.71it/s]\n",
      "Querying: 100%|██████████████████████████████████████████████████████████████████| 1813/1813 [00:00<00:00, 3412.93it/s]\n",
      "Querying: 100%|██████████████████████████████████████████████████████████████████| 1813/1813 [00:00<00:00, 3043.50it/s]\n",
      "Querying: 100%|██████████████████████████████████████████████████████████████████| 1813/1813 [00:00<00:00, 3375.12it/s]\n",
      "Querying: 100%|██████████████████████████████████████████████████████████████████| 1813/1813 [00:00<00:00, 3269.45it/s]\n",
      "Querying: 100%|██████████████████████████████████████████████████████████████████| 1813/1813 [00:00<00:00, 3335.08it/s]\n",
      "Querying: 100%|██████████████████████████████████████████████████████████████████| 1813/1813 [00:00<00:00, 3406.56it/s]\n",
      "Querying: 100%|██████████████████████████████████████████████████████████████████| 1813/1813 [00:00<00:00, 3335.08it/s]\n",
      "Querying: 100%|██████████████████████████████████████████████████████████████████| 1813/1813 [00:00<00:00, 3435.38it/s]\n",
      "Querying: 100%|██████████████████████████████████████████████████████████████████| 1813/1813 [00:00<00:00, 3181.25it/s]\n",
      "Querying: 100%|██████████████████████████████████████████████████████████████████| 1813/1813 [00:00<00:00, 3365.79it/s]\n",
      "Querying: 100%|██████████████████████████████████████████████████████████████████| 1813/1813 [00:00<00:00, 3310.92it/s]\n",
      "Querying: 100%|██████████████████████████████████████████████████████████████████| 1813/1813 [00:00<00:00, 3170.21it/s]\n",
      "Querying: 100%|██████████████████████████████████████████████████████████████████| 1813/1813 [00:00<00:00, 3043.51it/s]\n",
      "Querying: 100%|██████████████████████████████████████████████████████████████████| 1813/1813 [00:00<00:00, 3287.09it/s]\n",
      "Querying: 100%|██████████████████████████████████████████████████████████████████| 1813/1813 [00:00<00:00, 3356.52it/s]\n",
      "Querying: 100%|██████████████████████████████████████████████████████████████████| 1813/1813 [00:00<00:00, 3246.23it/s]\n",
      "Querying: 100%|██████████████████████████████████████████████████████████████████| 1813/1813 [00:00<00:00, 3286.93it/s]\n",
      "Querying: 100%|██████████████████████████████████████████████████████████████████| 1813/1813 [00:00<00:00, 3419.32it/s]\n",
      "Querying: 100%|██████████████████████████████████████████████████████████████████| 1813/1813 [00:00<00:00, 3295.99it/s]\n",
      "Querying: 100%|██████████████████████████████████████████████████████████████████| 1813/1813 [00:00<00:00, 3110.85it/s]\n",
      "Querying: 100%|██████████████████████████████████████████████████████████████████| 1813/1813 [00:00<00:00, 3319.93it/s]\n",
      "Querying: 100%|██████████████████████████████████████████████████████████████████| 1813/1813 [00:00<00:00, 3197.94it/s]\n",
      "Querying: 100%|██████████████████████████████████████████████████████████████████| 1813/1813 [00:00<00:00, 3406.57it/s]\n",
      "Querying: 100%|██████████████████████████████████████████████████████████████████| 1813/1813 [00:00<00:00, 3249.10it/s]\n",
      "Querying: 100%|██████████████████████████████████████████████████████████████████| 1813/1813 [00:00<00:00, 3390.59it/s]\n",
      "Querying: 100%|██████████████████████████████████████████████████████████████████| 1813/1813 [00:00<00:00, 3275.32it/s]\n",
      "Querying: 100%|██████████████████████████████████████████████████████████████████| 1813/1813 [00:00<00:00, 3375.11it/s]\n",
      "Querying: 100%|██████████████████████████████████████████████████████████████████| 1813/1813 [00:00<00:00, 3353.27it/s]\n",
      "Querying: 100%|██████████████████████████████████████████████████████████████████| 1813/1813 [00:00<00:00, 3381.36it/s]\n",
      "Querying: 100%|██████████████████████████████████████████████████████████████████| 1813/1813 [00:00<00:00, 3315.34it/s]\n",
      "Querying: 100%|██████████████████████████████████████████████████████████████████| 1813/1813 [00:00<00:00, 3313.92it/s]\n",
      "Querying: 100%|██████████████████████████████████████████████████████████████████| 1813/1813 [00:00<00:00, 3234.73it/s]\n",
      "Querying: 100%|██████████████████████████████████████████████████████████████████| 1813/1813 [00:00<00:00, 3438.62it/s]\n",
      "Querying: 100%|██████████████████████████████████████████████████████████████████| 1813/1813 [00:00<00:00, 3203.55it/s]\n",
      "Querying: 100%|██████████████████████████████████████████████████████████████████| 1813/1813 [00:00<00:00, 3203.54it/s]\n",
      "Querying: 100%|██████████████████████████████████████████████████████████████████| 1813/1813 [00:00<00:00, 3381.36it/s]\n",
      "Querying: 100%|██████████████████████████████████████████████████████████████████| 1813/1813 [00:00<00:00, 3378.05it/s]\n",
      "Querying: 100%|██████████████████████████████████████████████████████████████████| 1813/1813 [00:00<00:00, 3292.85it/s]\n",
      "Querying: 100%|██████████████████████████████████████████████████████████████████| 1813/1813 [00:00<00:00, 3249.11it/s]\n",
      "Querying: 100%|██████████████████████████████████████████████████████████████████| 1813/1813 [00:00<00:00, 3317.50it/s]\n",
      "Querying: 100%|██████████████████████████████████████████████████████████████████| 1813/1813 [00:00<00:00, 3387.63it/s]\n",
      "Querying: 100%|██████████████████████████████████████████████████████████████████| 1813/1813 [00:00<00:00, 3214.81it/s]\n",
      "Querying: 100%|██████████████████████████████████████████████████████████████████| 1813/1813 [00:00<00:00, 3316.09it/s]\n",
      "Querying: 100%|██████████████████████████████████████████████████████████████████| 1813/1813 [00:00<00:00, 3252.00it/s]\n",
      "Querying: 100%|██████████████████████████████████████████████████████████████████| 1813/1813 [00:00<00:00, 3290.06it/s]\n",
      "Querying: 100%|██████████████████████████████████████████████████████████████████| 1813/1813 [00:00<00:00, 2709.60it/s]\n",
      "Querying: 100%|██████████████████████████████████████████████████████████████████| 1813/1813 [00:00<00:00, 3356.52it/s]\n",
      "Querying: 100%|██████████████████████████████████████████████████████████████████| 1813/1813 [00:00<00:00, 3231.87it/s]\n",
      "Querying: 100%|██████████████████████████████████████████████████████████████████| 1813/1813 [00:00<00:00, 3293.01it/s]\n",
      "Querying: 100%|██████████████████████████████████████████████████████████████████| 1813/1813 [00:00<00:00, 2964.51it/s]\n",
      "Querying: 100%|██████████████████████████████████████████████████████████████████| 1813/1813 [00:00<00:00, 3290.05it/s]\n",
      "Querying: 100%|██████████████████████████████████████████████████████████████████| 1813/1813 [00:00<00:00, 3074.22it/s]\n",
      "Querying: 100%|██████████████████████████████████████████████████████████████████| 1813/1813 [00:00<00:00, 3132.17it/s]\n",
      "Querying: 100%|██████████████████████████████████████████████████████████████████| 1813/1813 [00:00<00:00, 3200.74it/s]\n",
      "Querying: 100%|██████████████████████████████████████████████████████████████████| 1813/1813 [00:00<00:00, 3313.92it/s]\n",
      "Querying: 100%|██████████████████████████████████████████████████████████████████| 1813/1813 [00:00<00:00, 3229.02it/s]\n",
      "Querying: 100%|██████████████████████████████████████████████████████████████████| 1813/1813 [00:00<00:00, 3335.07it/s]\n",
      "Querying: 100%|██████████████████████████████████████████████████████████████████| 1813/1813 [00:00<00:00, 3240.47it/s]\n",
      "Querying: 100%|██████████████████████████████████████████████████████████████████| 1813/1813 [00:00<00:00, 3393.92it/s]\n",
      "Querying: 100%|██████████████████████████████████████████████████████████████████| 1813/1813 [00:00<00:00, 3350.36it/s]\n",
      "Querying: 100%|██████████████████████████████████████████████████████████████████| 1813/1813 [00:00<00:00, 3325.98it/s]\n",
      "Querying: 100%|██████████████████████████████████████████████████████████████████| 1813/1813 [00:00<00:00, 3302.63it/s]\n",
      "Querying: 100%|██████████████████████████████████████████████████████████████████| 1813/1813 [00:00<00:00, 3329.01it/s]\n",
      "Querying: 100%|██████████████████████████████████████████████████████████████████| 1813/1813 [00:00<00:00, 3116.15it/s]\n",
      "Querying: 100%|██████████████████████████████████████████████████████████████████| 1813/1813 [00:00<00:00, 3172.96it/s]\n",
      "Querying: 100%|██████████████████████████████████████████████████████████████████| 1813/1813 [00:00<00:00, 3289.88it/s]\n",
      "Querying: 100%|██████████████████████████████████████████████████████████████████| 1813/1813 [00:00<00:00, 3254.90it/s]\n",
      "Querying: 100%|██████████████████████████████████████████████████████████████████| 1813/1813 [00:00<00:00, 3296.81it/s]\n",
      "Querying: 100%|██████████████████████████████████████████████████████████████████| 1813/1813 [00:00<00:00, 3167.46it/s]\n",
      "Querying: 100%|██████████████████████████████████████████████████████████████████| 1813/1813 [00:00<00:00, 3322.96it/s]\n",
      "Querying: 100%|██████████████████████████████████████████████████████████████████| 1813/1813 [00:00<00:00, 3272.38it/s]\n",
      "Querying: 100%|██████████████████████████████████████████████████████████████████| 1813/1813 [00:00<00:00, 3053.53it/s]\n",
      "Querying: 100%|██████████████████████████████████████████████████████████████████| 1813/1813 [00:00<00:00, 3249.11it/s]\n",
      "Querying: 100%|██████████████████████████████████████████████████████████████████| 1813/1813 [00:00<00:00, 3263.62it/s]\n",
      "Querying: 100%|██████████████████████████████████████████████████████████████████| 1813/1813 [00:00<00:00, 3295.99it/s]\n",
      "Querying: 100%|██████████████████████████████████████████████████████████████████| 1813/1813 [00:00<00:00, 3203.55it/s]\n",
      "Querying: 100%|██████████████████████████████████████████████████████████████████| 1813/1813 [00:00<00:00, 3332.04it/s]\n",
      "Querying: 100%|██████████████████████████████████████████████████████████████████| 1813/1813 [00:00<00:00, 3137.55it/s]\n",
      "Querying: 100%|██████████████████████████████████████████████████████████████████| 1813/1813 [00:00<00:00, 3375.11it/s]\n",
      "Querying: 100%|██████████████████████████████████████████████████████████████████| 1813/1813 [00:00<00:00, 3359.60it/s]\n",
      "Querying: 100%|██████████████████████████████████████████████████████████████████| 1813/1813 [00:00<00:00, 3347.22it/s]\n",
      "Querying: 100%|██████████████████████████████████████████████████████████████████| 1813/1813 [00:00<00:00, 3243.35it/s]\n",
      "Querying: 100%|██████████████████████████████████████████████████████████████████| 1813/1813 [00:00<00:00, 3381.23it/s]\n",
      "Querying: 100%|██████████████████████████████████████████████████████████████████| 1813/1813 [00:00<00:00, 3322.72it/s]\n",
      "Querying: 100%|██████████████████████████████████████████████████████████████████| 1813/1813 [00:00<00:00, 3322.95it/s]\n",
      "Querying: 100%|██████████████████████████████████████████████████████████████████| 1813/1813 [00:00<00:00, 3172.96it/s]\n",
      "Querying: 100%|██████████████████████████████████████████████████████████████████| 1813/1813 [00:00<00:00, 3387.44it/s]\n",
      "Querying: 100%|██████████████████████████████████████████████████████████████████| 1813/1813 [00:00<00:00, 3328.82it/s]\n",
      "Querying: 100%|██████████████████████████████████████████████████████████████████| 1813/1813 [00:00<00:00, 3359.60it/s]\n",
      "Querying: 100%|██████████████████████████████████████████████████████████████████| 1813/1813 [00:00<00:00, 3301.94it/s]\n",
      "Querying: 100%|██████████████████████████████████████████████████████████████████| 1813/1813 [00:00<00:00, 3295.58it/s]\n",
      "Querying: 100%|██████████████████████████████████████████████████████████████████| 1813/1813 [00:00<00:00, 3319.94it/s]\n",
      "Querying: 100%|██████████████████████████████████████████████████████████████████| 1813/1813 [00:00<00:00, 3347.30it/s]\n",
      "Querying: 100%|██████████████████████████████████████████████████████████████████| 1813/1813 [00:00<00:00, 3264.86it/s]\n",
      "Querying: 100%|██████████████████████████████████████████████████████████████████| 1813/1813 [00:00<00:00, 3257.80it/s]\n",
      "Querying: 100%|██████████████████████████████████████████████████████████████████| 1813/1813 [00:00<00:00, 3263.62it/s]\n",
      "Querying: 100%|██████████████████████████████████████████████████████████████████| 1813/1813 [00:00<00:00, 3172.96it/s]\n",
      "Querying: 100%|██████████████████████████████████████████████████████████████████| 1813/1813 [00:00<00:00, 3387.62it/s]\n",
      "Querying: 100%|██████████████████████████████████████████████████████████████████| 1813/1813 [00:00<00:00, 3335.08it/s]\n",
      "Querying: 100%|██████████████████████████████████████████████████████████████████| 1813/1813 [00:00<00:00, 3170.21it/s]\n",
      "Querying: 100%|██████████████████████████████████████████████████████████████████| 1813/1813 [00:00<00:00, 3350.36it/s]\n",
      "Querying: 100%|██████████████████████████████████████████████████████████████████| 1813/1813 [00:00<00:00, 3310.73it/s]\n",
      "Querying: 100%|██████████████████████████████████████████████████████████████████| 1813/1813 [00:00<00:00, 3350.37it/s]\n",
      "Querying: 100%|██████████████████████████████████████████████████████████████████| 1813/1813 [00:00<00:00, 3281.19it/s]\n",
      "Querying: 100%|██████████████████████████████████████████████████████████████████| 1813/1813 [00:00<00:00, 3365.61it/s]\n",
      "Querying: 100%|██████████████████████████████████████████████████████████████████| 1813/1813 [00:00<00:00, 3325.97it/s]\n",
      "Querying: 100%|██████████████████████████████████████████████████████████████████| 1813/1813 [00:00<00:00, 3102.93it/s]\n",
      "Querying: 100%|██████████████████████████████████████████████████████████████████| 1813/1813 [00:00<00:00, 3289.89it/s]\n",
      "Querying: 100%|██████████████████████████████████████████████████████████████████| 1813/1813 [00:00<00:00, 3228.85it/s]\n",
      "Querying: 100%|██████████████████████████████████████████████████████████████████| 1813/1813 [00:00<00:00, 3344.24it/s]\n",
      "Querying: 100%|██████████████████████████████████████████████████████████████████| 1813/1813 [00:00<00:00, 3332.04it/s]\n",
      "Querying: 100%|██████████████████████████████████████████████████████████████████| 1813/1813 [00:00<00:00, 3335.08it/s]\n",
      "Querying: 100%|██████████████████████████████████████████████████████████████████| 1813/1813 [00:00<00:00, 3272.38it/s]\n",
      "Querying: 100%|██████████████████████████████████████████████████████████████████| 1813/1813 [00:00<00:00, 3325.97it/s]\n",
      "Querying: 100%|██████████████████████████████████████████████████████████████████| 1813/1813 [00:00<00:00, 3370.89it/s]\n",
      "Querying: 100%|██████████████████████████████████████████████████████████████████| 1813/1813 [00:00<00:00, 3189.57it/s]\n",
      "Querying: 100%|██████████████████████████████████████████████████████████████████| 1813/1813 [00:00<00:00, 3314.01it/s]\n",
      "Querying: 100%|██████████████████████████████████████████████████████████████████| 1813/1813 [00:00<00:00, 3287.10it/s]\n",
      "Querying: 100%|██████████████████████████████████████████████████████████████████| 1813/1813 [00:00<00:00, 3310.74it/s]\n",
      "Querying: 100%|██████████████████████████████████████████████████████████████████| 1813/1813 [00:00<00:00, 3316.92it/s]\n",
      "Querying: 100%|██████████████████████████████████████████████████████████████████| 1813/1813 [00:00<00:00, 3403.40it/s]\n",
      "Querying: 100%|██████████████████████████████████████████████████████████████████| 1813/1813 [00:00<00:00, 3341.18it/s]\n",
      "Querying: 100%|██████████████████████████████████████████████████████████████████| 1813/1813 [00:00<00:00, 3206.36it/s]\n",
      "Querying: 100%|██████████████████████████████████████████████████████████████████| 1813/1813 [00:00<00:00, 3365.62it/s]\n",
      "Querying: 100%|██████████████████████████████████████████████████████████████████| 1813/1813 [00:00<00:00, 3316.93it/s]\n",
      "Querying: 100%|██████████████████████████████████████████████████████████████████| 1813/1813 [00:00<00:00, 3403.40it/s]\n",
      "Querying: 100%|██████████████████████████████████████████████████████████████████| 1813/1813 [00:00<00:00, 3272.38it/s]\n",
      "Querying: 100%|██████████████████████████████████████████████████████████████████| 1813/1813 [00:00<00:00, 3301.94it/s]\n",
      "Querying: 100%|██████████████████████████████████████████████████████████████████| 1813/1813 [00:00<00:00, 3378.24it/s]\n",
      "Querying: 100%|██████████████████████████████████████████████████████████████████| 1813/1813 [00:00<00:00, 3313.92it/s]\n",
      "Querying: 100%|██████████████████████████████████████████████████████████████████| 1813/1813 [00:00<00:00, 3347.11it/s]\n",
      "Querying: 100%|██████████████████████████████████████████████████████████████████| 1813/1813 [00:00<00:00, 3223.33it/s]\n",
      "Querying: 100%|██████████████████████████████████████████████████████████████████| 1813/1813 [00:00<00:00, 3289.18it/s]\n",
      "Querying: 100%|██████████████████████████████████████████████████████████████████| 1813/1813 [00:00<00:00, 3325.98it/s]\n",
      "Querying: 100%|██████████████████████████████████████████████████████████████████| 1813/1813 [00:00<00:00, 3350.37it/s]\n",
      "Querying: 100%|██████████████████████████████████████████████████████████████████| 1813/1813 [00:00<00:00, 3425.72it/s]\n",
      "Querying: 100%|██████████████████████████████████████████████████████████████████| 1813/1813 [00:00<00:00, 3203.55it/s]\n",
      "Querying: 100%|██████████████████████████████████████████████████████████████████| 1813/1813 [00:00<00:00, 3350.37it/s]\n",
      "Querying: 100%|██████████████████████████████████████████████████████████████████| 1813/1813 [00:00<00:00, 3313.07it/s]\n",
      "Querying: 100%|██████████████████████████████████████████████████████████████████| 1813/1813 [00:00<00:00, 3243.17it/s]\n",
      "Querying: 100%|██████████████████████████████████████████████████████████████████| 1813/1813 [00:00<00:00, 3211.99it/s]\n",
      "Querying: 100%|██████████████████████████████████████████████████████████████████| 1813/1813 [00:00<00:00, 3275.31it/s]\n",
      "Querying: 100%|██████████████████████████████████████████████████████████████████| 1813/1813 [00:00<00:00, 3284.14it/s]\n",
      "Querying: 100%|██████████████████████████████████████████████████████████████████| 1813/1813 [00:00<00:00, 3332.04it/s]\n",
      "Querying: 100%|██████████████████████████████████████████████████████████████████| 1813/1813 [00:00<00:00, 3432.82it/s]\n",
      "Querying: 100%|██████████████████████████████████████████████████████████████████| 1813/1813 [00:00<00:00, 3197.78it/s]\n",
      "Querying: 100%|██████████████████████████████████████████████████████████████████| 1813/1813 [00:00<00:00, 3384.31it/s]\n",
      "Querying: 100%|██████████████████████████████████████████████████████████████████| 1813/1813 [00:00<00:00, 3365.60it/s]\n",
      "Querying: 100%|██████████████████████████████████████████████████████████████████| 1813/1813 [00:00<00:00, 3390.77it/s]\n",
      "Querying: 100%|██████████████████████████████████████████████████████████████████| 1813/1813 [00:00<00:00, 3334.88it/s]\n",
      "Querying: 100%|██████████████████████████████████████████████████████████████████| 1813/1813 [00:00<00:00, 3332.77it/s]\n",
      "Querying: 100%|██████████████████████████████████████████████████████████████████| 1813/1813 [00:00<00:00, 3298.96it/s]\n",
      "Querying: 100%|██████████████████████████████████████████████████████████████████| 1813/1813 [00:00<00:00, 3195.15it/s]\n",
      "Querying: 100%|██████████████████████████████████████████████████████████████████| 1813/1813 [00:00<00:00, 3313.91it/s]\n",
      "Querying: 100%|██████████████████████████████████████████████████████████████████| 1813/1813 [00:00<00:00, 3368.89it/s]\n",
      "Querying: 100%|██████████████████████████████████████████████████████████████████| 1813/1813 [00:00<00:00, 3209.17it/s]\n",
      "Querying: 100%|██████████████████████████████████████████████████████████████████| 1813/1813 [00:00<00:00, 3381.36it/s]\n",
      "Querying: 100%|██████████████████████████████████████████████████████████████████| 1813/1813 [00:00<00:00, 3234.74it/s]\n",
      "Querying: 100%|██████████████████████████████████████████████████████████████████| 1813/1813 [00:00<00:00, 3319.94it/s]\n",
      "Querying: 100%|██████████████████████████████████████████████████████████████████| 1813/1813 [00:00<00:00, 3390.77it/s]\n",
      "Querying: 100%|██████████████████████████████████████████████████████████████████| 1813/1813 [00:00<00:00, 3341.18it/s]\n",
      "Querying: 100%|██████████████████████████████████████████████████████████████████| 1813/1813 [00:00<00:00, 3184.02it/s]\n",
      "Querying: 100%|██████████████████████████████████████████████████████████████████| 1813/1813 [00:00<00:00, 3432.16it/s]\n",
      "Querying: 100%|██████████████████████████████████████████████████████████████████| 1813/1813 [00:00<00:00, 3341.18it/s]\n",
      "Querying: 100%|██████████████████████████████████████████████████████████████████| 1813/1813 [00:00<00:00, 3217.64it/s]\n",
      "Querying: 100%|██████████████████████████████████████████████████████████████████| 1813/1813 [00:00<00:00, 3313.74it/s]\n",
      "Querying: 100%|██████████████████████████████████████████████████████████████████| 1813/1813 [00:00<00:00, 3322.97it/s]\n",
      "Querying: 100%|██████████████████████████████████████████████████████████████████| 1813/1813 [00:00<00:00, 3206.21it/s]\n",
      "Querying: 100%|██████████████████████████████████████████████████████████████████| 1813/1813 [00:00<00:00, 3229.02it/s]\n",
      "Querying: 100%|██████████████████████████████████████████████████████████████████| 1813/1813 [00:00<00:00, 3365.79it/s]\n",
      "Querying: 100%|██████████████████████████████████████████████████████████████████| 1813/1813 [00:00<00:00, 3301.94it/s]\n",
      "Querying: 100%|██████████████████████████████████████████████████████████████████| 1813/1813 [00:00<00:00, 3368.89it/s]\n",
      "Querying: 100%|██████████████████████████████████████████████████████████████████| 1813/1813 [00:00<00:00, 3293.06it/s]\n",
      "Querying: 100%|██████████████████████████████████████████████████████████████████| 1813/1813 [00:00<00:00, 3307.91it/s]\n",
      "Querying: 100%|██████████████████████████████████████████████████████████████████| 1813/1813 [00:00<00:00, 3249.11it/s]\n",
      "Querying: 100%|██████████████████████████████████████████████████████████████████| 1813/1813 [00:00<00:00, 3319.94it/s]\n",
      "Querying: 100%|██████████████████████████████████████████████████████████████████| 1813/1813 [00:00<00:00, 3129.49it/s]\n",
      "Querying: 100%|██████████████████████████████████████████████████████████████████| 1813/1813 [00:00<00:00, 3257.80it/s]\n",
      "Querying: 100%|██████████████████████████████████████████████████████████████████| 1813/1813 [00:00<00:00, 3287.09it/s]\n",
      "Querying: 100%|██████████████████████████████████████████████████████████████████| 1813/1813 [00:00<00:00, 3249.11it/s]\n",
      "Querying: 100%|██████████████████████████████████████████████████████████████████| 1813/1813 [00:00<00:00, 3322.95it/s]\n",
      "Querying: 100%|██████████████████████████████████████████████████████████████████| 1813/1813 [00:00<00:00, 3151.08it/s]\n",
      "Querying: 100%|██████████████████████████████████████████████████████████████████| 1813/1813 [00:00<00:00, 3325.98it/s]\n",
      "Querying: 100%|██████████████████████████████████████████████████████████████████| 1813/1813 [00:00<00:00, 3278.25it/s]\n",
      "Querying: 100%|██████████████████████████████████████████████████████████████████| 1813/1813 [00:00<00:00, 3043.51it/s]\n",
      "Querying: 100%|██████████████████████████████████████████████████████████████████| 1813/1813 [00:00<00:00, 3325.97it/s]\n",
      "Querying: 100%|██████████████████████████████████████████████████████████████████| 1813/1813 [00:00<00:00, 3365.79it/s]\n",
      "Querying: 100%|██████████████████████████████████████████████████████████████████| 1813/1813 [00:00<00:00, 3272.38it/s]\n",
      "Querying: 100%|██████████████████████████████████████████████████████████████████| 1813/1813 [00:00<00:00, 3102.93it/s]\n",
      "Querying: 100%|██████████████████████████████████████████████████████████████████| 1813/1813 [00:00<00:00, 3307.91it/s]\n"
     ]
    }
   ],
   "source": [
    "classes = []\n",
    "ranks = []\n",
    "for i in range(len(imgs_names)):\n",
    "    c,rank = r.get_rank(imgs_names[i])\n",
    "    classes.append(c)\n",
    "    ranks.append(rank)"
   ]
  },
  {
   "cell_type": "code",
   "execution_count": 9,
   "id": "e0f07c9b-4d5b-40ce-a927-fb801dbbc67e",
   "metadata": {},
   "outputs": [
    {
     "data": {
      "text/plain": [
       "0.03297857655856321"
      ]
     },
     "execution_count": 9,
     "metadata": {},
     "output_type": "execute_result"
    }
   ],
   "source": [
    "map(classes, ranks)"
   ]
  },
  {
   "cell_type": "code",
   "execution_count": 10,
   "id": "d648f676-707a-4dcf-9be2-b367f23fb146",
   "metadata": {},
   "outputs": [
    {
     "name": "stdout",
     "output_type": "stream",
     "text": [
      "[FLICKR] 33 classes with a total of 14501 samples\n",
      "[FLICKR] 33 classes with a total of 14501 samples\n"
     ]
    }
   ],
   "source": [
    "rr = recall_ratio_tot(classes, ranks,'B:\\Flickr\\Flickr15K\\images')"
   ]
  },
  {
   "cell_type": "code",
   "execution_count": 11,
   "id": "a61126a6-3f66-465a-8d4d-51d5fa030d13",
   "metadata": {},
   "outputs": [
    {
     "data": {
      "text/plain": [
       "[<matplotlib.lines.Line2D at 0x1c2c823abb0>]"
      ]
     },
     "execution_count": 11,
     "metadata": {},
     "output_type": "execute_result"
    },
    {
     "data": {
      "image/png": "[encoded data removed]",
      "text/plain": [
       "<Figure size 432x288 with 1 Axes>"
      ]
     },
     "metadata": {
      "needs_background": "light"
     },
     "output_type": "display_data"
    }
   ],
   "source": [
    "plt.plot(rr[0],rr[1])"
   ]
  },
  {
   "cell_type": "code",
   "execution_count": 12,
   "id": "31ab9fca-c177-4745-97a6-05d5adfb309a",
   "metadata": {},
   "outputs": [
    {
     "name": "stdout",
     "output_type": "stream",
     "text": [
      "[FLICKR] 33 classes with a total of 14501 samples\n",
      "[FLICKR] 33 classes with a total of 14501 samples\n"
     ]
    },
    {
     "data": {
      "text/plain": [
       "array([0.15455729, 0.04055576, 0.03524553, 0.03266611, 0.03142474,\n",
       "       0.03078124, 0.03044442, 0.03029653, 0.03034701, 0.0305433 ,\n",
       "       0.03019482])"
      ]
     },
     "execution_count": 12,
     "metadata": {},
     "output_type": "execute_result"
    }
   ],
   "source": [
    "recall_prec_tot(classes, ranks,'B:\\Flickr\\Flickr15K\\images')"
   ]
  },
  {
   "cell_type": "code",
   "execution_count": 13,
   "id": "d05126c1-5f6c-4cb0-ade0-6b3d99590aa9",
   "metadata": {},
   "outputs": [
    {
     "data": {
      "text/plain": [
       "2"
      ]
     },
     "execution_count": 13,
     "metadata": {},
     "output_type": "execute_result"
    }
   ],
   "source": [
    "1+1"
   ]
  },
  {
   "cell_type": "code",
   "execution_count": null,
   "id": "189fbb87-397c-4f5c-9ddc-97fd75067a2f",
   "metadata": {},
   "outputs": [],
   "source": []
  }
 ],
 "metadata": {
  "kernelspec": {
   "display_name": "Python 3",
   "language": "python",
   "name": "python3"
  },
  "language_info": {
   "codemirror_mode": {
    "name": "ipython",
    "version": 3
   },
   "file_extension": ".py",
   "mimetype": "text/x-python",
   "name": "python",
   "nbconvert_exporter": "python",
   "pygments_lexer": "ipython3",
   "version": "3.9.2"
  }
 },
 "nbformat": 4,
 "nbformat_minor": 5
}
