{
 "cells": [
  {
   "cell_type": "code",
   "execution_count": 1,
   "id": "30b48fa9-90e1-4816-854e-da57867821eb",
   "metadata": {},
   "outputs": [],
   "source": [
    "import matplotlib.pyplot as plt\n",
    "from datasets import FlickrDataset\n",
    "import numpy as np\n",
    "import torch\n",
    "import torchvision.transforms.functional as TF\n",
    "from PIL import Image\n",
    "from torch.utils.data import Dataset\n",
    "from torch.utils.data import DataLoader\n",
    "from torchvision import transforms\n",
    "from tqdm import tqdm\n",
    "from models import ResNet34\n",
    "from models import SiameseNetwork\n",
    "import random\n",
    "from distances import *\n",
    "#from datasets import SketchQueryDataset\n",
    "from datasets import TripletDataset\n",
    "from datasets import ContrastiveDataset\n",
    "import cv2\n",
    "from torch.utils.data import DataLoader\n",
    "from feats import ImageFlickrFeatures\n",
    "from torchvision.transforms import transforms\n",
    "from ranking import Ranker\n",
    "from metrics import average_precision,map\n",
    "from metrics import recall_ratio\n",
    "from os import listdir\n",
    "from metrics import recall_presicion"
   ]
  },
  {
   "cell_type": "code",
   "execution_count": 2,
   "id": "46e35b2a-82e0-4088-85ea-bdc163e64f5c",
   "metadata": {},
   "outputs": [
    {
     "name": "stdout",
     "output_type": "stream",
     "text": [
      "[FLICKR] 33 classes with a total of 14501 samples\n"
     ]
    }
   ],
   "source": [
    "test_flickr_db = FlickrDataset('B:\\Flickr\\Flickr15K\\images')\n",
    "#test_flickr_loader = DataLoader(test_flickr_db, batch_size=8)"
   ]
  },
  {
   "cell_type": "code",
   "execution_count": 3,
   "id": "3315d2d0-e448-4953-842a-114a7418d7da",
   "metadata": {},
   "outputs": [
    {
     "name": "stdout",
     "output_type": "stream",
     "text": [
      "[FLICKR] 33 classes with a total of 14501 samples\n"
     ]
    }
   ],
   "source": [
    "img_per_class = test_flickr_db._build_groups()"
   ]
  },
  {
   "cell_type": "code",
   "execution_count": 4,
   "id": "a05dc1ee-fab3-45fa-a7c0-b095330c980a",
   "metadata": {},
   "outputs": [],
   "source": [
    "len_classes = []\n",
    "for i in range(1,34):\n",
    "    len_classes.append(len(img_per_class[str(i)]))"
   ]
  },
  {
   "cell_type": "code",
   "execution_count": 5,
   "id": "c212b29a-e237-4884-8343-9d8cb44487ac",
   "metadata": {},
   "outputs": [
    {
     "data": {
      "text/plain": [
       "1305"
      ]
     },
     "execution_count": 5,
     "metadata": {},
     "output_type": "execute_result"
    }
   ],
   "source": [
    "len_classes[0]"
   ]
  },
  {
   "cell_type": "code",
   "execution_count": 47,
   "id": "ea9e9e01-c26d-4c1e-bc98-aed4e2ab8b72",
   "metadata": {},
   "outputs": [
    {
     "name": "stdout",
     "output_type": "stream",
     "text": [
      "[FLICKR] 33 classes with a total of 14501 samples\n"
     ]
    }
   ],
   "source": [
    "cpi = test_flickr_db._build_groups()"
   ]
  },
  {
   "cell_type": "code",
   "execution_count": 6,
   "id": "b0680564-0054-433c-b0e7-fc1dcd1896b6",
   "metadata": {},
   "outputs": [
    {
     "name": "stdout",
     "output_type": "stream",
     "text": [
      "Adapting output layers...\n"
     ]
    },
    {
     "name": "stderr",
     "output_type": "stream",
     "text": [
      "Querying:   0%|                                                                               | 0/1813 [00:00<?, ?it/s]"
     ]
    },
    {
     "name": "stdout",
     "output_type": "stream",
     "text": [
      "14501 images loaded successfully\n"
     ]
    },
    {
     "name": "stderr",
     "output_type": "stream",
     "text": [
      "Querying: 100%|██████████████████████████████████████████████████████████████████| 1813/1813 [00:00<00:00, 3872.08it/s]\n"
     ]
    }
   ],
   "source": [
    "imagenet_net = ResNet34()\n",
    "sketches_net = ResNet34()\n",
    "\n",
    "print(\"Adapting output layers...\")\n",
    "sketches_net.adapt_fc()\n",
    "imagenet_net.adapt_fc()\n",
    "\n",
    "siamese_net = SiameseNetwork(sketches_net, imagenet_net)\n",
    "siamese_net.load_state_dict(torch.load(r'C:\\Users\\aleja\\Desktop\\Tareas\\Reconocimiento Virtual con Deep Learning\\T2\\best_SiameseNetwork_contrastive.pth'))\n",
    "\n",
    "s = torch.nn.CosineSimilarity()\n",
    "flickr_dataset = ImageFlickrFeatures(\"dbs/features.db\")\n",
    "r = Ranker('B:\\Flickr\\Flickr15K',\n",
    "           image_dataset_features=flickr_dataset,\n",
    "           feature_extractor=siamese_net,\n",
    "           similarity_fn=s)\n",
    "rank = r.get_rank(r'B:\\Flickr\\Flickr15K\\queries\\1001.png')"
   ]
  },
  {
   "cell_type": "code",
   "execution_count": 13,
   "id": "d883ad7f-d6c8-434b-9536-347312752a6f",
   "metadata": {},
   "outputs": [
    {
     "name": "stderr",
     "output_type": "stream",
     "text": [
      "Querying: 100%|██████████████████████████████████████████████████████████████████| 1813/1813 [00:00<00:00, 3893.59it/s]\n"
     ]
    }
   ],
   "source": [
    "x,y = recall_ratio(r,r'B:\\Flickr\\Flickr15K\\queries\\1001.png',len_classes[0])"
   ]
  },
  {
   "cell_type": "code",
   "execution_count": 14,
   "id": "89ce1a59-3fe1-403b-8afc-eecd9292ddbf",
   "metadata": {},
   "outputs": [
    {
     "data": {
      "text/plain": [
       "Text(0.5, 1.0, 'Recall ratio Curve')"
      ]
     },
     "execution_count": 14,
     "metadata": {},
     "output_type": "execute_result"
    },
    {
     "data": {
      "image/png": "[encoded data removed]",
      "text/plain": [
       "<Figure size 432x288 with 1 Axes>"
      ]
     },
     "metadata": {
      "needs_background": "light"
     },
     "output_type": "display_data"
    }
   ],
   "source": [
    "plt.plot(x,y)\n",
    "plt.xlabel('Recall')\n",
    "plt.ylabel('Retrieved images')\n",
    "plt.title('Recall ratio Curve')"
   ]
  },
  {
   "cell_type": "code",
   "execution_count": 14,
   "id": "e4f22eec-e2f1-49ba-b141-1f1f520924f3",
   "metadata": {},
   "outputs": [
    {
     "data": {
      "text/plain": [
       "('data/Flickr15K/images/1/15311.jpg', 1, -0.10152678)"
      ]
     },
     "execution_count": 14,
     "metadata": {},
     "output_type": "execute_result"
    }
   ],
   "source": [
    "rank[1][14001]"
   ]
  },
  {
   "cell_type": "code",
   "execution_count": 15,
   "id": "9e53e8b2-6b47-4baa-bb92-a52ed776c061",
   "metadata": {},
   "outputs": [
    {
     "name": "stderr",
     "output_type": "stream",
     "text": [
      "Querying: 100%|██████████████████████████████████████████████████████████████████| 1813/1813 [00:00<00:00, 4153.70it/s]\n"
     ]
    }
   ],
   "source": [
    "ap = average_precision(r,r'B:\\Flickr\\Flickr15K\\queries\\1001.png')"
   ]
  },
  {
   "cell_type": "code",
   "execution_count": 16,
   "id": "c79f07fa-1f0f-4429-89cd-2de6d2157451",
   "metadata": {},
   "outputs": [
    {
     "data": {
      "text/plain": [
       "0.12750345488090062"
      ]
     },
     "execution_count": 16,
     "metadata": {},
     "output_type": "execute_result"
    }
   ],
   "source": [
    "ap"
   ]
  },
  {
   "cell_type": "code",
   "execution_count": 25,
   "id": "3ce8f6b5-12c6-48a9-9a6c-83ad3de27dd0",
   "metadata": {},
   "outputs": [],
   "source": [
    "imgs_names = listdir(r'B:\\Flickr\\Flickr15K\\queries')"
   ]
  },
  {
   "cell_type": "code",
   "execution_count": 26,
   "id": "dbcfd4df-22eb-4bc1-ac5e-344d1003ea4a",
   "metadata": {},
   "outputs": [],
   "source": [
    "\n",
    "for i in range(len(imgs_names)):\n",
    "    imgs_names[i] = r'B:/Flickr/Flickr15K/queries/' + imgs_names[i]"
   ]
  },
  {
   "cell_type": "code",
   "execution_count": 27,
   "id": "c6750c9f-2e8b-48c7-b865-3808bbf99806",
   "metadata": {},
   "outputs": [
    {
     "data": {
      "text/plain": [
       "'B:/Flickr/Flickr15K/queries/10001.png'"
      ]
     },
     "execution_count": 27,
     "metadata": {},
     "output_type": "execute_result"
    }
   ],
   "source": [
    "imgs_names[0]"
   ]
  },
  {
   "cell_type": "code",
   "execution_count": 28,
   "id": "49ce582b-db03-48a9-b710-999e59e58d13",
   "metadata": {},
   "outputs": [
    {
     "name": "stderr",
     "output_type": "stream",
     "text": [
      "Querying: 100%|██████████████████████████████████████████████████████████████████| 1813/1813 [00:00<00:00, 4139.31it/s]\n",
      "Querying: 100%|██████████████████████████████████████████████████████████████████| 1813/1813 [00:00<00:00, 4097.81it/s]\n",
      "Querying: 100%|██████████████████████████████████████████████████████████████████| 1813/1813 [00:00<00:00, 4088.39it/s]\n",
      "Querying: 100%|██████████████████████████████████████████████████████████████████| 1813/1813 [00:00<00:00, 4038.69it/s]\n",
      "Querying: 100%|██████████████████████████████████████████████████████████████████| 1813/1813 [00:00<00:00, 4125.34it/s]\n",
      "Querying: 100%|██████████████████████████████████████████████████████████████████| 1813/1813 [00:00<00:00, 4153.42it/s]\n",
      "Querying: 100%|██████████████████████████████████████████████████████████████████| 1813/1813 [00:00<00:00, 4230.40it/s]\n",
      "Querying: 100%|██████████████████████████████████████████████████████████████████| 1813/1813 [00:00<00:00, 4025.60it/s]\n",
      "Querying: 100%|██████████████████████████████████████████████████████████████████| 1813/1813 [00:00<00:00, 4181.96it/s]\n",
      "Querying: 100%|██████████████████████████████████████████████████████████████████| 1813/1813 [00:00<00:00, 3955.89it/s]\n",
      "Querying: 100%|██████████████████████████████████████████████████████████████████| 1813/1813 [00:00<00:00, 3662.57it/s]\n",
      "Querying: 100%|██████████████████████████████████████████████████████████████████| 1813/1813 [00:00<00:00, 4181.96it/s]\n",
      "Querying: 100%|██████████████████████████████████████████████████████████████████| 1813/1813 [00:00<00:00, 4034.49it/s]\n",
      "Querying: 100%|██████████████████████████████████████████████████████████████████| 1813/1813 [00:00<00:00, 4092.97it/s]\n",
      "Querying: 100%|██████████████████████████████████████████████████████████████████| 1813/1813 [00:00<00:00, 4125.56it/s]\n",
      "Querying: 100%|██████████████████████████████████████████████████████████████████| 1813/1813 [00:00<00:00, 4056.89it/s]\n",
      "Querying: 100%|██████████████████████████████████████████████████████████████████| 1813/1813 [00:00<00:00, 3558.92it/s]\n",
      "Querying: 100%|██████████████████████████████████████████████████████████████████| 1813/1813 [00:00<00:00, 3981.75it/s]\n",
      "Querying: 100%|██████████████████████████████████████████████████████████████████| 1813/1813 [00:00<00:00, 3926.16it/s]\n",
      "Querying: 100%|██████████████████████████████████████████████████████████████████| 1813/1813 [00:00<00:00, 3626.24it/s]\n",
      "Querying: 100%|██████████████████████████████████████████████████████████████████| 1813/1813 [00:00<00:00, 4088.39it/s]\n",
      "Querying: 100%|██████████████████████████████████████████████████████████████████| 1813/1813 [00:00<00:00, 4158.41it/s]\n",
      "Querying: 100%|██████████████████████████████████████████████████████████████████| 1813/1813 [00:00<00:00, 4148.69it/s]\n",
      "Querying: 100%|██████████████████████████████████████████████████████████████████| 1813/1813 [00:00<00:00, 3884.20it/s]\n",
      "Querying: 100%|██████████████████████████████████████████████████████████████████| 1813/1813 [00:00<00:00, 3972.85it/s]\n",
      "Querying: 100%|██████████████████████████████████████████████████████████████████| 1813/1813 [00:00<00:00, 3880.31it/s]\n",
      "Querying: 100%|██████████████████████████████████████████████████████████████████| 1813/1813 [00:00<00:00, 3909.35it/s]\n",
      "Querying: 100%|██████████████████████████████████████████████████████████████████| 1813/1813 [00:00<00:00, 4107.03it/s]\n",
      "Querying: 100%|██████████████████████████████████████████████████████████████████| 1813/1813 [00:00<00:00, 4147.17it/s]\n",
      "Querying: 100%|██████████████████████████████████████████████████████████████████| 1813/1813 [00:00<00:00, 4038.66it/s]\n",
      "Querying: 100%|██████████████████████████████████████████████████████████████████| 1813/1813 [00:00<00:00, 4102.17it/s]\n",
      "Querying: 100%|██████████████████████████████████████████████████████████████████| 1813/1813 [00:00<00:00, 4074.96it/s]\n",
      "Querying: 100%|██████████████████████████████████████████████████████████████████| 1813/1813 [00:00<00:00, 3142.95it/s]\n",
      "Querying: 100%|██████████████████████████████████████████████████████████████████| 1813/1813 [00:00<00:00, 3310.91it/s]\n",
      "Querying: 100%|██████████████████████████████████████████████████████████████████| 1813/1813 [00:00<00:00, 3462.63it/s]\n",
      "Querying: 100%|██████████████████████████████████████████████████████████████████| 1813/1813 [00:00<00:00, 3542.71it/s]\n",
      "Querying: 100%|██████████████████████████████████████████████████████████████████| 1813/1813 [00:00<00:00, 4149.56it/s]\n",
      "Querying: 100%|██████████████████████████████████████████████████████████████████| 1813/1813 [00:00<00:00, 4172.39it/s]\n",
      "Querying: 100%|██████████████████████████████████████████████████████████████████| 1813/1813 [00:00<00:00, 4153.68it/s]\n",
      "Querying: 100%|██████████████████████████████████████████████████████████████████| 1813/1813 [00:00<00:00, 4070.44it/s]\n",
      "Querying: 100%|██████████████████████████████████████████████████████████████████| 1813/1813 [00:00<00:00, 4116.01it/s]\n",
      "Querying: 100%|██████████████████████████████████████████████████████████████████| 1813/1813 [00:00<00:00, 4120.78it/s]\n",
      "Querying: 100%|██████████████████████████████████████████████████████████████████| 1813/1813 [00:00<00:00, 4153.42it/s]\n",
      "Querying: 100%|██████████████████████████████████████████████████████████████████| 1813/1813 [00:00<00:00, 4139.57it/s]\n",
      "Querying: 100%|██████████████████████████████████████████████████████████████████| 1813/1813 [00:00<00:00, 4167.90it/s]\n",
      "Querying: 100%|██████████████████████████████████████████████████████████████████| 1813/1813 [00:00<00:00, 4061.04it/s]\n",
      "Querying: 100%|██████████████████████████████████████████████████████████████████| 1813/1813 [00:00<00:00, 4148.98it/s]\n",
      "Querying: 100%|██████████████████████████████████████████████████████████████████| 1813/1813 [00:00<00:00, 4074.71it/s]\n",
      "Querying: 100%|██████████████████████████████████████████████████████████████████| 1813/1813 [00:00<00:00, 4172.65it/s]\n",
      "Querying: 100%|██████████████████████████████████████████████████████████████████| 1813/1813 [00:00<00:00, 4107.03it/s]\n",
      "Querying: 100%|██████████████████████████████████████████████████████████████████| 1813/1813 [00:00<00:00, 4116.27it/s]\n",
      "Querying: 100%|██████████████████████████████████████████████████████████████████| 1813/1813 [00:00<00:00, 4130.17it/s]\n",
      "Querying: 100%|██████████████████████████████████████████████████████████████████| 1813/1813 [00:00<00:00, 4173.68it/s]\n",
      "Querying: 100%|██████████████████████████████████████████████████████████████████| 1813/1813 [00:00<00:00, 4220.61it/s]\n",
      "Querying: 100%|██████████████████████████████████████████████████████████████████| 1813/1813 [00:00<00:00, 4130.22it/s]\n",
      "Querying: 100%|██████████████████████████████████████████████████████████████████| 1813/1813 [00:00<00:00, 4111.38it/s]\n",
      "Querying: 100%|██████████████████████████████████████████████████████████████████| 1813/1813 [00:00<00:00, 4162.87it/s]\n",
      "Querying: 100%|██████████████████████████████████████████████████████████████████| 1813/1813 [00:00<00:00, 4148.72it/s]\n",
      "Querying: 100%|██████████████████████████████████████████████████████████████████| 1813/1813 [00:00<00:00, 4100.22it/s]\n",
      "Querying: 100%|██████████████████████████████████████████████████████████████████| 1813/1813 [00:00<00:00, 4088.64it/s]\n",
      "Querying: 100%|██████████████████████████████████████████████████████████████████| 1813/1813 [00:00<00:00, 3943.09it/s]\n",
      "Querying: 100%|██████████████████████████████████████████████████████████████████| 1813/1813 [00:00<00:00, 3673.62it/s]\n",
      "Querying: 100%|██████████████████████████████████████████████████████████████████| 1813/1813 [00:00<00:00, 3884.20it/s]\n",
      "Querying: 100%|██████████████████████████████████████████████████████████████████| 1813/1813 [00:00<00:00, 3611.90it/s]\n",
      "Querying: 100%|██████████████████████████████████████████████████████████████████| 1813/1813 [00:00<00:00, 3859.82it/s]\n",
      "Querying: 100%|██████████████████████████████████████████████████████████████████| 1813/1813 [00:00<00:00, 3947.35it/s]\n",
      "Querying: 100%|██████████████████████████████████████████████████████████████████| 1813/1813 [00:00<00:00, 4125.54it/s]\n",
      "Querying: 100%|██████████████████████████████████████████████████████████████████| 1813/1813 [00:00<00:00, 4134.47it/s]\n",
      "Querying: 100%|██████████████████████████████████████████████████████████████████| 1813/1813 [00:00<00:00, 4102.15it/s]\n",
      "Querying: 100%|██████████████████████████████████████████████████████████████████| 1813/1813 [00:00<00:00, 4167.63it/s]\n",
      "Querying: 100%|██████████████████████████████████████████████████████████████████| 1813/1813 [00:00<00:00, 4172.65it/s]\n",
      "Querying: 100%|██████████████████████████████████████████████████████████████████| 1813/1813 [00:00<00:00, 4153.41it/s]\n",
      "Querying: 100%|██████████████████████████████████████████████████████████████████| 1813/1813 [00:00<00:00, 4158.42it/s]\n",
      "Querying: 100%|██████████████████████████████████████████████████████████████████| 1813/1813 [00:00<00:00, 4191.53it/s]\n",
      "Querying: 100%|██████████████████████████████████████████████████████████████████| 1813/1813 [00:00<00:00, 4134.90it/s]\n",
      "Querying: 100%|██████████████████████████████████████████████████████████████████| 1813/1813 [00:00<00:00, 4181.93it/s]\n",
      "Querying: 100%|██████████████████████████████████████████████████████████████████| 1813/1813 [00:00<00:00, 4139.29it/s]\n",
      "Querying: 100%|██████████████████████████████████████████████████████████████████| 1813/1813 [00:00<00:00, 4111.64it/s]\n",
      "Querying: 100%|██████████████████████████████████████████████████████████████████| 1813/1813 [00:00<00:00, 4158.63it/s]\n",
      "Querying: 100%|██████████████████████████████████████████████████████████████████| 1813/1813 [00:00<00:00, 4139.58it/s]\n",
      "Querying: 100%|██████████████████████████████████████████████████████████████████| 1813/1813 [00:00<00:00, 4182.21it/s]\n",
      "Querying: 100%|██████████████████████████████████████████████████████████████████| 1813/1813 [00:00<00:00, 4162.87it/s]\n",
      "Querying: 100%|██████████████████████████████████████████████████████████████████| 1813/1813 [00:00<00:00, 4102.41it/s]\n",
      "Querying: 100%|██████████████████████████████████████████████████████████████████| 1813/1813 [00:00<00:00, 4084.08it/s]\n",
      "Querying: 100%|██████████████████████████████████████████████████████████████████| 1813/1813 [00:00<00:00, 4158.15it/s]\n",
      "Querying: 100%|██████████████████████████████████████████████████████████████████| 1813/1813 [00:00<00:00, 4163.15it/s]\n",
      "Querying: 100%|██████████████████████████████████████████████████████████████████| 1813/1813 [00:00<00:00, 4181.94it/s]\n",
      "Querying: 100%|██████████████████████████████████████████████████████████████████| 1813/1813 [00:00<00:00, 4116.26it/s]\n",
      "Querying: 100%|██████████████████████████████████████████████████████████████████| 1813/1813 [00:00<00:00, 4172.39it/s]\n",
      "Querying: 100%|██████████████████████████████████████████████████████████████████| 1813/1813 [00:00<00:00, 4149.46it/s]\n",
      "Querying: 100%|██████████████████████████████████████████████████████████████████| 1813/1813 [00:00<00:00, 4125.32it/s]\n",
      "Querying: 100%|██████████████████████████████████████████████████████████████████| 1813/1813 [00:00<00:00, 4127.57it/s]\n",
      "Querying: 100%|██████████████████████████████████████████████████████████████████| 1813/1813 [00:00<00:00, 4065.65it/s]\n",
      "Querying: 100%|██████████████████████████████████████████████████████████████████| 1813/1813 [00:00<00:00, 4186.99it/s]\n",
      "Querying: 100%|██████████████████████████████████████████████████████████████████| 1813/1813 [00:00<00:00, 4061.13it/s]\n",
      "Querying: 100%|██████████████████████████████████████████████████████████████████| 1813/1813 [00:00<00:00, 4102.16it/s]\n",
      "Querying: 100%|██████████████████████████████████████████████████████████████████| 1813/1813 [00:00<00:00, 4079.52it/s]\n",
      "Querying: 100%|██████████████████████████████████████████████████████████████████| 1813/1813 [00:00<00:00, 4158.19it/s]\n",
      "Querying: 100%|██████████████████████████████████████████████████████████████████| 1813/1813 [00:00<00:00, 4144.27it/s]\n",
      "Querying: 100%|██████████████████████████████████████████████████████████████████| 1813/1813 [00:00<00:00, 3996.06it/s]\n",
      "Querying: 100%|██████████████████████████████████████████████████████████████████| 1813/1813 [00:00<00:00, 3943.10it/s]\n",
      "Querying: 100%|██████████████████████████████████████████████████████████████████| 1813/1813 [00:00<00:00, 4088.37it/s]\n",
      "Querying: 100%|██████████████████████████████████████████████████████████████████| 1813/1813 [00:00<00:00, 4177.16it/s]\n",
      "Querying: 100%|██████████████████████████████████████████████████████████████████| 1813/1813 [00:00<00:00, 4080.97it/s]\n",
      "Querying: 100%|██████████████████████████████████████████████████████████████████| 1813/1813 [00:00<00:00, 4120.91it/s]\n",
      "Querying: 100%|██████████████████████████████████████████████████████████████████| 1813/1813 [00:00<00:00, 4153.69it/s]\n",
      "Querying: 100%|██████████████████████████████████████████████████████████████████| 1813/1813 [00:00<00:00, 4116.28it/s]\n",
      "Querying: 100%|██████████████████████████████████████████████████████████████████| 1813/1813 [00:00<00:00, 4012.35it/s]\n",
      "Querying: 100%|██████████████████████████████████████████████████████████████████| 1813/1813 [00:00<00:00, 4157.11it/s]\n",
      "Querying: 100%|██████████████████████████████████████████████████████████████████| 1813/1813 [00:00<00:00, 3951.39it/s]\n",
      "Querying: 100%|██████████████████████████████████████████████████████████████████| 1813/1813 [00:00<00:00, 3990.44it/s]\n",
      "Querying: 100%|██████████████████████████████████████████████████████████████████| 1813/1813 [00:00<00:00, 4150.92it/s]\n",
      "Querying: 100%|██████████████████████████████████████████████████████████████████| 1813/1813 [00:00<00:00, 4088.65it/s]\n",
      "Querying: 100%|██████████████████████████████████████████████████████████████████| 1813/1813 [00:00<00:00, 4084.08it/s]\n",
      "Querying: 100%|██████████████████████████████████████████████████████████████████| 1813/1813 [00:00<00:00, 4139.33it/s]\n",
      "Querying: 100%|██████████████████████████████████████████████████████████████████| 1813/1813 [00:00<00:00, 4153.70it/s]\n",
      "Querying: 100%|██████████████████████████████████████████████████████████████████| 1813/1813 [00:00<00:00, 4129.96it/s]\n",
      "Querying: 100%|██████████████████████████████████████████████████████████████████| 1813/1813 [00:00<00:00, 4143.39it/s]\n",
      "Querying: 100%|██████████████████████████████████████████████████████████████████| 1813/1813 [00:00<00:00, 4074.71it/s]\n",
      "Querying: 100%|██████████████████████████████████████████████████████████████████| 1813/1813 [00:00<00:00, 4139.59it/s]\n",
      "Querying: 100%|██████████████████████████████████████████████████████████████████| 1813/1813 [00:00<00:00, 4127.88it/s]\n",
      "Querying: 100%|██████████████████████████████████████████████████████████████████| 1813/1813 [00:00<00:00, 4134.62it/s]\n",
      "Querying: 100%|██████████████████████████████████████████████████████████████████| 1813/1813 [00:00<00:00, 4021.18it/s]\n",
      "Querying: 100%|██████████████████████████████████████████████████████████████████| 1813/1813 [00:00<00:00, 4116.21it/s]\n",
      "Querying: 100%|██████████████████████████████████████████████████████████████████| 1813/1813 [00:00<00:00, 4003.50it/s]\n",
      "Querying: 100%|██████████████████████████████████████████████████████████████████| 1813/1813 [00:00<00:00, 4011.97it/s]\n",
      "Querying: 100%|██████████████████████████████████████████████████████████████████| 1813/1813 [00:00<00:00, 3847.63it/s]\n",
      "Querying: 100%|██████████████████████████████████████████████████████████████████| 1813/1813 [00:00<00:00, 3906.03it/s]\n",
      "Querying: 100%|██████████████████████████████████████████████████████████████████| 1813/1813 [00:00<00:00, 3973.11it/s]\n",
      "Querying: 100%|██████████████████████████████████████████████████████████████████| 1813/1813 [00:00<00:00, 3926.25it/s]\n",
      "Querying: 100%|██████████████████████████████████████████████████████████████████| 1813/1813 [00:00<00:00, 4111.34it/s]\n",
      "Querying: 100%|██████████████████████████████████████████████████████████████████| 1813/1813 [00:00<00:00, 4093.01it/s]\n",
      "Querying: 100%|██████████████████████████████████████████████████████████████████| 1813/1813 [00:00<00:00, 4191.52it/s]\n",
      "Querying: 100%|██████████████████████████████████████████████████████████████████| 1813/1813 [00:00<00:00, 4052.38it/s]\n",
      "Querying: 100%|██████████████████████████████████████████████████████████████████| 1813/1813 [00:00<00:00, 4012.14it/s]\n",
      "Querying: 100%|██████████████████████████████████████████████████████████████████| 1813/1813 [00:00<00:00, 3888.56it/s]\n",
      "Querying: 100%|██████████████████████████████████████████████████████████████████| 1813/1813 [00:00<00:00, 3959.96it/s]\n",
      "Querying: 100%|██████████████████████████████████████████████████████████████████| 1813/1813 [00:00<00:00, 4025.61it/s]\n",
      "Querying: 100%|██████████████████████████████████████████████████████████████████| 1813/1813 [00:00<00:00, 3807.54it/s]\n",
      "Querying: 100%|██████████████████████████████████████████████████████████████████| 1813/1813 [00:00<00:00, 3843.58it/s]\n",
      "Querying: 100%|██████████████████████████████████████████████████████████████████| 1813/1813 [00:00<00:00, 3960.19it/s]\n",
      "Querying: 100%|██████████████████████████████████████████████████████████████████| 1813/1813 [00:00<00:00, 4052.38it/s]\n",
      "Querying: 100%|██████████████████████████████████████████████████████████████████| 1813/1813 [00:00<00:00, 4083.81it/s]\n",
      "Querying: 100%|██████████████████████████████████████████████████████████████████| 1813/1813 [00:00<00:00, 3783.71it/s]\n",
      "Querying: 100%|██████████████████████████████████████████████████████████████████| 1813/1813 [00:00<00:00, 4093.23it/s]\n",
      "Querying: 100%|██████████████████████████████████████████████████████████████████| 1813/1813 [00:00<00:00, 4074.97it/s]\n",
      "Querying: 100%|██████████████████████████████████████████████████████████████████| 1813/1813 [00:00<00:00, 4007.94it/s]\n",
      "Querying: 100%|██████████████████████████████████████████████████████████████████| 1813/1813 [00:00<00:00, 3934.60it/s]\n",
      "Querying: 100%|██████████████████████████████████████████████████████████████████| 1813/1813 [00:00<00:00, 4074.97it/s]\n",
      "Querying: 100%|██████████████████████████████████████████████████████████████████| 1813/1813 [00:00<00:00, 3601.23it/s]\n",
      "Querying: 100%|██████████████████████████████████████████████████████████████████| 1813/1813 [00:00<00:00, 3733.66it/s]\n",
      "Querying: 100%|██████████████████████████████████████████████████████████████████| 1813/1813 [00:00<00:00, 3934.61it/s]\n",
      "Querying: 100%|██████████████████████████████████████████████████████████████████| 1813/1813 [00:00<00:00, 4052.38it/s]\n",
      "Querying: 100%|██████████████████████████████████████████████████████████████████| 1813/1813 [00:00<00:00, 3481.00it/s]\n",
      "Querying: 100%|██████████████████████████████████████████████████████████████████| 1813/1813 [00:00<00:00, 3254.89it/s]\n",
      "Querying: 100%|██████████████████████████████████████████████████████████████████| 1813/1813 [00:00<00:00, 3419.31it/s]\n",
      "Querying: 100%|██████████████████████████████████████████████████████████████████| 1813/1813 [00:00<00:00, 3425.72it/s]\n",
      "Querying: 100%|██████████████████████████████████████████████████████████████████| 1813/1813 [00:00<00:00, 3368.89it/s]\n",
      "Querying: 100%|██████████████████████████████████████████████████████████████████| 1813/1813 [00:00<00:00, 3787.89it/s]\n",
      "Querying: 100%|██████████████████████████████████████████████████████████████████| 1813/1813 [00:01<00:00, 1789.16it/s]\n",
      "Querying: 100%|██████████████████████████████████████████████████████████████████| 1813/1813 [00:00<00:00, 2173.15it/s]\n",
      "Querying: 100%|██████████████████████████████████████████████████████████████████| 1813/1813 [00:00<00:00, 3500.97it/s]\n",
      "Querying: 100%|██████████████████████████████████████████████████████████████████| 1813/1813 [00:00<00:00, 2746.24it/s]\n",
      "Querying: 100%|██████████████████████████████████████████████████████████████████| 1813/1813 [00:00<00:00, 2666.12it/s]\n",
      "Querying: 100%|██████████████████████████████████████████████████████████████████| 1813/1813 [00:00<00:00, 2610.89it/s]\n",
      "Querying: 100%|██████████████████████████████████████████████████████████████████| 1813/1813 [00:00<00:00, 2152.68it/s]\n",
      "Querying: 100%|██████████████████████████████████████████████████████████████████| 1813/1813 [00:00<00:00, 2411.11it/s]\n",
      "Querying: 100%|██████████████████████████████████████████████████████████████████| 1813/1813 [00:00<00:00, 2733.92it/s]\n",
      "Querying: 100%|██████████████████████████████████████████████████████████████████| 1813/1813 [00:00<00:00, 3847.63it/s]\n",
      "Querying: 100%|██████████████████████████████████████████████████████████████████| 1813/1813 [00:00<00:00, 3872.09it/s]\n",
      "Querying: 100%|██████████████████████████████████████████████████████████████████| 1813/1813 [00:00<00:00, 3943.09it/s]\n",
      "Querying: 100%|██████████████████████████████████████████████████████████████████| 1813/1813 [00:00<00:00, 3981.75it/s]\n",
      "Querying: 100%|██████████████████████████████████████████████████████████████████| 1813/1813 [00:00<00:00, 3974.62it/s]\n",
      "Querying: 100%|██████████████████████████████████████████████████████████████████| 1813/1813 [00:00<00:00, 3917.73it/s]\n",
      "Querying: 100%|██████████████████████████████████████████████████████████████████| 1813/1813 [00:00<00:00, 3994.81it/s]\n",
      "Querying: 100%|██████████████████████████████████████████████████████████████████| 1813/1813 [00:00<00:00, 4020.90it/s]\n",
      "Querying: 100%|██████████████████████████████████████████████████████████████████| 1813/1813 [00:00<00:00, 3281.20it/s]\n",
      "Querying: 100%|██████████████████████████████████████████████████████████████████| 1813/1813 [00:00<00:00, 3622.65it/s]\n",
      "Querying: 100%|██████████████████████████████████████████████████████████████████| 1813/1813 [00:00<00:00, 3334.91it/s]\n",
      "Querying: 100%|██████████████████████████████████████████████████████████████████| 1813/1813 [00:00<00:00, 3287.09it/s]\n",
      "Querying: 100%|██████████████████████████████████████████████████████████████████| 1813/1813 [00:00<00:00, 3677.32it/s]\n",
      "Querying: 100%|██████████████████████████████████████████████████████████████████| 1813/1813 [00:00<00:00, 4007.95it/s]\n",
      "Querying: 100%|██████████████████████████████████████████████████████████████████| 1813/1813 [00:00<00:00, 4016.76it/s]\n",
      "Querying: 100%|██████████████████████████████████████████████████████████████████| 1813/1813 [00:00<00:00, 4097.81it/s]\n",
      "Querying: 100%|██████████████████████████████████████████████████████████████████| 1813/1813 [00:00<00:00, 3938.85it/s]\n",
      "Querying: 100%|██████████████████████████████████████████████████████████████████| 1813/1813 [00:00<00:00, 4029.27it/s]\n",
      "Querying: 100%|██████████████████████████████████████████████████████████████████| 1813/1813 [00:00<00:00, 4093.03it/s]\n",
      "Querying: 100%|██████████████████████████████████████████████████████████████████| 1813/1813 [00:00<00:00, 3580.48it/s]\n",
      "Querying: 100%|██████████████████████████████████████████████████████████████████| 1813/1813 [00:00<00:00, 3951.62it/s]\n",
      "Querying: 100%|██████████████████████████████████████████████████████████████████| 1813/1813 [00:00<00:00, 4070.43it/s]\n",
      "Querying: 100%|██████████████████████████████████████████████████████████████████| 1813/1813 [00:00<00:00, 4092.96it/s]\n",
      "Querying: 100%|██████████████████████████████████████████████████████████████████| 1813/1813 [00:00<00:00, 3947.36it/s]\n",
      "Querying: 100%|██████████████████████████████████████████████████████████████████| 1813/1813 [00:00<00:00, 3760.33it/s]\n",
      "Querying: 100%|██████████████████████████████████████████████████████████████████| 1813/1813 [00:00<00:00, 3934.61it/s]\n",
      "Querying: 100%|██████████████████████████████████████████████████████████████████| 1813/1813 [00:00<00:00, 3823.96it/s]\n",
      "Querying: 100%|██████████████████████████████████████████████████████████████████| 1813/1813 [00:00<00:00, 4020.92it/s]\n",
      "Querying: 100%|██████████████████████████████████████████████████████████████████| 1813/1813 [00:00<00:00, 3981.75it/s]\n",
      "Querying: 100%|██████████████████████████████████████████████████████████████████| 1813/1813 [00:00<00:00, 4004.14it/s]\n",
      "Querying: 100%|██████████████████████████████████████████████████████████████████| 1813/1813 [00:00<00:00, 4025.60it/s]\n",
      "Querying: 100%|██████████████████████████████████████████████████████████████████| 1813/1813 [00:00<00:00, 3771.95it/s]\n",
      "Querying: 100%|██████████████████████████████████████████████████████████████████| 1813/1813 [00:00<00:00, 3807.54it/s]\n",
      "Querying: 100%|██████████████████████████████████████████████████████████████████| 1813/1813 [00:00<00:00, 3583.35it/s]\n",
      "Querying: 100%|██████████████████████████████████████████████████████████████████| 1813/1813 [00:00<00:00, 3827.48it/s]\n",
      "Querying: 100%|██████████████████████████████████████████████████████████████████| 1813/1813 [00:00<00:00, 3863.67it/s]\n",
      "Querying: 100%|██████████████████████████████████████████████████████████████████| 1813/1813 [00:00<00:00, 4021.17it/s]\n",
      "Querying: 100%|██████████████████████████████████████████████████████████████████| 1813/1813 [00:00<00:00, 4120.91it/s]\n",
      "Querying: 100%|██████████████████████████████████████████████████████████████████| 1813/1813 [00:00<00:00, 4074.96it/s]\n",
      "Querying: 100%|██████████████████████████████████████████████████████████████████| 1813/1813 [00:00<00:00, 4139.35it/s]\n",
      "Querying: 100%|██████████████████████████████████████████████████████████████████| 1813/1813 [00:00<00:00, 4084.08it/s]\n",
      "Querying: 100%|██████████████████████████████████████████████████████████████████| 1813/1813 [00:00<00:00, 3677.31it/s]\n",
      "Querying: 100%|██████████████████████████████████████████████████████████████████| 1813/1813 [00:00<00:00, 3189.57it/s]\n",
      "Querying: 100%|██████████████████████████████████████████████████████████████████| 1813/1813 [00:00<00:00, 3305.13it/s]\n",
      "Querying: 100%|██████████████████████████████████████████████████████████████████| 1813/1813 [00:00<00:00, 3666.05it/s]\n",
      "Querying: 100%|██████████████████████████████████████████████████████████████████| 1813/1813 [00:00<00:00, 3912.89it/s]\n",
      "Querying: 100%|██████████████████████████████████████████████████████████████████| 1813/1813 [00:00<00:00, 3815.51it/s]\n",
      "Querying: 100%|██████████████████████████████████████████████████████████████████| 1813/1813 [00:00<00:00, 4129.95it/s]\n",
      "Querying: 100%|██████████████████████████████████████████████████████████████████| 1813/1813 [00:00<00:00, 3666.25it/s]\n",
      "Querying: 100%|██████████████████████████████████████████████████████████████████| 1813/1813 [00:00<00:00, 4102.41it/s]\n",
      "Querying: 100%|██████████████████████████████████████████████████████████████████| 1813/1813 [00:00<00:00, 4052.11it/s]\n",
      "Querying: 100%|██████████████████████████████████████████████████████████████████| 1813/1813 [00:00<00:00, 4092.96it/s]\n",
      "Querying: 100%|██████████████████████████████████████████████████████████████████| 1813/1813 [00:00<00:00, 4125.29it/s]\n",
      "Querying: 100%|██████████████████████████████████████████████████████████████████| 1813/1813 [00:00<00:00, 4061.16it/s]\n",
      "Querying: 100%|██████████████████████████████████████████████████████████████████| 1813/1813 [00:00<00:00, 4097.55it/s]\n",
      "Querying: 100%|██████████████████████████████████████████████████████████████████| 1813/1813 [00:00<00:00, 4102.35it/s]\n",
      "Querying: 100%|██████████████████████████████████████████████████████████████████| 1813/1813 [00:00<00:00, 3243.34it/s]\n",
      "Querying: 100%|██████████████████████████████████████████████████████████████████| 1813/1813 [00:00<00:00, 3531.45it/s]\n",
      "Querying: 100%|██████████████████████████████████████████████████████████████████| 1813/1813 [00:00<00:00, 3938.85it/s]\n",
      "Querying: 100%|██████████████████████████████████████████████████████████████████| 1813/1813 [00:00<00:00, 4116.27it/s]\n",
      "Querying: 100%|██████████████████████████████████████████████████████████████████| 1813/1813 [00:00<00:00, 3647.95it/s]\n",
      "Querying: 100%|██████████████████████████████████████████████████████████████████| 1813/1813 [00:00<00:00, 4047.89it/s]\n",
      "Querying: 100%|██████████████████████████████████████████████████████████████████| 1813/1813 [00:00<00:00, 3855.75it/s]\n",
      "Querying: 100%|██████████████████████████████████████████████████████████████████| 1813/1813 [00:00<00:00, 3637.06it/s]\n",
      "Querying: 100%|██████████████████████████████████████████████████████████████████| 1813/1813 [00:00<00:00, 3876.19it/s]\n",
      "Querying: 100%|██████████████████████████████████████████████████████████████████| 1813/1813 [00:00<00:00, 4052.11it/s]\n",
      "Querying: 100%|██████████████████████████████████████████████████████████████████| 1813/1813 [00:00<00:00, 4093.22it/s]\n",
      "Querying: 100%|██████████████████████████████████████████████████████████████████| 1813/1813 [00:00<00:00, 4120.91it/s]\n",
      "Querying: 100%|██████████████████████████████████████████████████████████████████| 1813/1813 [00:00<00:00, 3863.90it/s]\n",
      "Querying: 100%|██████████████████████████████████████████████████████████████████| 1813/1813 [00:00<00:00, 4038.94it/s]\n",
      "Querying: 100%|██████████████████████████████████████████████████████████████████| 1813/1813 [00:00<00:00, 4047.90it/s]\n",
      "Querying: 100%|██████████████████████████████████████████████████████████████████| 1813/1813 [00:00<00:00, 3905.17it/s]\n",
      "Querying: 100%|██████████████████████████████████████████████████████████████████| 1813/1813 [00:00<00:00, 4065.62it/s]\n",
      "Querying: 100%|██████████████████████████████████████████████████████████████████| 1813/1813 [00:00<00:00, 3555.50it/s]\n",
      "Querying: 100%|██████████████████████████████████████████████████████████████████| 1813/1813 [00:00<00:00, 4047.91it/s]\n",
      "Querying: 100%|██████████████████████████████████████████████████████████████████| 1813/1813 [00:00<00:00, 4046.85it/s]\n",
      "Querying: 100%|██████████████████████████████████████████████████████████████████| 1813/1813 [00:00<00:00, 4007.95it/s]\n",
      "Querying: 100%|██████████████████████████████████████████████████████████████████| 1813/1813 [00:00<00:00, 4060.26it/s]\n",
      "Querying: 100%|██████████████████████████████████████████████████████████████████| 1813/1813 [00:00<00:00, 4038.72it/s]\n",
      "Querying: 100%|██████████████████████████████████████████████████████████████████| 1813/1813 [00:00<00:00, 4093.22it/s]\n",
      "Querying: 100%|██████████████████████████████████████████████████████████████████| 1813/1813 [00:00<00:00, 4030.05it/s]\n",
      "Querying: 100%|██████████████████████████████████████████████████████████████████| 1813/1813 [00:00<00:00, 3855.52it/s]\n",
      "Querying: 100%|██████████████████████████████████████████████████████████████████| 1813/1813 [00:00<00:00, 4012.34it/s]\n",
      "Querying: 100%|██████████████████████████████████████████████████████████████████| 1813/1813 [00:00<00:00, 4065.91it/s]\n",
      "Querying: 100%|██████████████████████████████████████████████████████████████████| 1813/1813 [00:00<00:00, 4090.51it/s]\n",
      "Querying: 100%|██████████████████████████████████████████████████████████████████| 1813/1813 [00:00<00:00, 4038.95it/s]\n",
      "Querying: 100%|██████████████████████████████████████████████████████████████████| 1813/1813 [00:00<00:00, 4107.01it/s]\n",
      "Querying: 100%|██████████████████████████████████████████████████████████████████| 1813/1813 [00:00<00:00, 4034.26it/s]\n",
      "Querying: 100%|██████████████████████████████████████████████████████████████████| 1813/1813 [00:00<00:00, 4074.96it/s]\n",
      "Querying: 100%|██████████████████████████████████████████████████████████████████| 1813/1813 [00:00<00:00, 4134.67it/s]\n",
      "Querying: 100%|██████████████████████████████████████████████████████████████████| 1813/1813 [00:00<00:00, 4007.69it/s]\n",
      "Querying: 100%|██████████████████████████████████████████████████████████████████| 1813/1813 [00:00<00:00, 3332.04it/s]\n",
      "Querying: 100%|██████████████████████████████████████████████████████████████████| 1813/1813 [00:00<00:00, 2760.76it/s]\n",
      "Querying: 100%|██████████████████████████████████████████████████████████████████| 1813/1813 [00:00<00:00, 3170.21it/s]\n",
      "Querying: 100%|██████████████████████████████████████████████████████████████████| 1813/1813 [00:00<00:00, 2758.68it/s]\n",
      "Querying: 100%|██████████████████████████████████████████████████████████████████| 1813/1813 [00:00<00:00, 2882.68it/s]\n",
      "Querying: 100%|██████████████████████████████████████████████████████████████████| 1813/1813 [00:00<00:00, 3161.98it/s]\n",
      "Querying: 100%|██████████████████████████████████████████████████████████████████| 1813/1813 [00:00<00:00, 3511.51it/s]\n",
      "Querying: 100%|██████████████████████████████████████████████████████████████████| 1813/1813 [00:00<00:00, 3347.13it/s]\n",
      "Querying: 100%|██████████████████████████████████████████████████████████████████| 1813/1813 [00:00<00:00, 3438.51it/s]\n",
      "Querying: 100%|██████████████████████████████████████████████████████████████████| 1813/1813 [00:00<00:00, 3350.36it/s]\n",
      "Querying: 100%|██████████████████████████████████████████████████████████████████| 1813/1813 [00:00<00:00, 3507.92it/s]\n",
      "Querying: 100%|██████████████████████████████████████████████████████████████████| 1813/1813 [00:00<00:00, 3590.62it/s]\n",
      "Querying: 100%|██████████████████████████████████████████████████████████████████| 1813/1813 [00:00<00:00, 3229.02it/s]\n",
      "Querying: 100%|██████████████████████████████████████████████████████████████████| 1813/1813 [00:00<00:00, 2933.59it/s]\n",
      "Querying: 100%|██████████████████████████████████████████████████████████████████| 1813/1813 [00:00<00:00, 3710.29it/s]\n",
      "Querying: 100%|██████████████████████████████████████████████████████████████████| 1813/1813 [00:00<00:00, 3799.43it/s]\n",
      "Querying: 100%|██████████████████████████████████████████████████████████████████| 1813/1813 [00:00<00:00, 3347.30it/s]\n",
      "Querying: 100%|██████████████████████████████████████████████████████████████████| 1813/1813 [00:00<00:00, 3092.43it/s]\n",
      "Querying: 100%|██████████████████████████████████████████████████████████████████| 1813/1813 [00:00<00:00, 3729.85it/s]\n",
      "Querying: 100%|██████████████████████████████████████████████████████████████████| 1813/1813 [00:00<00:00, 3905.18it/s]\n",
      "Querying: 100%|██████████████████████████████████████████████████████████████████| 1813/1813 [00:00<00:00, 3872.09it/s]\n",
      "Querying: 100%|██████████████████████████████████████████████████████████████████| 1813/1813 [00:00<00:00, 3994.81it/s]\n",
      "Querying: 100%|██████████████████████████████████████████████████████████████████| 1813/1813 [00:00<00:00, 3986.09it/s]\n",
      "Querying: 100%|██████████████████████████████████████████████████████████████████| 1813/1813 [00:00<00:00, 3989.17it/s]\n",
      "Querying: 100%|██████████████████████████████████████████████████████████████████| 1813/1813 [00:00<00:00, 3637.07it/s]\n",
      "Querying: 100%|██████████████████████████████████████████████████████████████████| 1813/1813 [00:00<00:00, 3590.62it/s]\n",
      "Querying: 100%|██████████████████████████████████████████████████████████████████| 1813/1813 [00:00<00:00, 3531.64it/s]\n",
      "Querying: 100%|██████████████████████████████████████████████████████████████████| 1813/1813 [00:00<00:00, 3644.98it/s]\n",
      "Querying: 100%|██████████████████████████████████████████████████████████████████| 1813/1813 [00:00<00:00, 3741.30it/s]\n",
      "Querying: 100%|██████████████████████████████████████████████████████████████████| 1813/1813 [00:00<00:00, 3714.68it/s]\n",
      "Querying: 100%|██████████████████████████████████████████████████████████████████| 1813/1813 [00:00<00:00, 3714.69it/s]\n",
      "Querying: 100%|██████████████████████████████████████████████████████████████████| 1813/1813 [00:00<00:00, 3541.91it/s]\n",
      "Querying: 100%|██████████████████████████████████████████████████████████████████| 1813/1813 [00:00<00:00, 3752.60it/s]\n",
      "Querying: 100%|██████████████████████████████████████████████████████████████████| 1813/1813 [00:00<00:00, 3905.18it/s]\n",
      "Querying: 100%|██████████████████████████████████████████████████████████████████| 1813/1813 [00:00<00:00, 3831.50it/s]\n",
      "Querying: 100%|██████████████████████████████████████████████████████████████████| 1813/1813 [00:00<00:00, 3888.57it/s]\n",
      "Querying: 100%|██████████████████████████████████████████████████████████████████| 1813/1813 [00:00<00:00, 4025.60it/s]\n",
      "Querying: 100%|██████████████████████████████████████████████████████████████████| 1813/1813 [00:00<00:00, 4106.77it/s]\n",
      "Querying: 100%|██████████████████████████████████████████████████████████████████| 1813/1813 [00:00<00:00, 4107.02it/s]\n",
      "Querying: 100%|██████████████████████████████████████████████████████████████████| 1813/1813 [00:00<00:00, 3955.69it/s]\n",
      "Querying: 100%|██████████████████████████████████████████████████████████████████| 1813/1813 [00:00<00:00, 4092.96it/s]\n",
      "Querying: 100%|██████████████████████████████████████████████████████████████████| 1813/1813 [00:00<00:00, 4029.77it/s]\n",
      "Querying: 100%|██████████████████████████████████████████████████████████████████| 1813/1813 [00:00<00:00, 4085.17it/s]\n",
      "Querying: 100%|██████████████████████████████████████████████████████████████████| 1813/1813 [00:00<00:00, 4134.62it/s]\n",
      "Querying: 100%|██████████████████████████████████████████████████████████████████| 1813/1813 [00:00<00:00, 3968.78it/s]\n",
      "Querying: 100%|██████████████████████████████████████████████████████████████████| 1813/1813 [00:00<00:00, 4158.42it/s]\n",
      "Querying: 100%|██████████████████████████████████████████████████████████████████| 1813/1813 [00:00<00:00, 4061.38it/s]\n",
      "Querying: 100%|██████████████████████████████████████████████████████████████████| 1813/1813 [00:00<00:00, 4107.02it/s]\n",
      "Querying: 100%|██████████████████████████████████████████████████████████████████| 1813/1813 [00:00<00:00, 4088.39it/s]\n",
      "Querying: 100%|██████████████████████████████████████████████████████████████████| 1813/1813 [00:00<00:00, 4052.12it/s]\n",
      "Querying: 100%|██████████████████████████████████████████████████████████████████| 1813/1813 [00:00<00:00, 4111.69it/s]\n",
      "Querying: 100%|██████████████████████████████████████████████████████████████████| 1813/1813 [00:00<00:00, 4084.08it/s]\n",
      "Querying: 100%|██████████████████████████████████████████████████████████████████| 1813/1813 [00:00<00:00, 4056.63it/s]\n",
      "Querying: 100%|██████████████████████████████████████████████████████████████████| 1813/1813 [00:00<00:00, 3998.97it/s]\n",
      "Querying: 100%|██████████████████████████████████████████████████████████████████| 1813/1813 [00:00<00:00, 3998.93it/s]\n",
      "Querying: 100%|██████████████████████████████████████████████████████████████████| 1813/1813 [00:00<00:00, 4079.29it/s]\n",
      "Querying: 100%|██████████████████████████████████████████████████████████████████| 1813/1813 [00:00<00:00, 4065.90it/s]\n",
      "Querying: 100%|██████████████████████████████████████████████████████████████████| 1813/1813 [00:00<00:00, 3917.47it/s]\n",
      "Querying: 100%|██████████████████████████████████████████████████████████████████| 1813/1813 [00:00<00:00, 4052.39it/s]\n",
      "Querying: 100%|██████████████████████████████████████████████████████████████████| 1813/1813 [00:00<00:00, 4112.99it/s]\n",
      "Querying: 100%|██████████████████████████████████████████████████████████████████| 1813/1813 [00:00<00:00, 3504.55it/s]\n",
      "Querying: 100%|██████████████████████████████████████████████████████████████████| 1813/1813 [00:00<00:00, 3590.62it/s]\n",
      "Querying: 100%|██████████████████████████████████████████████████████████████████| 1813/1813 [00:00<00:00, 3381.36it/s]\n",
      "Querying: 100%|██████████████████████████████████████████████████████████████████| 1813/1813 [00:00<00:00, 3930.08it/s]\n",
      "Querying: 100%|██████████████████████████████████████████████████████████████████| 1813/1813 [00:00<00:00, 4009.98it/s]\n",
      "Querying: 100%|██████████████████████████████████████████████████████████████████| 1813/1813 [00:00<00:00, 3904.25it/s]\n",
      "Querying: 100%|██████████████████████████████████████████████████████████████████| 1813/1813 [00:00<00:00, 3760.54it/s]\n",
      "Querying: 100%|██████████████████████████████████████████████████████████████████| 1813/1813 [00:00<00:00, 3896.62it/s]\n",
      "Querying: 100%|██████████████████████████████████████████████████████████████████| 1813/1813 [00:00<00:00, 4012.08it/s]\n",
      "Querying: 100%|██████████████████████████████████████████████████████████████████| 1813/1813 [00:00<00:00, 4111.38it/s]\n"
     ]
    }
   ],
   "source": [
    "mean_ap = map(imgs_names, r)"
   ]
  },
  {
   "cell_type": "code",
   "execution_count": 30,
   "id": "06640f2f-c329-4eaa-a5b9-4a70703786fd",
   "metadata": {},
   "outputs": [
    {
     "data": {
      "text/plain": [
       "0.03297857655856321"
      ]
     },
     "execution_count": 30,
     "metadata": {},
     "output_type": "execute_result"
    }
   ],
   "source": [
    "mean_ap"
   ]
  },
  {
   "cell_type": "code",
   "execution_count": 7,
   "id": "c1cdacfb-b9c8-4c05-b149-8f388af6a79f",
   "metadata": {},
   "outputs": [
    {
     "name": "stderr",
     "output_type": "stream",
     "text": [
      "Querying: 100%|██████████████████████████████████████████████████████████████████| 1813/1813 [00:00<00:00, 4187.00it/s]\n"
     ]
    }
   ],
   "source": [
    "rp = recall_presicion(r,r'B:\\Flickr\\Flickr15K\\queries\\1001.png',len_classes[0])"
   ]
  },
  {
   "cell_type": "code",
   "execution_count": 8,
   "id": "41a1a54a-1468-4acf-9358-649c98ce1773",
   "metadata": {},
   "outputs": [
    {
     "data": {
      "text/plain": [
       "array([0.75      , 0.22596965, 0.15498812, 0.10945274, 0.09507487,\n",
       "       0.08863852, 0.08119038, 0.08232407, 0.08529668, 0.08998689,\n",
       "       0.09003726])"
      ]
     },
     "execution_count": 8,
     "metadata": {},
     "output_type": "execute_result"
    }
   ],
   "source": [
    "rp"
   ]
  },
  {
   "cell_type": "code",
   "execution_count": 11,
   "id": "3e53a82e-4487-4506-974a-4399d46ed948",
   "metadata": {},
   "outputs": [
    {
     "data": {
      "text/plain": [
       "Text(0.5, 1.0, 'Recall-Precision Curve')"
      ]
     },
     "execution_count": 11,
     "metadata": {},
     "output_type": "execute_result"
    },
    {
     "data": {
      "image/png": "[encoded data removed]",
      "text/plain": [
       "<Figure size 432x288 with 1 Axes>"
      ]
     },
     "metadata": {
      "needs_background": "light"
     },
     "output_type": "display_data"
    }
   ],
   "source": [
    "plt.plot(recalls,rp)\n",
    "plt.xlabel('Recall')\n",
    "plt.ylabel('Precision')\n",
    "plt.title('Recall-Precision Curve')"
   ]
  },
  {
   "cell_type": "code",
   "execution_count": 44,
   "id": "7f6dca73-6142-47cc-8ed7-10b2d85b6ebb",
   "metadata": {},
   "outputs": [],
   "source": [
    "prec = np.zeros(11)\n",
    "cont = 0\n",
    "cont2 = 0\n",
    "\n",
    "for i in range(len(rank[1])):\n",
    "    if rank[1][i][1] == 1:\n",
    "        cont = (1+ cont2)/(i+1)\n",
    "        cont2 += 1\n",
    "        idx = int((cont2/len_classes[0])*10)\n",
    "        if cont > prec[idx]:\n",
    "            prec[idx] = cont\n",
    "            \n",
    "        "
   ]
  },
  {
   "cell_type": "code",
   "execution_count": 45,
   "id": "30cbff29-1818-4489-badd-0d44b8bd94b7",
   "metadata": {},
   "outputs": [
    {
     "data": {
      "text/plain": [
       "array([0.75      , 0.22596965, 0.15498812, 0.10945274, 0.09507487,\n",
       "       0.08863852, 0.08119038, 0.08232407, 0.08529668, 0.08998689,\n",
       "       0.09003726])"
      ]
     },
     "execution_count": 45,
     "metadata": {},
     "output_type": "execute_result"
    }
   ],
   "source": [
    "prec"
   ]
  },
  {
   "cell_type": "code",
   "execution_count": 9,
   "id": "2bf8ebca-d943-477e-acc5-d3f0e934b2f1",
   "metadata": {},
   "outputs": [],
   "source": [
    "recalls = np.array([0, 0.1, 0.2, 0.3, 0.4, 0.5, 0.6, 0.7, 0.8, 0.9, 1.0])"
   ]
  },
  {
   "cell_type": "code",
   "execution_count": 49,
   "id": "25067627-28e2-45b9-902b-949b694a430a",
   "metadata": {},
   "outputs": [
    {
     "data": {
      "text/plain": [
       "[<matplotlib.lines.Line2D at 0x1ebe3df4760>]"
      ]
     },
     "execution_count": 49,
     "metadata": {},
     "output_type": "execute_result"
    },
    {
     "data": {
      "image/png": "[encoded data removed]",
      "text/plain": [
       "<Figure size 432x288 with 1 Axes>"
      ]
     },
     "metadata": {
      "needs_background": "light"
     },
     "output_type": "display_data"
    }
   ],
   "source": [
    "plt.plot(recalls,prec,'-')"
   ]
  },
  {
   "cell_type": "code",
   "execution_count": null,
   "id": "adb9f872-0be2-4e5f-8c79-e5c24fbee69b",
   "metadata": {},
   "outputs": [],
   "source": []
  }
 ],
 "metadata": {
  "kernelspec": {
   "display_name": "Python 3",
   "language": "python",
   "name": "python3"
  },
  "language_info": {
   "codemirror_mode": {
    "name": "ipython",
    "version": 3
   },
   "file_extension": ".py",
   "mimetype": "text/x-python",
   "name": "python",
   "nbconvert_exporter": "python",
   "pygments_lexer": "ipython3",
   "version": "3.9.2"
  }
 },
 "nbformat": 4,
 "nbformat_minor": 5
}
