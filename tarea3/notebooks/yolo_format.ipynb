{
 "cells": [
  {
   "cell_type": "code",
   "execution_count": 7,
   "id": "3347d227-22b0-4423-8223-3f969682b091",
   "metadata": {},
   "outputs": [],
   "source": [
    "import numpy as np\n",
    "import os\n",
    "import cv2\n",
    "import shutil"
   ]
  },
  {
   "cell_type": "code",
   "execution_count": null,
   "id": "f2c1edae-94c0-4adc-b12d-4cbae31e3b3b",
   "metadata": {},
   "outputs": [],
   "source": []
  },
  {
   "cell_type": "code",
   "execution_count": 84,
   "id": "cfc44d21-a7f1-4a2f-a9aa-a1a298b409ed",
   "metadata": {},
   "outputs": [],
   "source": [
    "def to_yoloformat(txt_path: str, img_path: str, name_path: str, destiny:str):\n",
    "    #txt_path: dir de carpeta de labels\n",
    "    #img_path: dir de carpeta de imagenes\n",
    "    #name_path: nombre del archivo de label ej: 01110.txt\n",
    "    d = []\n",
    "    ft_path = txt_path+'\\\\'+name_path #direccion del txt\n",
    "    fi_path =  img_path+'\\\\'+name_path[0:-3]+ 'png'#direccion de la imagen\n",
    "\n",
    "    with open(ft_path) as source: #leer el archivo txt linea a linea\n",
    "        for line in source:\n",
    "            fields = line.split(':')\n",
    "            d.append(fields)\n",
    "            \n",
    "    d2 = []\n",
    "    for i in range(len(d)-1): #separar la lista segun las ,\n",
    "        d2.append(d[i][1][0:-1].split(','))\n",
    "    d2.append(d[len(d)-1][1].split(','))\n",
    "    \n",
    "    file = open(destiny+'\\\\'+name_path,'w')#txt_path+'2\\\\'+name_path, \"w\")\n",
    "    img = cv2.imread(fi_path)#leer imagen y obtener sus dimensiones\n",
    "    img_h = img.shape[0]\n",
    "    img_w = img.shape[1]\n",
    "    for i in range(len(d2)):# transformar los valores a formato yolo\n",
    "        fin = list(map(int, d2[i]))\n",
    "        x = (fin[0]+(fin[2]/2))/img_w\n",
    "        y = (fin[1]+(fin[3]/2))/img_h\n",
    "        width = fin[2]/img_w\n",
    "        height = fin[3]/img_h\n",
    "        \n",
    "        \n",
    "        file.write(d[i][0]+' ' +str(x)+' '+str(y)+' '+str(width) + ' '+str(height) +'\\n')# escribe en una linea\n",
    "    \n",
    "    \n",
    "    "
   ]
  },
  {
   "cell_type": "code",
   "execution_count": 11,
   "id": "b9ee9e55-471b-4aad-bbd8-2c2ea5141093",
   "metadata": {},
   "outputs": [],
   "source": [
    "def newfolder(path:str):\n",
    "    if os.path.exists(path) is True:\n",
    "        return('this folder has already been created')\n",
    "    else:\n",
    "        os.mkdir(path)"
   ]
  },
  {
   "cell_type": "code",
   "execution_count": 2,
   "id": "ef8f8812-fea6-41f5-8270-c485050da2a0",
   "metadata": {},
   "outputs": [],
   "source": [
    "dirs = 'B:\\\\t3cc7221\\\\orand-car-with-bbs\\\\training\\\\annotations'"
   ]
  },
  {
   "cell_type": "code",
   "execution_count": 172,
   "id": "c6395ab6-429e-4ad6-8b0a-20215119f3ed",
   "metadata": {},
   "outputs": [],
   "source": [
    "to_yoloformat(dirs,'B:\\\\t3cc7221\\\\orand-car-with-bbs\\\\training\\\\images','0001_5179655_46066.txt')"
   ]
  },
  {
   "cell_type": "code",
   "execution_count": 113,
   "id": "ce6060dd-4728-4c3e-ace4-c15d972e3de0",
   "metadata": {},
   "outputs": [],
   "source": [
    "img1= cv2.imread('B:\\\\t3cc7221\\\\orand-car-with-bbs\\\\training\\\\images\\\\0001_5179655_46066.png')"
   ]
  },
  {
   "cell_type": "code",
   "execution_count": 86,
   "id": "b7650586-6a18-46f6-bbbb-ab01f1d833ab",
   "metadata": {},
   "outputs": [],
   "source": [
    "txt_path = r'B:\\\\t3numeros\\\\orand-car-with-bbs\\\\training\\\\annotations'\n",
    "img_path =r'B:\\\\t3numeros\\\\orand-car-with-bbs\\\\training\\\\images'\n",
    "names_paths = os.listdir(txt_path) \n",
    "destiny = r'B:\\\\t3numeros\\\\orand-car-with-bbs\\\\training\\\\labels'"
   ]
  },
  {
   "cell_type": "code",
   "execution_count": 173,
   "id": "3dcfdbfe-b045-4ee7-895b-3f65c1d84d14",
   "metadata": {},
   "outputs": [],
   "source": [
    "for i in range(len(names_paths)):\n",
    "    to_yoloformat(txt_path,img_path,names_paths[i])"
   ]
  },
  {
   "cell_type": "code",
   "execution_count": 38,
   "id": "7d64376b-4f7f-4a2f-a3b2-6f2a7b68729a",
   "metadata": {},
   "outputs": [],
   "source": [
    "def generate_doc(names_paths:list,  txt_path:str, img_path:str, destiny:str):\n",
    "    newfolder(destiny)\n",
    "    for i in range(len(names_paths)):\n",
    "        to_yoloformat(txt_path,img_path,names_paths[i],destiny)"
   ]
  },
  {
   "cell_type": "code",
   "execution_count": 87,
   "id": "1c5df971-740d-4c78-8872-59eef86324d4",
   "metadata": {},
   "outputs": [],
   "source": [
    "generate_doc(names_paths, txt_path, img_path, destiny)"
   ]
  },
  {
   "cell_type": "markdown",
   "id": "329354e0-0332-44c2-887d-d2e4ac814ae6",
   "metadata": {},
   "source": [
    "## Making validation and trining dataset"
   ]
  },
  {
   "cell_type": "code",
   "execution_count": 88,
   "id": "72bc28c4-e92a-4f5e-a164-4e77f0f759fe",
   "metadata": {},
   "outputs": [],
   "source": [
    "imgs_pths = os.listdir(img_path)\n",
    "txt_pths = os.listdir(destiny)"
   ]
  },
  {
   "cell_type": "code",
   "execution_count": 89,
   "id": "ca18219e-c5ed-4243-b386-b10d61121554",
   "metadata": {},
   "outputs": [],
   "source": [
    "imgs = []\n",
    "for i in range(len(imgs_pths)):\n",
    "    imgs.append(imgs_pths[i][0:-3])\n",
    "    \n",
    "txts = []\n",
    "for i in range(len(txt_pths)):\n",
    "    txts.append(txt_pths[i][0:-3])\n",
    "    "
   ]
  },
  {
   "cell_type": "code",
   "execution_count": 90,
   "id": "e56b7e83-12c8-424a-8b49-8e6c594b8860",
   "metadata": {},
   "outputs": [],
   "source": [
    "img_set = set(imgs)\n",
    "txt_set = set(txts)"
   ]
  },
  {
   "cell_type": "code",
   "execution_count": 91,
   "id": "5a784aa2-5817-4395-bb9f-a47f28a5d214",
   "metadata": {},
   "outputs": [],
   "source": [
    "inter = txt_set.intersection(img_set)"
   ]
  },
  {
   "cell_type": "code",
   "execution_count": 92,
   "id": "cbb1c69c-ddb6-4399-b644-e7a1e5d2bff6",
   "metadata": {},
   "outputs": [],
   "source": [
    "names = list(inter)"
   ]
  },
  {
   "cell_type": "code",
   "execution_count": 25,
   "id": "1da10196-b8de-4479-a97e-b1064009d23f",
   "metadata": {},
   "outputs": [],
   "source": [
    "def remove_img(path, img_name):\n",
    "    if os.path.exists(path + '\\\\' + img_name) is False:\n",
    "        return True\n",
    "    os.remove(path + '\\\\' + img_name)\n",
    "# check if file exists or not\n"
   ]
  },
  {
   "cell_type": "code",
   "execution_count": 93,
   "id": "d85a4556-2dee-4a84-8d89-e1b7bd6aaab1",
   "metadata": {},
   "outputs": [],
   "source": [
    "largo = len(names)"
   ]
  },
  {
   "cell_type": "code",
   "execution_count": 94,
   "id": "02322f2b-7234-48e5-8af2-d1d214bad2b6",
   "metadata": {},
   "outputs": [
    {
     "data": {
      "text/plain": [
       "637.0"
      ]
     },
     "execution_count": 94,
     "metadata": {},
     "output_type": "execute_result"
    }
   ],
   "source": [
    "largo*0.1"
   ]
  },
  {
   "cell_type": "code",
   "execution_count": 95,
   "id": "93b142ac-1f8f-4e5b-981c-f1972f620719",
   "metadata": {},
   "outputs": [],
   "source": [
    "val_data = np.random.choice(names,637)"
   ]
  },
  {
   "cell_type": "code",
   "execution_count": 77,
   "id": "e70d30a2-bae2-4829-8efd-33edd7d7b32c",
   "metadata": {},
   "outputs": [
    {
     "data": {
      "text/plain": [
       "6370"
      ]
     },
     "execution_count": 77,
     "metadata": {},
     "output_type": "execute_result"
    }
   ],
   "source": [
    "len(names)"
   ]
  },
  {
   "cell_type": "code",
   "execution_count": 34,
   "id": "526799e2-cddc-4e09-a0db-f60cf2cf2ce0",
   "metadata": {},
   "outputs": [],
   "source": [
    "import errno\n",
    "try:\n",
    "    os.mkdir('B:\\\\t3cc7221\\\\')\n",
    "except OSError as e:\n",
    "    if e.errno != errno.EEXIST:\n",
    "        raise"
   ]
  },
  {
   "cell_type": "code",
   "execution_count": 96,
   "id": "149cd0ea-0b30-42e2-9af0-8553972db083",
   "metadata": {},
   "outputs": [],
   "source": [
    "newfolder('B:\\\\t3numeros\\\\orand-car-with-bbs\\\\validation')\n",
    "newfolder('B:\\\\t3numeros\\\\orand-car-with-bbs\\\\training2')\n",
    "newfolder('B:\\\\t3numeros\\\\orand-car-with-bbs\\\\validation\\\\images')\n",
    "newfolder('B:\\\\t3numeros\\\\orand-car-with-bbs\\\\validation\\\\labels')\n",
    "newfolder('B:\\\\t3numeros\\\\orand-car-with-bbs\\\\training2\\\\images')\n",
    "newfolder('B:\\\\t3numeros\\\\orand-car-with-bbs\\\\training2\\\\labels')"
   ]
  },
  {
   "cell_type": "code",
   "execution_count": 56,
   "id": "179f626e-166f-4807-9940-3a26b40bbd88",
   "metadata": {},
   "outputs": [],
   "source": [
    "def move_img(source, destiny):\n",
    "    if os.path.exists(source):  \n",
    "        ruta = shutil.move(source, destiny)\n",
    "        #print('El directorio ha sido movido a', ruta)\n",
    "    else:\n",
    "        print('El directorio origen no existe'+source)\n",
    "def copy_img(source, destiny):\n",
    "    if os.path.exists(source):  \n",
    "        ruta = shutil.copy(source, destiny)\n",
    "        #ruta = shutil.move(source, destiny)\n",
    "        #print('El directorio ha sido movido a', ruta)\n",
    "    else:\n",
    "        print('El directorio origen no existe'+source)"
   ]
  },
  {
   "cell_type": "code",
   "execution_count": 49,
   "id": "edc0125d-2c0f-44e8-91d0-8dc4705f2854",
   "metadata": {},
   "outputs": [],
   "source": [
    "move_img(r'C:\\Users\\aleja\\Desktop\\Tareas\\moch2.png',destino)"
   ]
  },
  {
   "cell_type": "code",
   "execution_count": 57,
   "id": "84195efe-ba7c-4638-b064-6d9b3a5d5b10",
   "metadata": {},
   "outputs": [],
   "source": [
    "copy_img(r'B:\\Descargas\\coco128.yaml',r'C:\\Users\\aleja\\Desktop')"
   ]
  },
  {
   "cell_type": "code",
   "execution_count": 97,
   "id": "d43fcb6b-bf67-419f-9407-c6241ff1c57f",
   "metadata": {},
   "outputs": [],
   "source": [
    "for i in range(len(names)):\n",
    "    #for imgs\n",
    "    source = r'B:\\\\t3numeros\\\\orand-car-with-bbs\\\\training\\\\images\\\\'+names[i]+'png'\n",
    "    destiny = r'B:\\\\t3numeros\\\\orand-car-with-bbs\\\\training2\\\\images'\n",
    "    #for labels\n",
    "    source2 = r'B:\\\\t3numeros\\\\orand-car-with-bbs\\\\training\\\\labels\\\\'+names[i]+'txt'\n",
    "    destiny2 = r'B:\\\\t3numeros\\\\orand-car-with-bbs\\\\training2\\\\labels'\n",
    "    \n",
    "    copy_img(source,destiny)\n",
    "    copy_img(source2,destiny2)\n",
    "    "
   ]
  },
  {
   "cell_type": "code",
   "execution_count": 98,
   "id": "4f942603-a781-4bf0-aaae-e06ceb02e640",
   "metadata": {},
   "outputs": [
    {
     "name": "stdout",
     "output_type": "stream",
     "text": [
      "El directorio origen no existeB:\\\\t3numeros\\\\orand-car-with-bbs\\\\training2\\\\images\\\\a_car_000557.png\n",
      "El directorio origen no existeB:\\\\t3numeros\\\\orand-car-with-bbs\\\\training2\\\\labels\\\\a_car_000557.txt\n",
      "El directorio origen no existeB:\\\\t3numeros\\\\orand-car-with-bbs\\\\training2\\\\images\\\\1148_0541997_175440.png\n",
      "El directorio origen no existeB:\\\\t3numeros\\\\orand-car-with-bbs\\\\training2\\\\labels\\\\1148_0541997_175440.txt\n",
      "El directorio origen no existeB:\\\\t3numeros\\\\orand-car-with-bbs\\\\training2\\\\images\\\\a_car_001831.png\n",
      "El directorio origen no existeB:\\\\t3numeros\\\\orand-car-with-bbs\\\\training2\\\\labels\\\\a_car_001831.txt\n",
      "El directorio origen no existeB:\\\\t3numeros\\\\orand-car-with-bbs\\\\training2\\\\images\\\\anv_7295138_1321.png\n",
      "El directorio origen no existeB:\\\\t3numeros\\\\orand-car-with-bbs\\\\training2\\\\labels\\\\anv_7295138_1321.txt\n",
      "El directorio origen no existeB:\\\\t3numeros\\\\orand-car-with-bbs\\\\training2\\\\images\\\\b_car_003930.png\n",
      "El directorio origen no existeB:\\\\t3numeros\\\\orand-car-with-bbs\\\\training2\\\\labels\\\\b_car_003930.txt\n",
      "El directorio origen no existeB:\\\\t3numeros\\\\orand-car-with-bbs\\\\training2\\\\images\\\\0901_8067511_46910.png\n",
      "El directorio origen no existeB:\\\\t3numeros\\\\orand-car-with-bbs\\\\training2\\\\labels\\\\0901_8067511_46910.txt\n",
      "El directorio origen no existeB:\\\\t3numeros\\\\orand-car-with-bbs\\\\training2\\\\images\\\\b_car_004460.png\n",
      "El directorio origen no existeB:\\\\t3numeros\\\\orand-car-with-bbs\\\\training2\\\\labels\\\\b_car_004460.txt\n",
      "El directorio origen no existeB:\\\\t3numeros\\\\orand-car-with-bbs\\\\training2\\\\images\\\\anv_7423519_64041.png\n",
      "El directorio origen no existeB:\\\\t3numeros\\\\orand-car-with-bbs\\\\training2\\\\labels\\\\anv_7423519_64041.txt\n",
      "El directorio origen no existeB:\\\\t3numeros\\\\orand-car-with-bbs\\\\training2\\\\images\\\\b_car_003706.png\n",
      "El directorio origen no existeB:\\\\t3numeros\\\\orand-car-with-bbs\\\\training2\\\\labels\\\\b_car_003706.txt\n",
      "El directorio origen no existeB:\\\\t3numeros\\\\orand-car-with-bbs\\\\training2\\\\images\\\\a_car_000354.png\n",
      "El directorio origen no existeB:\\\\t3numeros\\\\orand-car-with-bbs\\\\training2\\\\labels\\\\a_car_000354.txt\n",
      "El directorio origen no existeB:\\\\t3numeros\\\\orand-car-with-bbs\\\\training2\\\\images\\\\b_car_003135.png\n",
      "El directorio origen no existeB:\\\\t3numeros\\\\orand-car-with-bbs\\\\training2\\\\labels\\\\b_car_003135.txt\n",
      "El directorio origen no existeB:\\\\t3numeros\\\\orand-car-with-bbs\\\\training2\\\\images\\\\a_car_000159.png\n",
      "El directorio origen no existeB:\\\\t3numeros\\\\orand-car-with-bbs\\\\training2\\\\labels\\\\a_car_000159.txt\n",
      "El directorio origen no existeB:\\\\t3numeros\\\\orand-car-with-bbs\\\\training2\\\\images\\\\anv_7212844_713.png\n",
      "El directorio origen no existeB:\\\\t3numeros\\\\orand-car-with-bbs\\\\training2\\\\labels\\\\anv_7212844_713.txt\n",
      "El directorio origen no existeB:\\\\t3numeros\\\\orand-car-with-bbs\\\\training2\\\\images\\\\0995_4957987_36419.png\n",
      "El directorio origen no existeB:\\\\t3numeros\\\\orand-car-with-bbs\\\\training2\\\\labels\\\\0995_4957987_36419.txt\n",
      "El directorio origen no existeB:\\\\t3numeros\\\\orand-car-with-bbs\\\\training2\\\\images\\\\a_car_000304.png\n",
      "El directorio origen no existeB:\\\\t3numeros\\\\orand-car-with-bbs\\\\training2\\\\labels\\\\a_car_000304.txt\n",
      "El directorio origen no existeB:\\\\t3numeros\\\\orand-car-with-bbs\\\\training2\\\\images\\\\anv_7783051_325.png\n",
      "El directorio origen no existeB:\\\\t3numeros\\\\orand-car-with-bbs\\\\training2\\\\labels\\\\anv_7783051_325.txt\n",
      "El directorio origen no existeB:\\\\t3numeros\\\\orand-car-with-bbs\\\\training2\\\\images\\\\b_car_003773.png\n",
      "El directorio origen no existeB:\\\\t3numeros\\\\orand-car-with-bbs\\\\training2\\\\labels\\\\b_car_003773.txt\n",
      "El directorio origen no existeB:\\\\t3numeros\\\\orand-car-with-bbs\\\\training2\\\\images\\\\0995_4957987_36419.png\n",
      "El directorio origen no existeB:\\\\t3numeros\\\\orand-car-with-bbs\\\\training2\\\\labels\\\\0995_4957987_36419.txt\n",
      "El directorio origen no existeB:\\\\t3numeros\\\\orand-car-with-bbs\\\\training2\\\\images\\\\0788_3784246_219860.png\n",
      "El directorio origen no existeB:\\\\t3numeros\\\\orand-car-with-bbs\\\\training2\\\\labels\\\\0788_3784246_219860.txt\n",
      "El directorio origen no existeB:\\\\t3numeros\\\\orand-car-with-bbs\\\\training2\\\\images\\\\0990_0412776_150894.png\n",
      "El directorio origen no existeB:\\\\t3numeros\\\\orand-car-with-bbs\\\\training2\\\\labels\\\\0990_0412776_150894.txt\n",
      "El directorio origen no existeB:\\\\t3numeros\\\\orand-car-with-bbs\\\\training2\\\\images\\\\b_car_004498.png\n",
      "El directorio origen no existeB:\\\\t3numeros\\\\orand-car-with-bbs\\\\training2\\\\labels\\\\b_car_004498.txt\n",
      "El directorio origen no existeB:\\\\t3numeros\\\\orand-car-with-bbs\\\\training2\\\\images\\\\0829_5092329_45920.png\n",
      "El directorio origen no existeB:\\\\t3numeros\\\\orand-car-with-bbs\\\\training2\\\\labels\\\\0829_5092329_45920.txt\n",
      "El directorio origen no existeB:\\\\t3numeros\\\\orand-car-with-bbs\\\\training2\\\\images\\\\1079_9148402_143094.png\n",
      "El directorio origen no existeB:\\\\t3numeros\\\\orand-car-with-bbs\\\\training2\\\\labels\\\\1079_9148402_143094.txt\n",
      "El directorio origen no existeB:\\\\t3numeros\\\\orand-car-with-bbs\\\\training2\\\\images\\\\a_car_001083.png\n",
      "El directorio origen no existeB:\\\\t3numeros\\\\orand-car-with-bbs\\\\training2\\\\labels\\\\a_car_001083.txt\n",
      "El directorio origen no existeB:\\\\t3numeros\\\\orand-car-with-bbs\\\\training2\\\\images\\\\b_car_003545.png\n",
      "El directorio origen no existeB:\\\\t3numeros\\\\orand-car-with-bbs\\\\training2\\\\labels\\\\b_car_003545.txt\n",
      "El directorio origen no existeB:\\\\t3numeros\\\\orand-car-with-bbs\\\\training2\\\\images\\\\b_car_003772.png\n",
      "El directorio origen no existeB:\\\\t3numeros\\\\orand-car-with-bbs\\\\training2\\\\labels\\\\b_car_003772.txt\n",
      "El directorio origen no existeB:\\\\t3numeros\\\\orand-car-with-bbs\\\\training2\\\\images\\\\a_car_001904.png\n",
      "El directorio origen no existeB:\\\\t3numeros\\\\orand-car-with-bbs\\\\training2\\\\labels\\\\a_car_001904.txt\n",
      "El directorio origen no existeB:\\\\t3numeros\\\\orand-car-with-bbs\\\\training2\\\\images\\\\a_car_002041.png\n",
      "El directorio origen no existeB:\\\\t3numeros\\\\orand-car-with-bbs\\\\training2\\\\labels\\\\a_car_002041.txt\n",
      "El directorio origen no existeB:\\\\t3numeros\\\\orand-car-with-bbs\\\\training2\\\\images\\\\anv_7312237_14744.png\n",
      "El directorio origen no existeB:\\\\t3numeros\\\\orand-car-with-bbs\\\\training2\\\\labels\\\\anv_7312237_14744.txt\n",
      "El directorio origen no existeB:\\\\t3numeros\\\\orand-car-with-bbs\\\\training2\\\\images\\\\a_car_000570.png\n",
      "El directorio origen no existeB:\\\\t3numeros\\\\orand-car-with-bbs\\\\training2\\\\labels\\\\a_car_000570.txt\n",
      "El directorio origen no existeB:\\\\t3numeros\\\\orand-car-with-bbs\\\\training2\\\\images\\\\0432_3889477_134213.png\n",
      "El directorio origen no existeB:\\\\t3numeros\\\\orand-car-with-bbs\\\\training2\\\\labels\\\\0432_3889477_134213.txt\n"
     ]
    }
   ],
   "source": [
    "for i in range(len(val_data)):\n",
    "    #for imgs\n",
    "    source = r'B:\\\\t3numeros\\\\orand-car-with-bbs\\\\training2\\\\images\\\\'+val_data[i]+'png'\n",
    "    destiny = r'B:\\\\t3numeros\\\\orand-car-with-bbs\\\\validation\\\\images'\n",
    "    #for labels\n",
    "    source2 = r'B:\\\\t3numeros\\\\orand-car-with-bbs\\\\training2\\\\labels\\\\'+val_data[i]+'txt'\n",
    "    destiny2 = r'B:\\\\t3numeros\\\\orand-car-with-bbs\\\\validation\\\\labels'\n",
    "    \n",
    "    move_img(source,destiny)\n",
    "    move_img(source2,destiny2)"
   ]
  },
  {
   "cell_type": "code",
   "execution_count": 99,
   "id": "3f0c8ed3-ac94-47fe-be0e-fd2fbd052eed",
   "metadata": {},
   "outputs": [
    {
     "data": {
      "text/plain": [
       "637"
      ]
     },
     "execution_count": 99,
     "metadata": {},
     "output_type": "execute_result"
    }
   ],
   "source": [
    "len(val_data)"
   ]
  },
  {
   "cell_type": "code",
   "execution_count": 106,
   "id": "a8397ba2-b818-469f-aa41-0f11cca1e9d2",
   "metadata": {},
   "outputs": [],
   "source": [
    "imgs_pths2 = os.listdir(r'B:\\t3cc7221\\orand-car-with-bbs\\training2\\images')"
   ]
  },
  {
   "cell_type": "code",
   "execution_count": 108,
   "id": "2ef899f3-8b87-4c1c-ac66-650b4d744b50",
   "metadata": {},
   "outputs": [
    {
     "data": {
      "text/plain": [
       "0"
      ]
     },
     "execution_count": 108,
     "metadata": {},
     "output_type": "execute_result"
    }
   ],
   "source": [
    "cont=0\n",
    "for i in range(len(val_data)):\n",
    "    for j in range(len(imgs_pths2)):\n",
    "        if val_data[i] == imgs_pths2[j]:\n",
    "            cont +=1\n",
    "cont"
   ]
  },
  {
   "cell_type": "code",
   "execution_count": null,
   "id": "2866508f-4abf-4cac-afe6-49e8d0875546",
   "metadata": {},
   "outputs": [],
   "source": []
  }
 ],
 "metadata": {
  "kernelspec": {
   "display_name": "cc7221",
   "language": "python",
   "name": "cc7221"
  },
  "language_info": {
   "codemirror_mode": {
    "name": "ipython",
    "version": 3
   },
   "file_extension": ".py",
   "mimetype": "text/x-python",
   "name": "python",
   "nbconvert_exporter": "python",
   "pygments_lexer": "ipython3",
   "version": "3.9.2"
  }
 },
 "nbformat": 4,
 "nbformat_minor": 5
}
