{
 "cells": [
  {
   "cell_type": "code",
   "execution_count": 97,
   "id": "3347d227-22b0-4423-8223-3f969682b091",
   "metadata": {},
   "outputs": [],
   "source": [
    "import numpy as np\n",
    "import os\n",
    "import cv2"
   ]
  },
  {
   "cell_type": "code",
   "execution_count": 171,
   "id": "cfc44d21-a7f1-4a2f-a9aa-a1a298b409ed",
   "metadata": {},
   "outputs": [],
   "source": [
    "def to_yoloformat(txt_path: str, img_path: str, name_path: str):\n",
    "    d = []\n",
    "    ft_path = txt_path+'\\\\'+name_path #direccion del txt\n",
    "    fi_path =  img_path+'\\\\'+name_path[0:-3]+ 'png'#direccion de la imagen\n",
    "\n",
    "    with open(ft_path) as source: #leer el archivo txt linea a linea\n",
    "        for line in source:\n",
    "            fields = line.split(':')\n",
    "            d.append(fields)\n",
    "            \n",
    "    d2 = []\n",
    "    for i in range(len(d)-1): #separar la lista segun las ,\n",
    "        d2.append(d[i][1][0:-1].split(','))\n",
    "    d2.append(d[len(d)-1][1].split(','))\n",
    "    \n",
    "    file = open(txt_path+'2\\\\'+name_path, \"w\")\n",
    "    img = cv2.imread(fi_path)#leer imagen y obtener sus dimensiones\n",
    "    img_h = img.shape[0]\n",
    "    img_w = img.shape[1]\n",
    "    for i in range(len(d2)):# transformar los valores a formato yolo\n",
    "        fin = list(map(int, d2[i]))\n",
    "        x = (fin[0]+fin[2])/img_w\n",
    "        y = (fin[1]+fin[3])/img_h\n",
    "        width = fin[2]/img_w\n",
    "        height = fin[3]/img_h\n",
    "        \n",
    "        \n",
    "        file.write(d[i][0]+': '+str(x)+', '+str(y)+', '+str(width) + ', '+str(height) +'\\n')# escribe en una linea\n",
    "    \n",
    "    \n",
    "    "
   ]
  },
  {
   "cell_type": "code",
   "execution_count": 172,
   "id": "c6395ab6-429e-4ad6-8b0a-20215119f3ed",
   "metadata": {},
   "outputs": [],
   "source": [
    "to_yoloformat(dirs,'B:\\\\t3cc7221\\\\orand-car-with-bbs\\\\training\\\\images','0001_5179655_46066.txt')"
   ]
  },
  {
   "cell_type": "code",
   "execution_count": 113,
   "id": "ce6060dd-4728-4c3e-ace4-c15d972e3de0",
   "metadata": {},
   "outputs": [],
   "source": [
    "img1= cv2.imread('B:\\\\t3cc7221\\\\orand-car-with-bbs\\\\training\\\\images\\\\0001_5179655_46066.png')"
   ]
  },
  {
   "cell_type": "code",
   "execution_count": 158,
   "id": "b7650586-6a18-46f6-bbbb-ab01f1d833ab",
   "metadata": {},
   "outputs": [],
   "source": [
    "txt_path = r'B:\\t3cc7221\\orand-car-with-bbs\\training\\annotations'\n",
    "img_path =r'B:\\\\t3cc7221\\\\orand-car-with-bbs\\\\training\\\\images'\n",
    "names_paths = os.listdir(txt_path)"
   ]
  },
  {
   "cell_type": "code",
   "execution_count": 173,
   "id": "3dcfdbfe-b045-4ee7-895b-3f65c1d84d14",
   "metadata": {},
   "outputs": [],
   "source": [
    "for i in range(len(names_paths)):\n",
    "    to_yoloformat(txt_path,img_path,names_paths[i])"
   ]
  },
  {
   "cell_type": "code",
   "execution_count": null,
   "id": "0003e5b1-4831-470b-9550-ad53dfe12968",
   "metadata": {},
   "outputs": [],
   "source": []
  }
 ],
 "metadata": {
  "kernelspec": {
   "display_name": "Python 3",
   "language": "python",
   "name": "python3"
  },
  "language_info": {
   "codemirror_mode": {
    "name": "ipython",
    "version": 3
   },
   "file_extension": ".py",
   "mimetype": "text/x-python",
   "name": "python",
   "nbconvert_exporter": "python",
   "pygments_lexer": "ipython3",
   "version": "3.9.2"
  }
 },
 "nbformat": 4,
 "nbformat_minor": 5
}
