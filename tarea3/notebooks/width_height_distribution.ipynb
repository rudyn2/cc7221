{
 "cells": [
  {
   "cell_type": "code",
   "execution_count": 23,
   "id": "187c6172",
   "metadata": {},
   "outputs": [],
   "source": [
    "import cv2\n",
    "import glob \n",
    "import os\n",
    "import matplotlib.pyplot as plt\n",
    "import numpy as np\n",
    "\n",
    "training_folder = \"/home/rudy/Documents/cc7221/tarea3/data/orand-car-with-bbs/training\"\n",
    "images = glob.glob(os.path.join(training_folder, \"images/*\"))"
   ]
  },
  {
   "cell_type": "code",
   "execution_count": 4,
   "id": "b637d297",
   "metadata": {},
   "outputs": [],
   "source": [
    "images_ = [cv2.imread(img)for img in images]"
   ]
  },
  {
   "cell_type": "code",
   "execution_count": 18,
   "id": "a1556cf3",
   "metadata": {},
   "outputs": [],
   "source": [
    "widths = [img.shape[1] for img in images_]\n",
    "heights = [img.shape[0] for img in images_]"
   ]
  },
  {
   "cell_type": "code",
   "execution_count": 6,
   "id": "034ce1df",
   "metadata": {},
   "outputs": [],
   "source": []
  },
  {
   "cell_type": "code",
   "execution_count": 30,
   "id": "b5eb8ade",
   "metadata": {},
   "outputs": [
    {
     "name": "stdout",
     "output_type": "stream",
     "text": [
      "MEAN: 272\n"
     ]
    },
    {
     "data": {
      "image/png": "[encoded data removed]",
      "text/plain": [
       "<Figure size 432x288 with 1 Axes>"
      ]
     },
     "metadata": {
      "needs_background": "light"
     },
     "output_type": "display_data"
    }
   ],
   "source": [
    "plt.hist(widths, bins=50, density=True);\n",
    "width_mean = np.mean(widths)\n",
    "print(f\"WIDTH MEAN: {width_mean:.0f}\")"
   ]
  },
  {
   "cell_type": "code",
   "execution_count": 31,
   "id": "42f1f3d8",
   "metadata": {},
   "outputs": [
    {
     "name": "stdout",
     "output_type": "stream",
     "text": [
      "HEIGHT MEAN: 65\n"
     ]
    },
    {
     "data": {
      "image/png": "[encoded data removed]",
      "text/plain": [
       "<Figure size 432x288 with 1 Axes>"
      ]
     },
     "metadata": {
      "needs_background": "light"
     },
     "output_type": "display_data"
    }
   ],
   "source": [
    "plt.hist(heights, bins=50, density=True);\n",
    "height_mean = np.mean(heights)\n",
    "print(f\"HEIGHT MEAN: {height_mean:.0f}\")"
   ]
  },
  {
   "cell_type": "code",
   "execution_count": null,
   "id": "45980fb0",
   "metadata": {},
   "outputs": [],
   "source": []
  }
 ],
 "metadata": {
  "kernelspec": {
   "display_name": "tsad",
   "language": "python",
   "name": "tsad"
  },
  "language_info": {
   "codemirror_mode": {
    "name": "ipython",
    "version": 3
   },
   "file_extension": ".py",
   "mimetype": "text/x-python",
   "name": "python",
   "nbconvert_exporter": "python",
   "pygments_lexer": "ipython3",
   "version": "3.8.8"
  }
 },
 "nbformat": 4,
 "nbformat_minor": 5
}
